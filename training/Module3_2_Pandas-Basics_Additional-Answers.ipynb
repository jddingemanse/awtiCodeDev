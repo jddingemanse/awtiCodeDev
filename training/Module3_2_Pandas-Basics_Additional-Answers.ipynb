{
 "cells": [
  {
   "cell_type": "markdown",
   "id": "52d0c993",
   "metadata": {},
   "source": [
    "## 3.2 Additional practice\n",
    "Below code imports the CSV file `Module3_2_dayData.csv` as a Pandas DataFrame. It contains daily Ethiopian Meteorology Institute (EMI) station data for different stations and elements. With the tools you learned, you can select parts of this DataFrame."
   ]
  },
  {
   "cell_type": "code",
   "execution_count": null,
   "id": "06215972",
   "metadata": {},
   "outputs": [],
   "source": [
    "import pandas as pd\n",
    "dayData = pd.read_csv('Module3_2_dayData.csv')\n",
    "dayData"
   ]
  },
  {
   "cell_type": "markdown",
   "id": "aa96cc3e",
   "metadata": {},
   "source": [
    "With Boolean slicing, we can filter the DataFrame. For example, to get all TMPMAX values for the station Gondar A.P., you can use below code."
   ]
  },
  {
   "cell_type": "code",
   "execution_count": null,
   "id": "b261c8ad",
   "metadata": {},
   "outputs": [],
   "source": [
    "dayData.loc[(dayData.station == 'Gondar A.P.') & (dayData.element == 'TMPMAX')]"
   ]
  },
  {
   "cell_type": "code",
   "execution_count": null,
   "id": "4903b04f",
   "metadata": {},
   "outputs": [],
   "source": [
    "# Select all rows for station Shembekit\n",
    "dayData.loc[(dayData.station == 'Shembekit')]"
   ]
  },
  {
   "cell_type": "code",
   "execution_count": null,
   "id": "66dafeb6",
   "metadata": {},
   "outputs": [],
   "source": [
    "# Select all rows for station Ambagiorgis Sch, for the year 1972 only\n",
    "dayData.loc[(dayData.station == 'Ambagiorgis Sch') & (dayData.year == 1972)]"
   ]
  },
  {
   "cell_type": "markdown",
   "id": "9633d747",
   "metadata": {},
   "source": [
    "Numpy as several mathematical functions. You can put any part of the DataFrame into those functions. For example, to calculate the sum of PRECIP for station Shembekit in 2015, we need to select that data, and then take the sum with `np.sum`."
   ]
  },
  {
   "cell_type": "code",
   "execution_count": null,
   "id": "3cd4da0d",
   "metadata": {},
   "outputs": [],
   "source": [
    "import numpy as np\n",
    "# Select only Shembekit, 2015, PRECIP, and save it under the name precip_sh_2015\n",
    "precip_sh_2015 = dayData.loc[(dayData.station == 'Shembekit') & (dayData.year == 2015) & (dayData.element == 'PRECIP')] \n",
    "\n",
    "# Select only column 'value', and take the sum of this column\n",
    "precip_sum = np.sum(precip_sh_2015.value) \n",
    "\n",
    "print(precip_sum)"
   ]
  },
  {
   "cell_type": "code",
   "execution_count": null,
   "id": "7f7dd18d",
   "metadata": {},
   "outputs": [],
   "source": [
    "# What is the average TMPMAX for Gondar A.P.?\n",
    "tempmax_gondar = dayData.loc[(dayData.station == 'Gondar A.P.') & (dayData.element == 'TMPMAX')]\n",
    "\n",
    "tempmax_avg = np.mean(tempmax_gondar.value)\n",
    "\n",
    "print(tempmax_avg)"
   ]
  },
  {
   "cell_type": "code",
   "execution_count": null,
   "id": "4fca2a56",
   "metadata": {},
   "outputs": [],
   "source": [
    "# What is the maximum SUNHRS for Gondar A.P. in the month August, 2012?\n",
    "sun_gondar_aug2012 = dayData.loc[(dayData.station == 'Gondar A.P.') & (dayData.element == 'SUNHRS') & \n",
    "                                 (dayData.year == 2012) & (dayData.month == 8)]\n",
    "\n",
    "sunmax_gondar_aug2012 = np.max(sun_gondar_aug2012.value)\n",
    "\n",
    "print(sunmax_gondar_aug2012)"
   ]
  },
  {
   "cell_type": "code",
   "execution_count": null,
   "id": "85b0c695",
   "metadata": {},
   "outputs": [],
   "source": [
    "# What are the minimum and maximum years for station Aymba?\n",
    "aymba_data = dayData.loc[(dayData.station == 'Aymba')]\n",
    "\n",
    "aymba_minyear = np.min(aymba_data.year)\n",
    "aymba_maxyear = np.max(aymba_data.year)\n",
    "\n",
    "print('Minimum year of station Aymba:', aymba_minyear)\n",
    "print('Maximum year of station Aymba:', aymba_maxyear)"
   ]
  },
  {
   "cell_type": "markdown",
   "id": "33deb99e",
   "metadata": {},
   "source": [
    "We know how to combine two conditions using the **&** symbol. For example, when we want only the rows from station Shembekit of the year 2015, we can use the following code:\n",
    "```python\n",
    "dayData.loc[(dayData.station == 'Shembekit') & (dayData.year == 2015)]\n",
    "```\n",
    "\n",
    "But if we now want to select all rows where the year is either 2015 OR 2016, we should not use the **&** symbol, but we can use the **|** symbol, like this:\n",
    "\n",
    "```python\n",
    "dayData.loc[(dayData.year == 2015) | (dayData.year == 2016)]\n",
    "```\n",
    "\n",
    "If we now want to combine this with selecting a station, we need to put the selection of years within brackets, like this:\n",
    "\n",
    "```python\n",
    "dayData.loc[(dayData.station == 'Shembekit') & ((dayData.year == 2015) | (dayData.year == 2016))]\n",
    "```\n"
   ]
  },
  {
   "cell_type": "code",
   "execution_count": null,
   "id": "2d586375",
   "metadata": {},
   "outputs": [],
   "source": [
    "# Select all rows with years 2011 or 2012\n",
    "dayData.loc[(dayData.year == 2011) | (dayData.year == 2012)]"
   ]
  },
  {
   "cell_type": "code",
   "execution_count": null,
   "id": "bb0a1bc2",
   "metadata": {},
   "outputs": [],
   "source": [
    "# Select all rows of station Aymba for the years 2009 or 2010\n",
    "dayData.loc[(dayData.station == 'Aymba') & ((dayData.year == 2009) | (dayData.year == 2010))]"
   ]
  },
  {
   "cell_type": "code",
   "execution_count": null,
   "id": "2abb1c14",
   "metadata": {},
   "outputs": [],
   "source": [
    "# Advanced: Of station Maksegnit, select the values where element is PRECIP for year 2000 or 2001\n",
    "dayData.loc[(dayData.station == 'Maksegnit') & (dayData.element == 'PRECIP') & ((dayData.year == 2000) | (dayData.year == 2001))]"
   ]
  },
  {
   "cell_type": "code",
   "execution_count": null,
   "id": "16e01008",
   "metadata": {},
   "outputs": [],
   "source": [
    "# Advanced: change below for-loop to calculate the sum of PRECIP per station, and store it in the dictionary precipDict\n",
    "precip_dict = {}\n",
    "\n",
    "for station in ['Ambagiorgis Sch','Aymba','Chewahit','Gondar A.P.','Maksegnit','Shembekit']:\n",
    "    # Add code that calculates the sum of precip for only station\n",
    "    precip_station = dayData.loc[(dayData.station == station) & (dayData.element == 'PRECIP')]\n",
    "    precip_sum = np.sum(precip_station.value)\n",
    "    \n",
    "    # Add code that adds the calculated sum into precip_dict, like precip_dict[station] = sum\n",
    "    precip_dict[station] = round(precip_sum, 1)\n",
    "\n",
    "precip_dict"
   ]
  },
  {
   "cell_type": "code",
   "execution_count": null,
   "id": "b506ef6a",
   "metadata": {},
   "outputs": [],
   "source": [
    "# Advanced: change below for-loop to calculate the sum of PRECIP per year for Aymba, and store it in the dictionary precipDictAymba\n",
    "startyear = np.min(dayData.loc[(dayData.station == 'Aymba'), 'year']) \n",
    "endyear = np.max(dayData.loc[(dayData.station == 'Aymba'), 'year']) \n",
    "aymba_precip_dict = {}\n",
    "\n",
    "for year in range(startyear, endyear+1):\n",
    "    # Add code that calculates the sum of precip for only Aymba, only one year\n",
    "    aymba_precip = dayData.loc[(dayData.station == 'Aymba') & (dayData.year == year) & (dayData.element == 'PRECIP')]\n",
    "    aymba_precip_sum = np.sum(aymba_precip.value)\n",
    "    \n",
    "    # Add code that adds the calculated sum into aymba_precip_dict, like aymba_precip_dict[year]=sum\n",
    "    aymba_precip_dict[year] = round(aymba_precip_sum, 1)\n",
    "\n",
    "aymba_precip_dict"
   ]
  }
 ],
 "metadata": {
  "kernelspec": {
   "display_name": "Python 3 (ipykernel)",
   "language": "python",
   "name": "python3"
  },
  "language_info": {
   "codemirror_mode": {
    "name": "ipython",
    "version": 3
   },
   "file_extension": ".py",
   "mimetype": "text/x-python",
   "name": "python",
   "nbconvert_exporter": "python",
   "pygments_lexer": "ipython3",
   "version": "3.9.12"
  }
 },
 "nbformat": 4,
 "nbformat_minor": 5
}
