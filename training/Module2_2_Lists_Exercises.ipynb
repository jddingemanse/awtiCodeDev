{
 "cells": [
  {
   "cell_type": "markdown",
   "metadata": {},
   "source": [
    "# Lists\n",
    "- We already discussed the basics of lists in a previous notebook\n",
    "- A list is a variable that contains multiple items.\n",
    "- Each item has an index, revealing the location in the list\n",
    "    - **The index starts counting at 0**, so the first item has index 0 and the second item has index 1, etc etc.\n",
    "- A list is created between square brackets, the items are separated between commas."
   ]
  },
  {
   "cell_type": "code",
   "execution_count": null,
   "metadata": {},
   "outputs": [],
   "source": [
    "#Example lists\n",
    "city_names = ['Addis Abeba', 'Arba Minch', 'Awasa', 'Amaro', 'Sodo']\n",
    "temperatures = [20.5, 20.2, 20.87, 21.33, 29.89]\n",
    "humidity = [20, 22, 27, 81, 76, 69]\n",
    "# use print to show the lists\n",
    "print(city_names)\n",
    "print(temperatures)\n",
    "print(humidity)"
   ]
  },
  {
   "cell_type": "code",
   "execution_count": null,
   "metadata": {},
   "outputs": [],
   "source": [
    "#Lists can also be created using variables\n",
    "temp1 = 25.4\n",
    "temp2 = 36.1\n",
    "temp3 = 27.4\n",
    "\n",
    "temps = [temp1, temp2, temp3]   #creates a list containing the variables temp1, temp2, and temp3, thus the same as [25.4, 36.1, 27.4]\n",
    "print(temps)"
   ]
  },
  {
   "cell_type": "code",
   "execution_count": null,
   "metadata": {},
   "outputs": [],
   "source": [
    "#You can also make a list of lists\n",
    "city_temperatures = [city_names, temperatures]  #creates a list containing the list of cities and the list of temperatures.\n",
    "\n",
    "print(city_temperatures)\n",
    "print(city_temperatures[0])    #this is the item at index 0, thus the list city_names\n",
    "print(city_temperatures[1])    #this is the item at index 1, thus the list temperatures"
   ]
  },
  {
   "cell_type": "code",
   "execution_count": null,
   "metadata": {},
   "outputs": [],
   "source": [
    "# Code to make an empty list\n",
    "my_list = [] # creates an empty list called my_list\n",
    "print (my_list)"
   ]
  },
  {
   "cell_type": "markdown",
   "metadata": {},
   "source": [
    "### Write your code to make lists: \n",
    "1. a new list called `fruits` containing elements: 'Banana', 'Mango', 'Papaya', 'Lemon'\n",
    "2. a new list called `names` containing names: 'John', 'Jane', 'Will', 'Mary'\n",
    "3. a new list called `mixed_list` containing at least 1 string, 1 integer, and 1 boolean\n",
    "4. show/print what is in the created lists"
   ]
  },
  {
   "cell_type": "code",
   "execution_count": null,
   "metadata": {},
   "outputs": [],
   "source": [
    "# Write your code to make lists here\n",
    "# 1. a new list called fruits containing elements: 'Banana', 'Mango', 'Papaya', 'Lemon'\n"
   ]
  },
  {
   "cell_type": "code",
   "execution_count": null,
   "metadata": {},
   "outputs": [],
   "source": [
    "# 2. a new list called names containing names: 'John', 'Jane', 'Will', 'Mary'\n"
   ]
  },
  {
   "cell_type": "code",
   "execution_count": null,
   "metadata": {},
   "outputs": [],
   "source": [
    "# 3. a new list called mixed_list containing at least 1 string, 1 integer, and 1 boolean\n"
   ]
  },
  {
   "cell_type": "code",
   "execution_count": null,
   "metadata": {
    "scrolled": true
   },
   "outputs": [],
   "source": [
    "# 4. show/print what is in the created lists\n"
   ]
  },
  {
   "cell_type": "markdown",
   "metadata": {},
   "source": [
    "## Accessing Lists\n",
    "\n",
    "1. Using the lists that you have created, print what is stored at index 1 of the list ```fruits```\n",
    "2. Print the index of 'Mango' in the list `fruits` using \n",
    "```python\n",
    "fruits.index('Mango')\n",
    "```"
   ]
  },
  {
   "cell_type": "code",
   "execution_count": null,
   "metadata": {},
   "outputs": [],
   "source": [
    "# 1. Using the lists that you have created, print what is stored at index 1 of the list fruits\n",
    "\n",
    "# 2. Print the index of 'Mango' in the list fruits using fruits.index('Mango')\n"
   ]
  },
  {
   "cell_type": "markdown",
   "metadata": {},
   "source": [
    "# Basic List operations\n",
    "\n",
    "- Lists can be modified just like strings\n",
    "- ```[\"h\", \"e\", \"l\"] + [\"l\", \"o\"]``` gives one list containing all 5 characters\n",
    "- ```len(my_list)``` returns the amount of items in the list\n",
    "- ```max(my_list)``` returns the largest item in the list\n",
    "- ```min(my_list)``` returns the smallest item in the list\n",
    "- ```my_list1 == my_list2``` compares two lists"
   ]
  },
  {
   "cell_type": "code",
   "execution_count": null,
   "metadata": {},
   "outputs": [],
   "source": [
    "# Try some list operations\n",
    "my_list = [1, 2, 5] + [3, 4, 6] # creates a list called my_list by combining two lists (list [1,2,5] and list [3,4,6])\n",
    "print(my_list) # prints what is in list called my_list"
   ]
  },
  {
   "cell_type": "code",
   "execution_count": null,
   "metadata": {},
   "outputs": [],
   "source": [
    "print (['A']*4) # prints list ['A','A','A','A']"
   ]
  },
  {
   "cell_type": "code",
   "execution_count": null,
   "metadata": {},
   "outputs": [],
   "source": [
    "print(len(my_list)) # prints the number of variable/entries in list my_list"
   ]
  },
  {
   "cell_type": "code",
   "execution_count": null,
   "metadata": {},
   "outputs": [],
   "source": [
    "print(max(my_list)) # prints the maximum value in list my_list\n",
    "print(min(my_list)) # prints the minimum values in list my_list"
   ]
  },
  {
   "cell_type": "code",
   "execution_count": null,
   "metadata": {},
   "outputs": [],
   "source": [
    "# compares two lists, returns True when the lists are the same, False when different\n",
    "print(([1,2,5] == [3,4,6])) \n",
    "print(([1,3,5] == [1,2,5])) \n",
    "print(([1,2,5] == [1,2,5])) "
   ]
  },
  {
   "cell_type": "markdown",
   "metadata": {},
   "source": [
    "## Basic List operations - Exercise\n",
    "Given is the list of precipitations: \n",
    "\n",
    "`precipitations = [33.2, 45.6, 23.1, 65.5]`\n",
    "\n",
    "1. Create a new variable `new_precip` with value 11.7 inside square brackets [ ] (a small list)\n",
    "\n",
    "2. Make a new list with `new_precip` added to the existing list of precipitations \n",
    "\n",
    "3. Make a new list containing 3 repetitions of `precipitations` and 4 repetitions of `new_precip`\n",
    "\n",
    "4. What is the length of the list you just created (at question 3)?\n",
    "\n",
    "5. What is the maximum value of the list?\n",
    "\n",
    "6. What is the minimum value of the list? \n"
   ]
  },
  {
   "cell_type": "code",
   "execution_count": null,
   "metadata": {},
   "outputs": [],
   "source": [
    "precipitations = [33.2, 45.6, 23.1, 65.5]"
   ]
  },
  {
   "cell_type": "code",
   "execution_count": null,
   "metadata": {},
   "outputs": [],
   "source": [
    "# 1. Create a new variable new_precip with value 11.7\n"
   ]
  },
  {
   "cell_type": "code",
   "execution_count": null,
   "metadata": {},
   "outputs": [],
   "source": [
    "# 2. Make a new list with new_precip added to the existing list of precipitations\n"
   ]
  },
  {
   "cell_type": "code",
   "execution_count": null,
   "metadata": {},
   "outputs": [],
   "source": [
    "# 3. Make a new list containing 3 repetitions of precipitations and 4 repetitions of new_precip\n"
   ]
  },
  {
   "cell_type": "code",
   "execution_count": null,
   "metadata": {},
   "outputs": [],
   "source": [
    "# 4. to 6. length, max and min\n"
   ]
  },
  {
   "cell_type": "markdown",
   "metadata": {},
   "source": [
    "# Looping Lists\n",
    "- As described in a previous notebook, we can loop trough each item in a list using\n",
    "```python\n",
    "fruits = ['Banana', 'Mango', 'Papaya', 'Lemon']\n",
    "for item in fruits:\n",
    "    print(item)\n",
    "```\n",
    "- ```range(10)``` is a function that returns a list of 0 with in this case 10 items from 0,1,2,3,4,5,6,7,8,9\n",
    "- If we want to loop trough all the indices of the list we can combine ```len()``` and ```range()``` to get;\n",
    "```python\n",
    "fruits = ['Banana', 'Mango', 'Papaya', 'Lemon']\n",
    "for index in range(len(fruits)):\n",
    "    print(index)\n",
    "```\n",
    "- If we want both the index and the value we can use ```enumerate()``` in the for loop\n",
    "```python\n",
    "fruits = ['Banana', 'Mango', 'Papaya', 'Lemon']\n",
    "for index, item in enumerate(fruits):\n",
    "    print(index, item) \n",
    "```\n",
    "- You can try the results of the above examples in underlying code block\n"
   ]
  },
  {
   "cell_type": "code",
   "execution_count": null,
   "metadata": {},
   "outputs": [],
   "source": [
    "fruits = ['Banana', 'Mango', 'Papaya', 'Lemon']\n",
    "for item in fruits:\n",
    "    print(item)"
   ]
  },
  {
   "cell_type": "code",
   "execution_count": null,
   "metadata": {},
   "outputs": [],
   "source": [
    "fruits = ['Banana', 'Mango', 'Papaya', 'Lemon']\n",
    "for index in range(len(fruits)):\n",
    "    print(index)"
   ]
  },
  {
   "cell_type": "code",
   "execution_count": null,
   "metadata": {},
   "outputs": [],
   "source": [
    "fruits = ['Banana', 'Mango', 'Papaya', 'Lemon']\n",
    "for index, item in enumerate(fruits):\n",
    "    print(index, item) "
   ]
  },
  {
   "cell_type": "markdown",
   "metadata": {},
   "source": [
    "Some more examples:"
   ]
  },
  {
   "cell_type": "code",
   "execution_count": null,
   "metadata": {},
   "outputs": [],
   "source": [
    "my_list = [\"Python\", \"is\", \"great\"]\n",
    "\n",
    "for item in my_list: # to get each item (entry) in list called my_list\n",
    "    print(item)     "
   ]
  },
  {
   "cell_type": "code",
   "execution_count": null,
   "metadata": {},
   "outputs": [],
   "source": [
    "# range() is a function that returns a list containing numbers\n",
    "print(list(range(10))) # prints list [0, 1, 2, 3, 4, 5, 6, 7, 8, 9] as range"
   ]
  },
  {
   "cell_type": "code",
   "execution_count": null,
   "metadata": {},
   "outputs": [],
   "source": [
    "# Show what is in range(10)\n",
    "for entry in range(10):\n",
    "    print(entry)"
   ]
  },
  {
   "cell_type": "code",
   "execution_count": null,
   "metadata": {},
   "outputs": [],
   "source": [
    "# If we need only the index of a list\n",
    "for index in range(len(my_list)): # get each index (number) in the list created by range(len())\n",
    "    print(index)                  "
   ]
  },
  {
   "cell_type": "code",
   "execution_count": null,
   "metadata": {},
   "outputs": [],
   "source": [
    "# If we need both the index and the item\n",
    "for index, item in enumerate(my_list): # get each combination of index and item in enumerate(my_list)\n",
    "    print(index, item)                 "
   ]
  },
  {
   "cell_type": "markdown",
   "metadata": {
    "collapsed": true
   },
   "source": [
    "# Looping Lists - Exercise (Assignment type)\n",
    "\n",
    "1. For `list1 = ['Blue', 'Yellow', 'Pink', 'Red', 'Green', 'Purple']`, print the length of each string in the list, using a for loop\n",
    "\n",
    "\n",
    "2. For `list1`, loop over the list and print only the first letter of every word \n",
    "    - (hint: use the square brackets and index, e.g., `'example'[2]` outputs `'a'`)\n",
    "\n",
    "\n",
    "3. For `list2 = [234, 543, 656, 765, 231, 111, 754, 245, 879, 777, 646, 453, 732, 134]`, loop over the values and print the value squared \n",
    "    - (hint: the pythonic way to do a value squared is `value ** 2`)\n",
    "    \n",
    "\n",
    "4. For `list2`, loop over the first 10 values and print 'higher' if the value is higher than 500, and print 'lower' if the value is lower than 500 \n",
    "    - (hint: use slicing to select only the first part of the list (e.g., `my_list[0:5]`), and use `if` and `else` to check if the value is higher or lower than 500)"
   ]
  },
  {
   "cell_type": "code",
   "execution_count": null,
   "metadata": {},
   "outputs": [],
   "source": [
    "# 1. For list1, print the length of each string in the list, using a for loop\n",
    "list1 = ['Blue', 'Yellow', 'Pink', 'Red', 'Green', 'Purple']\n"
   ]
  },
  {
   "cell_type": "code",
   "execution_count": null,
   "metadata": {},
   "outputs": [],
   "source": [
    "# 2. For list1, loop over the list and print only the first letter of every word\n",
    "# (hint: use the square brackets and index, e.g., 'example'[2] outputs 'a')\n"
   ]
  },
  {
   "cell_type": "code",
   "execution_count": null,
   "metadata": {},
   "outputs": [],
   "source": [
    "# 3. For list2, loop over the values and print the value squared\n",
    "# (hint: the pythonic way to do a value squared is value ** 2)\n",
    "list2 = [234, 543, 656, 765, 231, 111, 754, 245, 879, 777, 646, 453, 732, 134]\n"
   ]
  },
  {
   "cell_type": "code",
   "execution_count": null,
   "metadata": {},
   "outputs": [],
   "source": [
    "# 4. For list2, loop over the first 10 values and print 'higher' if the value is higher than 500, \n",
    "# and print 'lower' if the value is lower than 500\n",
    "# (hint: use slicing to select only the first part of the list (e.g., my_list[0:5]), \n",
    "# and use if and else to check if the value is higher or lower than 500)\n"
   ]
  },
  {
   "cell_type": "markdown",
   "metadata": {
    "collapsed": true
   },
   "source": [
    "## Modifying Lists\n",
    "There are multiple ways to modify a list. \n",
    "- `my_list.append(value)` can be used to add an item to a list\n",
    "- `my_list.insert(index, value)` can be used to insert an item in a list\n",
    "- `my_list.remove(value)` can be used to remove a value from a list\n",
    "- `my_list.sort()` can be used to sort the values in a list\n",
    "\n",
    "Check the examples below:"
   ]
  },
  {
   "cell_type": "code",
   "execution_count": null,
   "metadata": {
    "scrolled": true
   },
   "outputs": [],
   "source": [
    "my_list = list(range(20))\n",
    "print(my_list)"
   ]
  },
  {
   "cell_type": "code",
   "execution_count": null,
   "metadata": {},
   "outputs": [],
   "source": [
    "# .append(value) can be used to add an item to a list\n",
    "my_list.append(1.4)\n",
    "print(my_list)"
   ]
  },
  {
   "cell_type": "code",
   "execution_count": null,
   "metadata": {},
   "outputs": [],
   "source": [
    "# .insert(index, value) can be used to insert an item in a list\n",
    "my_list.insert(4, 999)\n",
    "print(my_list)"
   ]
  },
  {
   "cell_type": "code",
   "execution_count": null,
   "metadata": {},
   "outputs": [],
   "source": [
    "# .remove(value) can be used to remove a value from a list\n",
    "my_list.remove(1)\n",
    "print(my_list)"
   ]
  },
  {
   "cell_type": "code",
   "execution_count": null,
   "metadata": {},
   "outputs": [],
   "source": [
    "# .sort() can be used to sort the items in a list\n",
    "print('Unsorted list: ', my_list)\n",
    "my_list.sort()\n",
    "print('Sorted list: ', my_list)"
   ]
  },
  {
   "cell_type": "code",
   "execution_count": null,
   "metadata": {},
   "outputs": [],
   "source": [
    "# the .sort() method also words for lists with strings. How are the strings ordered?\n",
    "my_strings = ['test', 'sorting', 'some', 'random', 'words', 'using', 'a', 'sorting', 'method']\n",
    "my_strings.sort()\n",
    "print(my_strings)"
   ]
  },
  {
   "cell_type": "markdown",
   "metadata": {},
   "source": [
    "## Modifying lists - Exercises\n",
    "\n",
    "1. Create a list called `num_list` using `list(range(20, 40, 2))` and print the list\n",
    "\n",
    "2. Add the numbers 10, 15, 31, and 40 to `num_list` and print the list\n",
    "    - Hint: first put the numbers in a list and then concatenate, or use `.append()` four times (because it can only add one value)\n",
    "    \n",
    "\n",
    "3. Remove number 30 from the list and print the list (hint: use the method `.remove()`)\n",
    "\n",
    "4. Insert a 0 at index 0 and print the list (hint: use the method `.insert()`)\n",
    "\n",
    "5. Sort the list and print the list (hint: use the method `.sort()`)"
   ]
  },
  {
   "cell_type": "code",
   "execution_count": null,
   "metadata": {},
   "outputs": [],
   "source": [
    "# 1. Create a list called num_list using list(range(20, 40, 2)) and print the list\n"
   ]
  },
  {
   "cell_type": "code",
   "execution_count": null,
   "metadata": {},
   "outputs": [],
   "source": [
    "# 2. Add the numbers 10, 15, 31, and 40 to num_list and print the list\n"
   ]
  },
  {
   "cell_type": "code",
   "execution_count": null,
   "metadata": {},
   "outputs": [],
   "source": [
    "# 3. Remove number 30 from the list and print the list (hint: use the method .remove())\n"
   ]
  },
  {
   "cell_type": "code",
   "execution_count": null,
   "metadata": {},
   "outputs": [],
   "source": [
    "# 4. Insert a 0 at index 0 and print the list (hint: use the method .insert())\n"
   ]
  },
  {
   "cell_type": "code",
   "execution_count": null,
   "metadata": {},
   "outputs": [],
   "source": [
    "# 5. Sort the list and print the list (hint: use the method .sort())\n"
   ]
  },
  {
   "cell_type": "markdown",
   "metadata": {},
   "source": [
    "# Extra: Tuples\n",
    "\n",
    "#### Tuples are Python sequences (like lists) but unlike lists they are immutable (they cannot be changed). Tuples use parentheses and lists use square brackets.\n",
    "\n",
    "`tup1 = ('physics', 'chemistry', 1997, 2000)`\n",
    "\n",
    "`tup2 = (1, 2, 3, 4, 5)`\n",
    "\n",
    "`tup3 = ('a', 'b', 'c', 'd')`\n",
    "\n",
    "#### Accessing tuples\n",
    "\n",
    "Tuples can be accessed by using square brackets and indexing (just as with lists):\n",
    "\n",
    "print \"tup1[0]: \", tup1[0]\n",
    "\n",
    "print \"tup2[1:5]: \", tup2[1:5]\n",
    "\n",
    "#### Changing tuples is not possible. This code will give errors.\n",
    "\n",
    "`tup1[2] = 2015`"
   ]
  },
  {
   "cell_type": "code",
   "execution_count": null,
   "metadata": {},
   "outputs": [],
   "source": [
    "# Creating three tuples\n",
    "tup1 = ('physics', 'chemistry', 1997, 2000)\n",
    "tup2 = (1, 2, 3, 4, 5)\n",
    "tup3 = ('a', 'b', 'c', 'd')"
   ]
  },
  {
   "cell_type": "code",
   "execution_count": null,
   "metadata": {
    "scrolled": true
   },
   "outputs": [],
   "source": [
    "# Accessing tuples\n",
    "print(\"tup1[0]: \", tup1[0])\n",
    "print(\"tup2[1:5]: \", tup2[1:5])"
   ]
  },
  {
   "cell_type": "code",
   "execution_count": null,
   "metadata": {},
   "outputs": [],
   "source": [
    "# Trying to change a tuple will give an error\n",
    "tup1[2] = 2015"
   ]
  },
  {
   "cell_type": "markdown",
   "metadata": {},
   "source": [
    "**Two tuple exercises**\n",
    "1. Create your own tuple\n",
    "2. Access the first element of the tuple"
   ]
  },
  {
   "cell_type": "code",
   "execution_count": null,
   "metadata": {},
   "outputs": [],
   "source": [
    "# 1. Create your own tuple\n"
   ]
  },
  {
   "cell_type": "code",
   "execution_count": null,
   "metadata": {},
   "outputs": [],
   "source": [
    "# 2. Access the first element of the tuple\n"
   ]
  }
 ],
 "metadata": {
  "kernelspec": {
   "display_name": "Python 3 (ipykernel)",
   "language": "python",
   "name": "python3"
  },
  "language_info": {
   "codemirror_mode": {
    "name": "ipython",
    "version": 3
   },
   "file_extension": ".py",
   "mimetype": "text/x-python",
   "name": "python",
   "nbconvert_exporter": "python",
   "pygments_lexer": "ipython3",
   "version": "3.9.12"
  }
 },
 "nbformat": 4,
 "nbformat_minor": 1
}
