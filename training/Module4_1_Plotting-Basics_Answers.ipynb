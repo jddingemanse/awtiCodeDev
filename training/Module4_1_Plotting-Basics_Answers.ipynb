{
 "cells": [
  {
   "cell_type": "markdown",
   "metadata": {},
   "source": [
    "# Module 4.1 - Plotting Basics\n",
    "\n",
    "Matplotlib is a Python 2D plotting library which can produce publication quality figures.\n",
    "\n",
    "You can generate plots, histograms, power spectra, bar charts, errorcharts, scatterplots, etc, with just a few lines of code.\n",
    "\n",
    "Check the link for more details: https://matplotlib.org/stable/gallery/index.html\n",
    "\n",
    "-----------------------------------------------------------------------\n",
    "\n",
    "## Creating a basic plot\n",
    "\n",
    "- Use the following line to allow the plots to be displayed as part of the jupyter notebook:\n",
    "```    %matplotlib inline ```\n",
    "- After this, we need to import the plot module from matplotlib\n",
    "```python\n",
    "  %matplotlib inline\n",
    "  import matplotlib.pyplot as plt\n",
    "```\n",
    "- First, we create a new figure and new axes by using the code: `fig, ax = plt.subplots()`\n",
    "- The figure is (as the name says) the figure itself, while the axes is the place where data is plotted.\n",
    "- We can now plot a line by inputting an array of x-coordinates and an array of y-coordinates using the `.plot()` function on `ax` like this:\n",
    "``` ax.plot([1, 2, 3, 4], [2, 4, 6, 12]) ```"
   ]
  },
  {
   "cell_type": "code",
   "execution_count": null,
   "metadata": {
    "scrolled": true
   },
   "outputs": [],
   "source": [
    "# The following line to allows the plots to be displayed as part of the jupyter notebook\n",
    "%matplotlib inline\n",
    "\n",
    "# Import matplotlib's function pyplot to make simple plots\n",
    "import matplotlib.pyplot as plt # To avoid using big names rename the module as plt\n",
    "\n",
    "fig, ax = plt.subplots()\n",
    "ax.plot([1, 2, 3, 4], [2, 4, 6, 12]) "
   ]
  },
  {
   "attachments": {
    "image.png": {
     "image/png": "[encoded data removed]"
    }
   },
   "cell_type": "markdown",
   "metadata": {},
   "source": [
    "## Saving a plot\n",
    "\n",
    "Once you have created a figure (using the `fig, ax = plt.subplots()` function) and plotted some data (using the `ax.plot(SOME_DATA)` function), you can save your figure to a file. \n",
    "\n",
    "There are multiple filetypes you can save your plot in. Here are three common ones:\n",
    "- Saving your figure as .png: `fig.savefig('basic_plot.png')`\n",
    "- Saving your figure as .jpg: `fig.savefig('basic_plot.jpg')`\n",
    "- Saving your figure as .pdf: `fig.savefig('basic_plot.pdf')` (Use this one for publication.)\n",
    "\n",
    "Run the three cells below and try to find the created files in your file explorer.\n",
    "![image.png](attachment:image.png)"
   ]
  },
  {
   "cell_type": "code",
   "execution_count": null,
   "metadata": {},
   "outputs": [],
   "source": [
    "# In order to save the plot in the folder in which the script is located, an additional command is needed\n",
    "fig.savefig('basic_plot.png') # Save figure as .png!"
   ]
  },
  {
   "cell_type": "code",
   "execution_count": null,
   "metadata": {},
   "outputs": [],
   "source": [
    "# Now let's save our plot as a .jpg file\n",
    "fig.savefig('basic_plot.jpg') # Save figure as .jpg!"
   ]
  },
  {
   "cell_type": "code",
   "execution_count": null,
   "metadata": {},
   "outputs": [],
   "source": [
    "# And as .pdf (the one most useful for publication!)\n",
    "fig.savefig('basic_plot.pdf') # Save figure as .pdf!"
   ]
  },
  {
   "cell_type": "markdown",
   "metadata": {},
   "source": [
    "## Plotting data\n",
    "\n",
    "When plotting data using the `ax.plot()` function, you must give data as input to the function. There are two options:\n",
    "1. You input only one data series, then this is considered as data for the y-axis and the data for the x-axis will be by default `[0, 1, 2, 3, 4, 5, ...]`, with the same length as the y-axis data. \n",
    "    - Example: `ax.plot([1, 1, 2, 3, 5, 8, 13])`\n",
    "\n",
    "\n",
    "2. You input two data series, one for the x-axis and one for the y-axis. \n",
    "\n",
    "    - Example: `ax.plot([0, 2, 4, 6, 8, 10], [1, 2, 4, 8, 16, 32])`\n",
    "    \n",
    "In the cells below the examples are shown."
   ]
  },
  {
   "cell_type": "code",
   "execution_count": null,
   "metadata": {
    "scrolled": true
   },
   "outputs": [],
   "source": [
    "# Example with only y-axis data\n",
    "fig1, ax = plt.subplots()\n",
    "ax.plot([1, 1, 2, 3, 5, 8, 13])"
   ]
  },
  {
   "cell_type": "code",
   "execution_count": null,
   "metadata": {
    "scrolled": true
   },
   "outputs": [],
   "source": [
    "# Example with both x-axis and y-axis data\n",
    "fig2, ax = plt.subplots()\n",
    "ax.plot([0, 2, 4, 6, 8, 10], [1, 2, 4, 8, 16, 32])"
   ]
  },
  {
   "cell_type": "markdown",
   "metadata": {},
   "source": [
    "## Plotting data - Exercise\n",
    "1. Create two lists with random numbers, name them `x` and `y`, and make sure they have the same length! \n",
    "2. Create a new fig and ax using the function `plt.subplots()` and plot only `y` using the function `ax.plot()`\n",
    "3. Create a new fig and ax using the function `plt.subplots()` and plot both `x` and `y` using the function `ax.plot()`\n",
    "    - When supplying both x and y data, always first input the x-axis data and then the y-axis data, `ax.plot(x, y)` \n",
    "    \n",
    "    \n",
    "4. Save the last plot as a PDF file, using the name `'my_plot.pdf'`"
   ]
  },
  {
   "cell_type": "code",
   "execution_count": null,
   "metadata": {},
   "outputs": [],
   "source": [
    "# 1. Create two lists with random numbers and name them x and y\n",
    "x = [1000, 1337, 1411, 1448, 1485, 1559, 1600, 1596, 1633, 1707, 1744, 1781, 2000]\n",
    "y = [1, 1, 2, 3, 5, 8, 13, 21, 34, 55, 89, 144, 233]"
   ]
  },
  {
   "cell_type": "code",
   "execution_count": null,
   "metadata": {},
   "outputs": [],
   "source": [
    "# 2. Create a new fig and ax using the function plt.subplots() and plot only y using the function ax.plot()\n",
    "fig, ax = plt.subplots()\n",
    "ax.plot(y)"
   ]
  },
  {
   "cell_type": "code",
   "execution_count": null,
   "metadata": {},
   "outputs": [],
   "source": [
    "# 3. Create a new fig and ax using the function plt.subplots() and plot both x and 'y' using the function ax.plot()\n",
    "fig, ax = plt.subplots()\n",
    "ax.plot(x, y)\n",
    "\n",
    "fig.savefig('my_plot.pdf')"
   ]
  },
  {
   "cell_type": "code",
   "execution_count": null,
   "metadata": {},
   "outputs": [],
   "source": [
    "# 4. Save the last plot as a PDF file, using the name 'my_plot.pdf'\n",
    "# See cell above"
   ]
  },
  {
   "cell_type": "markdown",
   "metadata": {},
   "source": [
    "## Titles, labels and plotting multiple lines\n",
    "\n",
    "- There are many ways to change and upgrade your plot\n",
    "- Using the function `ax.set_` you can add many things to your plot (try out `ax.set_` and press **tab** to see the options)\n",
    "- Here are some examples:\n",
    "    - Give the x-axis a label: `ax.set_xlabel('Hours')`\n",
    "    - Give the y-axis a label: `ax.set_ylabel('Temperature')`\n",
    "    - Give the plot a title: `ax.set_title('Changing temperature over time')`\n"
   ]
  },
  {
   "cell_type": "code",
   "execution_count": null,
   "metadata": {
    "scrolled": true
   },
   "outputs": [],
   "source": [
    "# Create a figure and ax\n",
    "fig, ax = plt.subplots()\n",
    "\n",
    "# Plot a line\n",
    "import numpy as np\n",
    "x = range(25)\n",
    "y = np.random.randint(-10, 45, 25)\n",
    "ax.plot(x, y) \n",
    "\n",
    "# Add Label for the x-axis \n",
    "ax.set_xlabel('Hours') \n",
    "\n",
    "# Add Label for the y-axis \n",
    "ax.set_ylabel('Temperature') \n",
    "\n",
    "# Add Title to the plot \n",
    "ax.set_title('Changing temperature over time') "
   ]
  },
  {
   "cell_type": "markdown",
   "metadata": {},
   "source": [
    "### Plotting multiple lines\n",
    "\n",
    "It is possible to plot multiple lines in the same plot. To distinguish the lines you should give every line a label. Matplotlib automatically gives every line a different color. It is also possible to add a legend to your plot.  \n",
    "- To plot an extra line you just repeat again the plotting function: `ax.plot()`\n",
    "- To give the line a label, add the `label=` argument to the plot function and provide a name: `ax.plot(x1, y1, label='Data 1')`\n",
    "- You can add a legend to the plot by using the function `ax.legend()` (It will only contain the lines that have a label.)\n",
    "\n",
    "Here are two examples:"
   ]
  },
  {
   "cell_type": "code",
   "execution_count": null,
   "metadata": {},
   "outputs": [],
   "source": [
    "# Example 1\n",
    "\n",
    "# Creating fig and ax\n",
    "fig_example1, ax = plt.subplots()\n",
    "\n",
    "# Creating x and y\n",
    "x = np.array(range(100))\n",
    "y = np.array(range(100))\n",
    "\n",
    "# Plot variations of x and y\n",
    "ax.plot(x, y, label='Original data')\n",
    "ax.plot(x, y*2, label='Data doubled')\n",
    "ax.plot(x, y*3, label='Data tripled')\n",
    "ax.plot(x, y*4, label='Data quadrupled')\n",
    "\n",
    "# Add a legend\n",
    "ax.legend()"
   ]
  },
  {
   "cell_type": "code",
   "execution_count": null,
   "metadata": {
    "scrolled": true
   },
   "outputs": [],
   "source": [
    "# Example 2\n",
    "fig_example2, ax = plt.subplots()\n",
    "\n",
    "# First line\n",
    "x1 = np.array(range(10))\n",
    "y1 = [0] * 10\n",
    "ax.plot(x1, y1, label='Baseline')\n",
    "\n",
    "# Second line\n",
    "x2 = np.array(range(10))\n",
    "y2 = np.random.randint(-2, 3, 10)\n",
    "ax.plot(x2, y2, label='Random line')\n",
    "\n",
    "# Third line\n",
    "x3 = np.random.randint(0, 10, 10)\n",
    "y3 = np.random.uniform(-1.0, 1.0, 10)\n",
    "ax.plot(x3, y3, label='Chaos line')\n",
    "\n",
    "# Adding title, axis labels and a legend to the plot\n",
    "ax.set_title('Three lines')\n",
    "ax.set_xlabel('x-axis')\n",
    "ax.set_ylabel('y-axis')\n",
    "ax.legend()"
   ]
  },
  {
   "cell_type": "markdown",
   "metadata": {},
   "source": [
    "## Plotting multiple lines - Exercise\n",
    "\n",
    "Given are the lists `time`, `temp_max`, and `temp_min`. Complete the following exercises:\n",
    "1. Create a fig and ax \n",
    "2. Plot `time` vs. `temp_max` and give the line a label (use the argument `label=`)\n",
    "3. Now on the same axes also plot `time` vs. `temp_min` and again provide a label\n",
    "4. Give the plot a title\n",
    "5. Set the labels of the x-axis and y-axis\n",
    "6. Add a legend to the plot"
   ]
  },
  {
   "cell_type": "code",
   "execution_count": null,
   "metadata": {},
   "outputs": [],
   "source": [
    "# Use these lists to create your plot\n",
    "time = range(12)\n",
    "temp_max = [18.3, 22.2, 26.7, 34.0, 37.1, 39.9, 41.0, 38.4, 36.0, 33.9, 31.5, 28.7]\n",
    "temp_min = [14.1, 18.9, 23.2, 29.0, 31.6, 34.6, 34.0, 33.3, 31.9, 28.8, 27.1, 23.6]"
   ]
  },
  {
   "cell_type": "code",
   "execution_count": null,
   "metadata": {},
   "outputs": [],
   "source": [
    "# Create your plot here\n",
    "\n",
    "#1\n",
    "fig, ax = plt.subplots()\n",
    "\n",
    "#2\n",
    "ax.plot(time, temp_max, label='Maximum temperature')\n",
    "\n",
    "#3\n",
    "ax.plot(time, temp_min, label='Minimum temperature')\n",
    "\n",
    "#4\n",
    "ax.set_title('Maximum and minimum temperature')\n",
    "\n",
    "#5\n",
    "ax.set_xlabel('Time (hours)')\n",
    "ax.set_ylabel('Temperature (degrees Celsius)')\n",
    "\n",
    "#6\n",
    "ax.legend()"
   ]
  },
  {
   "attachments": {
    "image-11.png": {
     "image/png": "[encoded data removed]"
    },
    "image-5.png": {
     "image/png": "[encoded data removed]"
    },
    "image-7.png": {
     "image/png": "[encoded data removed]"
    }
   },
   "cell_type": "markdown",
   "metadata": {},
   "source": [
    "## Changing line visuals\n",
    "\n",
    "As we have seen before, a function can take different arguments. This is a way to influence what the function does. The function for plotting a line (`ax.plot()`) also can take many arguments. In the previous part we saw the argument `label=`. Now we will look at arguments to change how the line looks. \n",
    "\n",
    "A lot of settings of the line we can change. We can change:\n",
    "1. The color of a line using the arguments `color=` or `c=`\n",
    "    - A few of the basic colors:\n",
    "    ![image-5.png](attachment:image-5.png)\n",
    "    - For more color options, go to this website and scroll down, https://matplotlib.org/stable/gallery/color/named_colors.html\n",
    "    \n",
    "    \n",
    "    \n",
    "2. The style of a line using the arguments `linestyle=` or `ls=`\n",
    "    - Some basic linestyles:\n",
    "    ![image-7.png](attachment:image-7.png)\n",
    "    - Instead of the names you can also use the following symbols as a string: `-`, `:`, `--`, `-.`\n",
    "    \n",
    "    \n",
    "\n",
    "3. The width of a line using the arguments `linewidth=` or `lw=`\n",
    "    - Provide a number to set the width (the default linewidth is 1.5)\n",
    "    \n",
    "    \n",
    "    \n",
    "4. Adding markers and setting marker shape using the argument `marker=`\n",
    "    - Every datapoint gets its own marker. Some of the options are:\n",
    "    ![image-11.png](attachment:image-11.png)\n",
    "\n",
    "Let's go over some examples to see the different options. Read through the code carefully and **try to predict** what type of lines you will see when you run the code. "
   ]
  },
  {
   "cell_type": "code",
   "execution_count": null,
   "metadata": {
    "scrolled": true
   },
   "outputs": [],
   "source": [
    "# Start with creating fig and ax\n",
    "fig, ax = plt.subplots()\n",
    "\n",
    "# The first line. What will be the color and the linestyle?\n",
    "x1 = np.array(range(14)) / 2\n",
    "y1 = np.cos(x1)\n",
    "ax.plot(x1, y1, label='Cosine', color='b', linestyle=':')\n",
    "\n",
    "# The second line. What will be the color and the linestyle?\n",
    "y2 = np.sin(x1)\n",
    "ax.plot(x1, y2, label='Sine', c='y', ls='--')\n",
    "\n",
    "# Adding title and legend\n",
    "ax.set_title('Cosine and Sine')\n",
    "ax.legend()"
   ]
  },
  {
   "cell_type": "code",
   "execution_count": null,
   "metadata": {},
   "outputs": [],
   "source": [
    "# Again start with creating fig and ax\n",
    "fig, ax = plt.subplots()\n",
    "\n",
    "# The first line. Markers? Marker type? Linewidth? \n",
    "x1 = np.array(range(-10, 11)) / 2\n",
    "y1 = x1**2\n",
    "ax.plot(x1, y1, label='Parabole 1', marker='v', linewidth=1)\n",
    "\n",
    "# The second line. Markers? Marker type? Linewidth? \n",
    "x1 = np.array(range(-10, 11)) / 2\n",
    "y1 = x1**2 + 2*x1 - 5\n",
    "ax.plot(x1, y1, label='Parabole 2', marker='*', lw=2)\n",
    "\n",
    "# The second line. Markers? Marker type? Linewidth? \n",
    "x1 = np.array(range(-10, 11)) / 2\n",
    "y1 = -x1**2 + 2*x1 + 10\n",
    "ax.plot(x1, y1, label='Parabole 3', lw=10)\n",
    "\n",
    "# Adding title and legend\n",
    "ax.set_title('Some parabolas')\n",
    "ax.legend()"
   ]
  },
  {
   "cell_type": "markdown",
   "metadata": {},
   "source": [
    "## Changing line visuals - Exercise\n",
    "\n",
    "In the cell below there are 4 lines plotted. Change the code of the plot to complete the following exercises:\n",
    "1. Change the colors of lines 1, 2, 3, and 4 to blue, green, red, and yellow, respectively\n",
    "2. Change the linestyles of line 2 and 4 to dotted and dashed, respectively\n",
    "3. Add star shaped markers to line 4\n",
    "4. Set the linewidth of lines 1, 2, and 3 to a width of 5, 10 and 15, respectively"
   ]
  },
  {
   "cell_type": "code",
   "execution_count": null,
   "metadata": {
    "scrolled": true
   },
   "outputs": [],
   "source": [
    "fig, ax = plt.subplots()\n",
    "\n",
    "x = range(0, 40, 2)\n",
    "y1 = np.array(range(0, 20, 1))**2\n",
    "y2 = np.array(range(20, 0, -1))**2\n",
    "y3 = np.array(range(0, 20, 1))**2-100\n",
    "y4 = range(0, 160, 8)\n",
    "\n",
    "# Line 1\n",
    "ax.plot(x, y1, label='Line 1', c='b', lw=5)\n",
    "\n",
    "# Line 2\n",
    "ax.plot(x, y2, label='Line 2', c='g', ls=':', lw=10)\n",
    "\n",
    "# Line 3\n",
    "ax.plot(x, y3, label='Line 3', c='r', lw=15)\n",
    "\n",
    "# Line 4\n",
    "ax.plot(x, y4, label='Line 4', c='y', ls='dashed', marker='*')\n",
    "\n",
    "ax.legend()"
   ]
  },
  {
   "attachments": {
    "image.png": {
     "image/png": "[encoded data removed]"
    }
   },
   "cell_type": "markdown",
   "metadata": {},
   "source": [
    "## Limits and ticks \n",
    "\n",
    "Matplotlib automatically sets the limits of the x-axis and y-axis and the ticks and tick labels. When you create a plot these settings will be determined by matplotlib:\n",
    "```python\n",
    "ax.plot([1, 2, 4, 8, 16, 32, 64, 128])\n",
    "```\n",
    "![image.png](attachment:image.png)\n",
    "\n",
    "Matplotlib chose automatically:\n",
    "- x limit is from 0 up to 7\n",
    "- y limit is from 0 up to 130\n",
    "- x ticks are [1, 2, 3, 4, 5, 6, 7]\n",
    "- y ticks are [0, 20, 40, 60, 80, 100, 120]\n",
    "\n",
    "\n",
    "However, in some cases these automatic limits, ticks and tick labels are not useful. Therefore we can change these.\n",
    "\n",
    "### Changing x limit and y limit\n",
    "\n",
    "We can set the x limit and y limit ourselves: \n",
    "\n",
    "- This can be done using the functions `ax.set_xlim()` and `ax.set_ylim()`\n",
    "- These functions take two inputs: left and right, where the limit has to start and where to stop\n",
    "\n",
    "\n",
    "Let's say we have some scores over time. The maximum score and maximum time that can be achieved is a score of 50, for 20 minutes. However when we plot the first set of scores, the limits are 0-15 for the x-axis and 0-26 for the y-axis. \n",
    "\n",
    "1. Run the code to see how matplotlib sets the limits: \n",
    "2. Now remove the `#` in front of the `ax.set_xlim()` and `ax.set_ylim()` functions. How does the plot change?"
   ]
  },
  {
   "cell_type": "code",
   "execution_count": null,
   "metadata": {
    "scrolled": true
   },
   "outputs": [],
   "source": [
    "time = range(15)\n",
    "score = np.array([0, 13, 19, 15, 20, 19, 14, 25, 16, 12, 12, 26, 16, 21, 13])\n",
    "\n",
    "fig, ax = plt.subplots()\n",
    "ax.plot(time, score)\n",
    "\n",
    "ax.set_xlabel('Minutes')\n",
    "ax.set_ylabel('Score')\n",
    "\n",
    "# Remove the '#' from the two lines below to set the xlim and ylim by ourselves\n",
    "ax.set_xlim(0, 20)\n",
    "ax.set_ylim(0, 50)"
   ]
  },
  {
   "cell_type": "markdown",
   "metadata": {},
   "source": [
    "### Changing ticks and tick labels\n",
    "\n",
    "You can also set the ticks and tick labels by yourself. \n",
    "- Ticks can be set by using the functions `ax.set_yticks()` and `ax.set_xticks()`\n",
    "- The labels can be set by using the functions `ax.set_yticklabels()` and `ax.set_xticklabels()`\n",
    "\n",
    "Let's say that for the x-axis we don't want the default ticks, but we want a tick every 2 minutes. We can change this using the function `ax.set_xticks()` with `range(0, 22, 2)` as input. \n",
    "\n",
    "For the y-axis, instead of showing the score, we want to show the percentages, with a score of 50 being 100%. We can change these ticks and tick labels by first setting the yticks ourselves (`ax.set_yticks([10, 20, 30, 40, 50])`). Then we can use the function `ax.set_yticklabels()` with a list of labels as input. Let's use the labels `['20%', '40%', '60%', '80%', '100%']`.\n",
    "\n",
    "In the cell below the code from the previous cell is copied and some functions added.  \n",
    "1. Remove the `#` in front of the function that sets the x ticks and run the cell\n",
    "2. Remove the `#` in front of the functions that set the y ticks and y labels and run the cell"
   ]
  },
  {
   "cell_type": "code",
   "execution_count": null,
   "metadata": {},
   "outputs": [],
   "source": [
    "time = range(15)\n",
    "score = np.array([0, 13, 19, 15, 20, 19, 14, 25, 16, 12, 12, 26, 16, 21, 13])\n",
    "\n",
    "fig, ax = plt.subplots()\n",
    "ax.plot(time, score)\n",
    "\n",
    "ax.set_xlabel('Minutes')\n",
    "ax.set_ylabel('Score')\n",
    "\n",
    "ax.set_xlim(0, 20)\n",
    "ax.set_ylim(0, 50)\n",
    "\n",
    "# Remove the '#' in front of the function, run the cell and see what changes\n",
    "ax.set_xticks(range(0, 22, 2))\n",
    "\n",
    "# Now also remove the '#' in front of these two fuctions and see what changes\n",
    "ax.set_yticks([10, 20, 30, 40, 50])\n",
    "ax.set_yticklabels(['20%', '40%', '60%', '80%', '100%'])"
   ]
  },
  {
   "cell_type": "markdown",
   "metadata": {},
   "source": [
    "## Secondary axis\n",
    "\n",
    "Sometimes, you want to plot two dataseries in the same figure, but they both have a very different scale. \n",
    "\n",
    "Let's look for example at the plot below."
   ]
  },
  {
   "cell_type": "code",
   "execution_count": null,
   "metadata": {},
   "outputs": [],
   "source": [
    "time = range(12)\n",
    "temperature = [18.3, 22.2, 26.7, 34.0, 37.1, 39.9, 41.0, 38.4, 36.0, 33.9, 31.5, 28.7]\n",
    "humidity = [90.0, 77.3, 85.2, 83.6, 85.1, 86.8, 97.7, 79.2, 86.5, 76.1 , 76.6, 80.9]\n",
    "\n",
    "fig, ax = plt.subplots()\n",
    "ax.plot(time, temperature, label='Temperature')\n",
    "ax.plot(time, humidity, label='Humidity', ls=':')\n",
    "\n",
    "ax.set_title('Temperature and Humidity')\n",
    "ax.set_xlabel('Hours')\n",
    "ax.set_ylabel('% humidity and degrees Celsius')\n",
    "ax.legend()"
   ]
  },
  {
   "cell_type": "markdown",
   "metadata": {},
   "source": [
    "Now the values for the temperature and humidity are plotted on the same y-axis. This causes the two lines to be far apart from eachother. Ideally, we would have two y limits and two different ranges of y ticks. \n",
    "\n",
    "This can be done by creating a secondary axis. With the method `.twinx()`, a new axes is created, that shares the x-axis of the axes to which you used the method, but has a separate (secondary) y-axis.\n",
    "\n",
    "Let's recreate the plot above, only now with a secondary axis for humidity. "
   ]
  },
  {
   "cell_type": "code",
   "execution_count": null,
   "metadata": {},
   "outputs": [],
   "source": [
    "# Create the first ax\n",
    "fig, ax = plt.subplots()\n",
    "ax.plot(time, temperature, label='Temperature')\n",
    "\n",
    "ax.set_title('Temperature and Humidity')\n",
    "ax.set_xlabel('Hours')\n",
    "ax.set_ylabel('degrees Celsius')\n",
    "ax.set_ylim(15, 50)\n",
    "\n",
    "# Create the secondary axis\n",
    "ax_hum = ax.twinx()\n",
    "\n",
    "# Plot on the secondary axis\n",
    "ax_hum.plot(time, humidity, label='Humidity', ls=':', c='y')\n",
    "\n",
    "# Set the y-axis label for the humidity\n",
    "ax_hum.set_ylabel('% humidity')\n",
    "\n",
    "# Because we have two axes, we need to use fig to add a legend\n",
    "fig.legend()"
   ]
  },
  {
   "cell_type": "markdown",
   "metadata": {},
   "source": [
    "## Limits, ticks and secondary axis - Exercise\n",
    "\n",
    "Given are the datasets `days`, `costs`, and `customers` and a simple plot. Complete the following exercises:\n",
    "\n",
    "\n",
    "1. Instead of plotting the customers on `ax`, create a secondary axis to plot the customer data on\n",
    "    - Use the function `.twinx()`\n",
    "2. Change the y limit of the secondary axis, making it start at 0 and end at 80\n",
    "    - Use the function `.set_ylim()`\n",
    "3. Set a label on the y-axis of the secondary axis\n",
    "    - Use the function `.set_ylabel()`\n",
    "\n",
    "Instead of `[1, 2, 3, 4, 5, 6, 7]` as x ticks, we want the days of the week as x ticks (`['Sun', 'Mon', 'Tue', 'Wed', 'Thu', 'Fri', 'Sat']`). \n",
    "\n",
    "4. Set the x ticks to 1, 2, 3, 4, 5, 6, 7\n",
    "    - Use the function `.set_xticks()`\n",
    "5. Now change the tick labels into the days of the week \n",
    "    - Use the function `.set_xticklabels()`"
   ]
  },
  {
   "cell_type": "code",
   "execution_count": null,
   "metadata": {},
   "outputs": [],
   "source": [
    "days = [1, 2, 3, 4, 5, 6, 7]\n",
    "costs = [2300, 3600, 4500, 5500, 6500, 7700, 9000]\n",
    "customers = [13, 20, 28, 34, 42, 52, 61]\n",
    "\n",
    "fig, ax = plt.subplots()\n",
    "ax.plot(days, costs, label='Costs', c='y', ls='dashed')\n",
    "ax.set_title('Costs and customers of my restaurant')\n",
    "ax.set_ylabel('Costs (Birr)')\n",
    "ax.set_xlabel('Time (days)')\n",
    "\n",
    "# 1.\n",
    "ax_cust = ax.twinx()\n",
    "ax_cust.plot(days, customers, label='Customers')\n",
    "\n",
    "# 2. \n",
    "ax_cust.set_ylim(0, 80)\n",
    "\n",
    "# 3. \n",
    "ax_cust.set_ylabel('Number of customers')\n",
    "\n",
    "# 4. \n",
    "ax.set_xticks([1, 2, 3, 4, 5, 6, 7])\n",
    "\n",
    "# 5. \n",
    "ax.set_xticklabels(['Sun', 'Mon', 'Tue', 'Wed', 'Thu', 'Fri', 'Sat'])\n",
    "\n",
    "fig.legend()"
   ]
  },
  {
   "cell_type": "markdown",
   "metadata": {},
   "source": [
    "## Additional exercises\n",
    "\n",
    "Last module we worked with the dataset called `Module3_3_meteoData.csv`. Now that we know how to make plots, we can use these skills to plot the data in `meteoData`. (Plotting `meteoData` will also be the main subject of module 4.2 later this week.)\n",
    "\n",
    "1. Load the file `Module3_3_meteoData.csv` using the pandas function for reading CSV files.\n",
    "2. Create a new column called `Timestamp` containing the dates from column `Datetime` converted into timestamps, and use the pandas function for changing a string into a timestamp (hint: don't forget to set `dayfirst=True`)"
   ]
  },
  {
   "cell_type": "code",
   "execution_count": null,
   "metadata": {},
   "outputs": [],
   "source": [
    "#1\n",
    "import pandas as pd\n",
    "meteoData = pd.read_csv('Module3_3_meteoData.csv')\n",
    "\n",
    "#2\n",
    "meteoData['Timestamp'] = pd.to_datetime(meteoData.Datetime, dayfirst=True)\n"
   ]
  },
  {
   "cell_type": "markdown",
   "metadata": {},
   "source": [
    "Here is an example of how we can plot a column of `meteoData` vs time. We will plot the values of `Temp_Out` for the first 7 days of 2018 against time.\n",
    "- Firstly, we select the data that we want to plot\n",
    "- Secondly, we plot the data\n",
    "- Thirdly, we make some changes to the plot"
   ]
  },
  {
   "cell_type": "code",
   "execution_count": null,
   "metadata": {},
   "outputs": [],
   "source": [
    "# Firstly, we select the data that we want to plot\n",
    "starttime = pd.to_datetime('2018')\n",
    "endtime = pd.to_datetime('2018') + pd.to_timedelta(1, unit='W')\n",
    "\n",
    "Temp_Time_Jan_2018 = meteoData.loc[(meteoData.Timestamp >= starttime) & \n",
    "                                   (meteoData.Timestamp < endtime), ['Timestamp', 'Temp_Out']]\n",
    "\n",
    "timestamps = Temp_Time_Jan_2018.Timestamp\n",
    "temperatures = Temp_Time_Jan_2018.Temp_Out\n",
    "\n",
    "# Secondly, we plot the data\n",
    "fig, ax = plt.subplots(figsize=(12,6))\n",
    "ax.plot(timestamps, temperatures, label='Temperatures', c='r')\n",
    "\n",
    "# Thirdly, we make some changes to the plot\n",
    "ax.set_title('Temperatures for the first 7 days of 2018')\n",
    "ax.set_xlabel('Time')\n",
    "ax.set_ylabel('Degrees Celsius')"
   ]
  },
  {
   "cell_type": "markdown",
   "metadata": {},
   "source": [
    "3. Plot `Temp_Hi` vs time for the first three days of september 2016\n",
    "4. To the same plot add `Temp_Low` for the same time period and give this line a different color and style\n",
    "5. Add a title, x-axis label and y-axis label to the plot"
   ]
  },
  {
   "cell_type": "code",
   "execution_count": null,
   "metadata": {
    "scrolled": false
   },
   "outputs": [],
   "source": [
    "# 3, 4, and 5\n",
    "# Selecting the data that we want to plot\n",
    "starttime = pd.to_datetime('2019-09')\n",
    "endtime = starttime + pd.to_timedelta(3, unit='D')\n",
    "\n",
    "MD_sep2016 = meteoData.loc[(meteoData.Timestamp >= starttime) & (meteoData.Timestamp < endtime)]\n",
    "\n",
    "# Plotting the data\n",
    "fig, ax = plt.subplots(figsize=(12,6))\n",
    "\n",
    "ax.plot(MD_sep2016.Timestamp, MD_sep2016.Temp_Hi, label='High Temperatures', c='r')\n",
    "ax.plot(MD_sep2016.Timestamp, MD_sep2016.Temp_Low, label='Low Temperatures', c='b', ls='--')\n",
    "\n",
    "# Making some changes to the plot\n",
    "ax.set_title('Temperature and humidity for first three day of September 2016')\n",
    "ax.set_xlabel('Time')\n",
    "ax.set_ylabel('Temperature (degrees Celsius)')\n",
    "\n",
    "# 6, 7, and 8\n",
    "ax_hum = ax.twinx()\n",
    "ax_hum.plot(MD_sep2016.Timestamp, MD_sep2016.Hum_Out, label='Relative Humidity', c='y', ls=':')\n",
    "\n",
    "ax_hum.set_ylim(0, 100)\n",
    "ax_hum.set_ylabel('Relative Humidity (%)')"
   ]
  },
  {
   "cell_type": "markdown",
   "metadata": {},
   "source": [
    "6. For the plot in the cell above, create a secondary axis and plot `Hum_Out` on that axis\n",
    "7. Set the y limit for the secondary axis from 0 to 100\n",
    "8. Give the secondary y-axis a label"
   ]
  }
 ],
 "metadata": {
  "kernelspec": {
   "display_name": "Python 3 (ipykernel)",
   "language": "python",
   "name": "python3"
  },
  "language_info": {
   "codemirror_mode": {
    "name": "ipython",
    "version": 3
   },
   "file_extension": ".py",
   "mimetype": "text/x-python",
   "name": "python",
   "nbconvert_exporter": "python",
   "pygments_lexer": "ipython3",
   "version": "3.9.12"
  }
 },
 "nbformat": 4,
 "nbformat_minor": 1
}
