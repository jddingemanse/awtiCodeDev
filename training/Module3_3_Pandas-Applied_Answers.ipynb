{
 "cells": [
  {
   "cell_type": "markdown",
   "id": "09b2436f",
   "metadata": {},
   "source": [
    "# Module 3.3 - Pandas Applied"
   ]
  },
  {
   "cell_type": "markdown",
   "id": "52835f93",
   "metadata": {},
   "source": [
    "This Jupyter Notebook gives instructions and practice assignments about Module 3.3, subject Pandas Applied.\n",
    "\n",
    "Carefully read below text and instructions. Any assignments for you are numbered.\n",
    "\n",
    "Good luck!"
   ]
  },
  {
   "cell_type": "markdown",
   "id": "1c237d25",
   "metadata": {},
   "source": [
    "## Importing pandas\n",
    "We will work with the module pandas, so we will need to import this package first."
   ]
  },
  {
   "cell_type": "code",
   "execution_count": null,
   "id": "4606639b",
   "metadata": {},
   "outputs": [],
   "source": [
    "import pandas as pd"
   ]
  },
  {
   "cell_type": "markdown",
   "id": "71906942",
   "metadata": {},
   "source": [
    "## MeteoData\n",
    "\n",
    "Now we will explore pandas dataframes further. We will do this by using a file with meteorology data. "
   ]
  },
  {
   "cell_type": "markdown",
   "id": "a0442123",
   "metadata": {},
   "source": [
    "We can load files from our computer as a Pandas DataFrame with different `pd.read_...` functions. For example, a .csv file with the function `pd.read_csv()`. Then as input to the function you should give the filename as a string. So, when you want to load a file called `file_to_load.csv` you should run: \n",
    "\n",
    "```python\n",
    "pd.read_csv('file_to_load.csv')\n",
    "```\n",
    "\n",
    "Now let's load the data that we will use in the following exercises.\n",
    "\n",
    "1. Read the csv file `Module3_3_meteoData.csv`, and save it under the name meteoData. \n",
    "    - Hint: make sure the file `Module3_3_meteoData.csv` is in the same folder as this notebook."
   ]
  },
  {
   "cell_type": "code",
   "execution_count": null,
   "id": "1e0b0284",
   "metadata": {},
   "outputs": [],
   "source": [
    "meteoData = pd.read_csv('Module3_3_meteoData.csv')\n",
    "meteoData"
   ]
  },
  {
   "cell_type": "markdown",
   "id": "b783c915",
   "metadata": {},
   "source": [
    "We can get an overview of the columns of our DataFrame with the built-in method (attribute) `columns`.\n",
    "\n",
    "2. Show an overview of the columns of meteoData."
   ]
  },
  {
   "cell_type": "code",
   "execution_count": null,
   "id": "a3718fb2",
   "metadata": {},
   "outputs": [],
   "source": [
    "#2\n",
    "meteoData.columns"
   ]
  },
  {
   "cell_type": "markdown",
   "id": "b9942510",
   "metadata": {},
   "source": [
    "## 1. Changing a dataframe\n",
    "\n",
    "We can just add a column by using a new column name, and providing the data for this column. To work effectively with time data, we can add a column `Timestamp`, with in it timestamps, based on the strings in the column `Datetime`. (Running this code will take some time.)"
   ]
  },
  {
   "cell_type": "code",
   "execution_count": null,
   "id": "01ae7a78",
   "metadata": {},
   "outputs": [],
   "source": [
    "meteoData['Timestamp'] = pd.to_datetime(meteoData.Datetime, dayfirst=True)\n",
    "meteoData"
   ]
  },
  {
   "cell_type": "markdown",
   "id": "50c56462",
   "metadata": {},
   "source": [
    "3. Add the column `TempDif`, which is the difference between columns `Temp_Hi` and `Temp_Low` (calculate the values for the new columns by using the other columns, like this: `meteoData.Temp_Hi - meteoData.Temp_Low`)."
   ]
  },
  {
   "cell_type": "code",
   "execution_count": null,
   "id": "d61d61a7",
   "metadata": {},
   "outputs": [],
   "source": [
    "#3\n",
    "meteoData['TempDif'] = meteoData.Temp_Hi - meteoData.Temp_Low\n",
    "meteoData.TempDif"
   ]
  },
  {
   "cell_type": "markdown",
   "id": "5346e504",
   "metadata": {},
   "source": [
    "We can delete some columns that we will not use. This is possible with the attribute `.drop()`. To delete columns `nameX` and `nameY` from some dataframe `df`, you can use `df.drop(columns=['nameX', 'nameY'])`. If you really want to remove them from your current dataframe, you should include `inplace=True`, like `df.drop(columns=['nameX', 'nameY'], inplace=True)`\n",
    "\n",
    "4. Remove columns `Winddir_Hi` and `EMC_In` from meteoData."
   ]
  },
  {
   "cell_type": "code",
   "execution_count": null,
   "id": "03c9cfaa",
   "metadata": {},
   "outputs": [],
   "source": [
    "#4\n",
    "meteoData.drop(columns=['Winddir_Hi', 'EMC_In'], inplace=True)"
   ]
  },
  {
   "cell_type": "markdown",
   "id": "00e79623",
   "metadata": {},
   "source": [
    "We can also select part of a dataframe, and save this part under a new name. For example, a new dataframe `Humidity`, which has only the columns `Timestamp`, `Hum_Out` and `Hum_in`:"
   ]
  },
  {
   "cell_type": "code",
   "execution_count": null,
   "id": "fa410975",
   "metadata": {},
   "outputs": [],
   "source": [
    "Humidity = meteoData.loc[:, ['Timestamp', 'Hum_Out', 'Hum_in']]\n",
    "Humidity"
   ]
  },
  {
   "cell_type": "markdown",
   "id": "3022a2aa",
   "metadata": {},
   "source": [
    "5. Create the DataFrame `Temperature`, which consists of only the columns `Timestamp`, `Temp_Out`, `Temp_Hi` and `Temp_Low`."
   ]
  },
  {
   "cell_type": "code",
   "execution_count": null,
   "id": "c715998b",
   "metadata": {},
   "outputs": [],
   "source": [
    "#5\n",
    "Temperature = meteoData.loc[:, ['Timestamp', 'Temp_Out', 'Temp_Hi', 'Temp_Low']]\n",
    "Temperature"
   ]
  },
  {
   "cell_type": "markdown",
   "id": "3314762c",
   "metadata": {},
   "source": [
    "6. To the DataFrame `Temperature`, add the column `TempKelvin`, which is the column `Temp_Out` but then turned into kelvin temperatures."
   ]
  },
  {
   "cell_type": "code",
   "execution_count": null,
   "id": "b95433ff",
   "metadata": {},
   "outputs": [],
   "source": [
    "#6\n",
    "Temperature['TempKelvin'] = meteoData.Temp_Out + 273.15\n",
    "Temperature"
   ]
  },
  {
   "cell_type": "markdown",
   "id": "d22ab93a",
   "metadata": {},
   "source": [
    "## 2. Get information from a dataframe\n",
    "\n",
    "Pandas collections (DataFrame and Series) have some built-in mathematical functions (attributes). To get the average, minimum, maximum or median value, for example, you can just add `.mean()`, `.min()`, `.max()` or `.median()` to a DataFrame or a single column (Series). For example, for the column `Temp_Out`, see below code."
   ]
  },
  {
   "cell_type": "code",
   "execution_count": null,
   "id": "d3fa01f4",
   "metadata": {},
   "outputs": [],
   "source": [
    "meteoData.Temp_Out.mean()"
   ]
  },
  {
   "cell_type": "code",
   "execution_count": null,
   "id": "1e97fca1",
   "metadata": {},
   "outputs": [],
   "source": [
    "meteoData.Temp_Out.min()"
   ]
  },
  {
   "cell_type": "code",
   "execution_count": null,
   "id": "eb6c0ba8",
   "metadata": {},
   "outputs": [],
   "source": [
    "meteoData.Temp_Out.max()"
   ]
  },
  {
   "cell_type": "code",
   "execution_count": null,
   "id": "63c3b774",
   "metadata": {},
   "outputs": [],
   "source": [
    "meteoData.Temp_Out.median()"
   ]
  },
  {
   "cell_type": "markdown",
   "id": "b1078973",
   "metadata": {},
   "source": [
    "To quickly get an overview of relevant parameters (descriptive statistics), you can also use `.describe()`. For example, below code gives the descriptive statistics for the column `Temp_Out`."
   ]
  },
  {
   "cell_type": "code",
   "execution_count": null,
   "id": "787b2f22",
   "metadata": {},
   "outputs": [],
   "source": [
    "meteoData.Temp_Out.describe()"
   ]
  },
  {
   "cell_type": "markdown",
   "id": "c2a3d643",
   "metadata": {},
   "source": [
    "7. Show the maximum of the column `Rain`."
   ]
  },
  {
   "cell_type": "code",
   "execution_count": null,
   "id": "ab3940b3",
   "metadata": {},
   "outputs": [],
   "source": [
    "#7\n",
    "meteoData.Rain.max()"
   ]
  },
  {
   "cell_type": "markdown",
   "id": "93040ded",
   "metadata": {},
   "source": [
    "8. Show the minimum, maximum and median of the column `HeatIndex` (hint: use the function `.describe()`)."
   ]
  },
  {
   "cell_type": "code",
   "execution_count": null,
   "id": "80f62453",
   "metadata": {},
   "outputs": [],
   "source": [
    "#8\n",
    "meteoData.HeatIndex.describe()"
   ]
  },
  {
   "cell_type": "markdown",
   "id": "ca82a92b",
   "metadata": {},
   "source": [
    "9. Show the average of the column `Temp_Hi` and the average of the column `Temp_Low`."
   ]
  },
  {
   "cell_type": "code",
   "execution_count": null,
   "id": "ea710685",
   "metadata": {},
   "outputs": [],
   "source": [
    "#9\n",
    "print(meteoData.Temp_Hi.mean())\n",
    "print(meteoData.Temp_Low.mean())"
   ]
  },
  {
   "cell_type": "markdown",
   "id": "2e46fea0",
   "metadata": {},
   "source": [
    "If you want to get information about only part of the DataFrame, you need to combine the tool for information (for example `.mean()`) together with the tool of getting only part of the DataFrame (slicing/accessing/selecting, with `.loc[]` or `.iloc[]`). For example, to get the average of column `Temp_Out` for when values in `Hum_Out` are > 50:"
   ]
  },
  {
   "cell_type": "code",
   "execution_count": null,
   "id": "069629bf",
   "metadata": {},
   "outputs": [],
   "source": [
    "meteoData.Temp_Out.loc[meteoData.Hum_Out > 50].mean()"
   ]
  },
  {
   "cell_type": "markdown",
   "id": "c9272f62",
   "metadata": {},
   "source": [
    "Or <= 50:"
   ]
  },
  {
   "cell_type": "code",
   "execution_count": null,
   "id": "d10c73ee",
   "metadata": {},
   "outputs": [],
   "source": [
    "meteoData.Temp_Out[meteoData.Hum_Out <= 50].mean()"
   ]
  },
  {
   "cell_type": "markdown",
   "id": "baaed7ab",
   "metadata": {},
   "source": [
    "10. What is the average of column `Temp_Hi`, for when values in column `SolarRad` are greater than 300?"
   ]
  },
  {
   "cell_type": "code",
   "execution_count": null,
   "id": "e30f3c99",
   "metadata": {},
   "outputs": [],
   "source": [
    "#10\n",
    "meteoData.loc[meteoData.SolarRad > 300, 'Temp_Hi'].mean()"
   ]
  },
  {
   "cell_type": "markdown",
   "id": "331e46d1",
   "metadata": {},
   "source": [
    "11. What is the maximum of the column `Windspeed`, for when values in column `Rain` are greater than 20?"
   ]
  },
  {
   "cell_type": "code",
   "execution_count": null,
   "id": "eb2c2e36",
   "metadata": {},
   "outputs": [],
   "source": [
    "#11\n",
    "meteoData.loc[meteoData.Rain > 20, 'Windspeed'].max()"
   ]
  },
  {
   "cell_type": "markdown",
   "id": "71ab7bd0",
   "metadata": {},
   "source": [
    "## 3. Working with time\n",
    "\n",
    "The column `Datetime` contains strings with timedata, e.g., the string `'23/04/2016 09:37'`. Pandas has functions to work with timestamps. To use these pandas functions we first need to change the **timedata strings** to **timestamps**. We can use the function `pd.to_datetime()` to turn a string into a timestamp. We did this above, when we created the column `Timestamp`. \n",
    "\n",
    "Once we have a column containing timestamps, we can do very useful things with it. For example, we can use the timestamps for data selection. We can compare a column with timestamps to one timestamp, to get booleans and those booleans can be used to slice. \n",
    "\n",
    "Here is an example of selecting only data for January 2018:"
   ]
  },
  {
   "cell_type": "code",
   "execution_count": null,
   "id": "43788a82",
   "metadata": {},
   "outputs": [],
   "source": [
    "# First create a timestamp using a timedata string and the function pd.to_datetime() \n",
    "starttime_str = '2018-jan-01'\n",
    "print('The datatype of starttime_string:', type(starttime_str))\n",
    "starttime = pd.to_datetime('2018-jan-01')\n",
    "print('The datatype of starttime:', (type(starttime)))\n",
    "\n",
    "# Let's also create the endtime variable\n",
    "endtime = pd.to_datetime('01-feb-2018')"
   ]
  },
  {
   "cell_type": "code",
   "execution_count": null,
   "id": "ab056160",
   "metadata": {},
   "outputs": [],
   "source": [
    "# Now let's select all data from January 2018\n",
    "meteoData.loc[(meteoData.Timestamp >= starttime) & (meteoData.Timestamp < endtime)]"
   ]
  },
  {
   "cell_type": "markdown",
   "id": "89d6c537",
   "metadata": {},
   "source": [
    "Here is another example, selecting all data from the year 2018:"
   ]
  },
  {
   "cell_type": "code",
   "execution_count": null,
   "id": "752f2ca1",
   "metadata": {},
   "outputs": [],
   "source": [
    "# Instead of first creating starttime and endtime, we just put the pd.to_datetime() function inside the boolean expression\n",
    "# To get the whole year, the timestamps should be larger than 1st of january and smaller than 31st of december\n",
    "meteoData.loc[(meteoData.Timestamp >= pd.to_datetime('2018-01-01')) & (meteoData.Timestamp <= pd.to_datetime('2018-12-31'))]"
   ]
  },
  {
   "cell_type": "markdown",
   "id": "233ebc5e",
   "metadata": {},
   "source": [
    "12. Now create variable with timestamps of the following strings:\n",
    "    - `'11-01-1998'`\n",
    "    - `'11/09/2001'`\n",
    "    - `'21 aug 1995'`\n",
    "    - The date of today\n",
    "    \n",
    "Realize that the `pd.to_datetime()` function is quite flexible regarding the inputs it can handle."
   ]
  },
  {
   "cell_type": "code",
   "execution_count": null,
   "id": "65ea5a35",
   "metadata": {},
   "outputs": [],
   "source": [
    "#12\n",
    "print(pd.to_datetime('11-01-1998'))\n",
    "print(pd.to_datetime('11/09/2001'))\n",
    "print(pd.to_datetime('21 aug 1995'))"
   ]
  },
  {
   "cell_type": "markdown",
   "id": "5a7b6606",
   "metadata": {},
   "source": [
    "Now use the `pd.to_datetime()` function to make the following selections.\n",
    "\n",
    "13. What is the minimum, average and maximum of column `Dewpt`, for only the year 2017?"
   ]
  },
  {
   "cell_type": "code",
   "execution_count": null,
   "id": "14f72480",
   "metadata": {},
   "outputs": [],
   "source": [
    "#13\n",
    "starttime = pd.to_datetime('2017')\n",
    "endtime = pd.to_datetime('2018')\n",
    "\n",
    "dewpt_2017 = meteoData.loc[(meteoData.Timestamp >= starttime) & (meteoData.Timestamp < endtime), 'Dewpt']\n",
    "\n",
    "dewpt_2017.describe()"
   ]
  },
  {
   "cell_type": "markdown",
   "id": "8e129f38",
   "metadata": {},
   "source": [
    "14. What is the average of column `Temp_Hi`, in August 2019, for when values in column `SolarRad` are greater than 300?"
   ]
  },
  {
   "cell_type": "code",
   "execution_count": null,
   "id": "008deb4b",
   "metadata": {},
   "outputs": [],
   "source": [
    "#14\n",
    "starttime = pd.to_datetime('2019-08')\n",
    "endtime = pd.to_datetime('2019-09')\n",
    "\n",
    "md_aug2019 = meteoData.loc[(meteoData.Timestamp >= starttime) & (meteoData.Timestamp < endtime), :]\n",
    "\n",
    "temphi_aug2019 = md_aug2019.loc[md_aug2019.SolarRad > 300, 'Temp_Hi']\n",
    "\n",
    "temphi_aug2019.mean()"
   ]
  },
  {
   "cell_type": "markdown",
   "id": "6f0e4f03",
   "metadata": {},
   "source": [
    "15. What is the average of column `Temp_Out` for the years 2018 up to and including 2020?"
   ]
  },
  {
   "cell_type": "code",
   "execution_count": null,
   "id": "36231b69",
   "metadata": {},
   "outputs": [],
   "source": [
    "#15\n",
    "starttime = pd.to_datetime('2018')\n",
    "endtime = pd.to_datetime('2021')\n",
    "\n",
    "temp_2018_2020 = meteoData.loc[(meteoData.Timestamp >= starttime) & (meteoData.Timestamp < endtime), 'Temp_Out']\n",
    "\n",
    "temp_2018_2020.mean()"
   ]
  },
  {
   "cell_type": "markdown",
   "id": "e356c57d",
   "metadata": {},
   "source": [
    "The timestamp variable type works just like number. You can use the functions `max()` and `min()` it."
   ]
  },
  {
   "cell_type": "code",
   "execution_count": null,
   "id": "f03a0185",
   "metadata": {},
   "outputs": [],
   "source": [
    "print(min(meteoData.Timestamp))\n",
    "print(max(meteoData.Timestamp))"
   ]
  },
  {
   "cell_type": "markdown",
   "id": "d94e859e",
   "metadata": {},
   "source": [
    "For a difference in time, pandas has a specific class called **timedelta**. Subtracting one timestamp from another creates a timedelta. For example, when we subtract `pd.to_datetime('2023-02-03')` from `pd.to_datetime('2023-02-02')` we get a timedelta of one day. \n",
    "\n",
    "A timedelta can also be created by using the function `pd.to_timedelta()`. This function takes to inputs: the number of units and the type of unit. Some examples:\n",
    "- Creating a timedelta of 1 day: `pd.to_timedelta(1, unit='day')`\n",
    "- Creating a timedelta of 3 hours: `pd.to_timedelta(3, unit='hour')`\n",
    "\n",
    "Multiplications etc. also work with timedelta's. So, to create a timedelta of a week, you can also use `pd.to_timedelta(1, unit='day') * 7`"
   ]
  },
  {
   "cell_type": "code",
   "execution_count": null,
   "id": "b179b5eb",
   "metadata": {
    "scrolled": true
   },
   "outputs": [],
   "source": [
    "print(pd.to_datetime('2023-02-03') - pd.to_datetime('2023-02-02'))\n",
    "print(pd.to_timedelta(1, unit='day'))\n",
    "print(pd.to_timedelta(3, unit='hour'))\n",
    "\n",
    "pd.to_timedelta(1, unit='day') * 7"
   ]
  },
  {
   "cell_type": "markdown",
   "id": "300b6662",
   "metadata": {},
   "source": [
    "16. Using the given starttime, select all values from the column `Winddir` for the three weeks following the starttime (hint: as endtime use the starttime plus a timedelta of three weeks). "
   ]
  },
  {
   "cell_type": "code",
   "execution_count": null,
   "id": "070d48a2",
   "metadata": {},
   "outputs": [],
   "source": [
    "#16\n",
    "starttime = pd.to_datetime('2020-02-22')\n",
    "endtime = starttime + pd.to_timedelta(3, unit='W')\n",
    "\n",
    "meteoData.loc[(meteoData.Timestamp >= starttime) & (meteoData.Timestamp < endtime), 'Winddir']"
   ]
  },
  {
   "cell_type": "markdown",
   "id": "b78202ed",
   "metadata": {},
   "source": [
    "Pandas' `.resample()` function is useful for changing data to a different timeperiod. When the timesteps between datapoints are varying, we can aggregate the data by doing a resample. \n",
    "\n",
    "\n",
    "For example, when we look at the first 15 rows of `meteoData` we see that the first 5 datapoints were gathered every minute, while the later datapoints every half hour. We can now aggregate these first datapoints by using `.resample()` and applying the method by wich we want to aggregate, in this case `mean()`. "
   ]
  },
  {
   "cell_type": "code",
   "execution_count": null,
   "id": "eac9b5e6",
   "metadata": {},
   "outputs": [],
   "source": [
    "# Let's see what is inside the first 15 rows of meteoData\n",
    "meteoData[:15]"
   ]
  },
  {
   "cell_type": "code",
   "execution_count": null,
   "id": "526241e2",
   "metadata": {
    "scrolled": false
   },
   "outputs": [],
   "source": [
    "meteoData[:10].resample(rule='h', on='Timestamp').mean()"
   ]
  },
  {
   "cell_type": "markdown",
   "id": "8edd65dc",
   "metadata": {},
   "source": [
    "The `.resample()` function takes to inputs: `rule` and `on`. With `rule` you can set the time period by which you want to group, and `on` is to select the column with timestamps that you want to use to group.\n",
    "\n",
    "For example, if we want to group by year, we can use the following code:\n",
    "```python\n",
    "meteoData.resample(rule='Y', on='Timestamp').mean()\n",
    "```\n",
    "\n",
    "Some of the most common timesteps can be selected using:\n",
    "- `rule='Y'` for year\n",
    "- `rule='M'` for month\n",
    "- `rule='W'` for week\n",
    "- `rule='D'` for day\n",
    "- `rule='H'` for hour\n",
    "- `rule='S'` for second\n",
    "\n",
    "Try out the different timesteps using the code below. (Do not try seconds, because this will take too much disk space!)"
   ]
  },
  {
   "cell_type": "code",
   "execution_count": null,
   "id": "2b7dc1a6",
   "metadata": {},
   "outputs": [],
   "source": [
    "meteoData.resample(rule='Y', on='Timestamp').mean()"
   ]
  },
  {
   "cell_type": "markdown",
   "id": "eaa30d97",
   "metadata": {},
   "source": [
    "17. Get the maximum value for `Temp_Hi` for every year, using `.resample()`."
   ]
  },
  {
   "cell_type": "code",
   "execution_count": null,
   "id": "02bda04a",
   "metadata": {},
   "outputs": [],
   "source": [
    "#17\n",
    "meteoData.resample(rule='Y', on='Timestamp').Temp_Hi.max()"
   ]
  },
  {
   "cell_type": "markdown",
   "id": "de47fc56",
   "metadata": {},
   "source": [
    "18. Select the data for year 2019 and get the mean for every week."
   ]
  },
  {
   "cell_type": "code",
   "execution_count": null,
   "id": "d3b6050e",
   "metadata": {},
   "outputs": [],
   "source": [
    "#18\n",
    "starttime = pd.to_datetime('2019')\n",
    "endtime = pd.to_datetime('2020')\n",
    "\n",
    "md_2019 = meteoData.loc[(meteoData.Timestamp >= starttime) & (meteoData.Timestamp < endtime)]\n",
    "\n",
    "md_2019.resample(rule='W', on='Timestamp').mean()"
   ]
  },
  {
   "cell_type": "markdown",
   "id": "764d369a",
   "metadata": {},
   "source": [
    "## The function `.groupby()`\n",
    "\n",
    "The last function we will discuss in this notebook is the function `.groupby()`. This function aggregates/groupes data. Just like `.resample()` grouped data based on time, `.groupby()` groups data based on some identifiers.  \n",
    "\n",
    "To show how this function work, we will use the data from the file `Module3_2_dayData.csv`.\n",
    "\n",
    "19. Load the file `Module3_2_dayData.csv` using the function `pd.read_csv()` and assign it to the variable `station_data`."
   ]
  },
  {
   "cell_type": "code",
   "execution_count": null,
   "id": "893cba67",
   "metadata": {},
   "outputs": [],
   "source": [
    "#19\n",
    "station_data = pd.read_csv('Module3_2_dayData.csv')"
   ]
  },
  {
   "cell_type": "markdown",
   "id": "48f22f02",
   "metadata": {},
   "source": [
    "The `.groupby()` function takes two important arguments: \n",
    "- `by=`, here you can set one or more names of the identifiers by which to group\n",
    "- `as_index=`,  by default, the identifiers become the index (`True`). To get a regular index, set this to `False`.\n",
    "\n",
    "Now let's group the data based on station and calculate the mean per station:"
   ]
  },
  {
   "cell_type": "code",
   "execution_count": null,
   "id": "d0262876",
   "metadata": {},
   "outputs": [],
   "source": [
    "station_data.groupby(by='station', as_index=False).mean()"
   ]
  },
  {
   "cell_type": "markdown",
   "id": "df297210",
   "metadata": {},
   "source": [
    "This gives us also the mean year, month and day, which makes no sense. \n",
    "\n",
    "20. Let's select only the columns `station` and `value` using `.loc[]` or `.iloc[]`. Copy the code from the previous cell and add `.loc[]` or `.iloc[]` after the `.mean()`. "
   ]
  },
  {
   "cell_type": "code",
   "execution_count": null,
   "id": "9bf7f38f",
   "metadata": {},
   "outputs": [],
   "source": [
    "#20\n",
    "station_data.groupby(by='station', as_index=False).mean().loc[:, ['station', 'value']]"
   ]
  },
  {
   "cell_type": "markdown",
   "id": "5965ab7f",
   "metadata": {},
   "source": [
    "Instead of grouping with only one identifier, you can also group based on multiple identifiers. This is done by providing a list of column names to the `by=` argument. \n",
    "\n",
    "21. Group the data using both the column `station` and `element` as identifiers and calculate the median. "
   ]
  },
  {
   "cell_type": "code",
   "execution_count": null,
   "id": "b17fc220",
   "metadata": {},
   "outputs": [],
   "source": [
    "#21\n",
    "station_data.groupby(by=['station', 'element'], as_index=False).median()"
   ]
  },
  {
   "cell_type": "markdown",
   "id": "38ea5b07",
   "metadata": {},
   "source": [
    "22. Again we got the useless columns `year`, `month`, and `day`. Drop these columns from the dataframe using the function `.drop()` (see Module 3.2 for how to use this function, or search the internet). "
   ]
  },
  {
   "cell_type": "code",
   "execution_count": null,
   "id": "925182ff",
   "metadata": {},
   "outputs": [],
   "source": [
    "#22\n",
    "station_data.groupby(by=['station', 'element'], as_index=False).median().drop(columns=['year', 'month', 'day'])"
   ]
  },
  {
   "cell_type": "markdown",
   "id": "a6582fa2",
   "metadata": {},
   "source": [
    "23. Group the data based only on the column `element` and get the maximum of the column value (you should keep only the columns `element` and `value`)."
   ]
  },
  {
   "cell_type": "code",
   "execution_count": null,
   "id": "bf6ada9e",
   "metadata": {},
   "outputs": [],
   "source": [
    "#23\n",
    "station_data.loc[:, ['element', 'value']].groupby(by=['element'], as_index=False).max()"
   ]
  },
  {
   "cell_type": "markdown",
   "id": "cc6b44b2",
   "metadata": {},
   "source": [
    "## Advanced/optional exercises"
   ]
  },
  {
   "cell_type": "markdown",
   "id": "03b34c3e",
   "metadata": {},
   "source": [
    "If we want to calculate for different ranges, we might want to use a loop, during which each iteration we calculate for one range, and add (append) the result to a list. For example, the average of column `Temp_Out` for ten ranges of `Hum_Out` could be calculated like this:\n",
    "- Create a collection with bottom values for the 10 ranges\n",
    "- Create a collection with high values for the 10 ranges\n",
    "- Create an empty list, to store the average per range\n",
    "- During a loop, select the low and high value from the collections, and take the average for only those values bigger than low and smaller than high.\n",
    "- Append this average to the list for averages."
   ]
  },
  {
   "cell_type": "code",
   "execution_count": null,
   "id": "7eec1f30",
   "metadata": {},
   "outputs": [],
   "source": [
    "import numpy as np\n",
    "rangeLow = np.arange(0, 100, 10)\n",
    "rangeHigh = np.arange(10, 110, 10)\n",
    "avgList = []\n",
    "for i in range(10):\n",
    "    low = rangeLow[i]\n",
    "    high = rangeHigh[i]\n",
    "    avg = meteoData.Temp_Out[(meteoData.Hum_Out > low) & (meteoData.Hum_Out <= high)].mean()\n",
    "    avgList.append(avg)\n",
    "avgList"
   ]
  },
  {
   "cell_type": "markdown",
   "id": "c345f2b8",
   "metadata": {},
   "source": [
    "Below, the same code as above is available, but the empty list `medianList` is added. \n",
    "\n",
    "24. Change below code (add to below code), to achieve the following tasks:\n",
    "\n",
    "- a. Also calculate the median for each of the 10 ranges, and add those calculated values to `medianList`.\n",
    "- b. Before adding the average to `avgList`, round it to 2 decimals."
   ]
  },
  {
   "cell_type": "code",
   "execution_count": null,
   "id": "1892a496",
   "metadata": {},
   "outputs": [],
   "source": [
    "import numpy as np\n",
    "rangeLow = np.arange(0, 100, 10)\n",
    "rangeHigh = np.arange(10, 110, 10)\n",
    "avgList = []\n",
    "medianList = []\n",
    "for i in range(10):\n",
    "    low = rangeLow[i]\n",
    "    high = rangeHigh[i]\n",
    "    avg = meteoData.Temp_Out[(meteoData.Hum_Out > low) & (meteoData.Hum_Out <= high)].mean()\n",
    "    avg = round(avg, 2)\n",
    "    median = meteoData.Temp_Out[(meteoData.Hum_Out > low) & (meteoData.Hum_Out <= high)].median()\n",
    "    avgList.append(avg)\n",
    "    medianList.append(median)\n",
    "print(avgList)\n",
    "print(medianList)"
   ]
  },
  {
   "cell_type": "markdown",
   "id": "0d9e72b0",
   "metadata": {},
   "source": [
    "25. Write code below to create a list with averages of the column `Temp_Out` per week."
   ]
  },
  {
   "cell_type": "code",
   "execution_count": null,
   "id": "09b667e0",
   "metadata": {},
   "outputs": [],
   "source": [
    "#25 option 1: using a loop, like above\n",
    "weekDelta = pd.to_timedelta(1, 'W')\n",
    "rangeLow = np.arange(meteoData.Timestamp.min(), meteoData.Timestamp.max(), weekDelta)\n",
    "rangeHigh = np.arange(meteoData.Timestamp.min() + weekDelta, meteoData.Timestamp.max() + weekDelta, weekDelta)\n",
    "avgList = []\n",
    "for i in range(len(rangeLow)):\n",
    "    low = rangeLow[i]\n",
    "    high = rangeHigh[i]\n",
    "    avg = meteoData.Temp_Out[(meteoData.Timestamp >= low) & (meteoData.Timestamp < high)].mean()\n",
    "    avg = round(avg, 2)\n",
    "    avgList.append(avg)\n",
    "print(avgList)"
   ]
  },
  {
   "cell_type": "code",
   "execution_count": null,
   "id": "b32dedbc",
   "metadata": {},
   "outputs": [],
   "source": [
    "#25 option 2: using .resample()\n",
    "weekAvg = meteoData.resample(rule='W', on='Timestamp').mean()['Temp_Out']\n",
    "weekAvg"
   ]
  }
 ],
 "metadata": {
  "kernelspec": {
   "display_name": "Python 3 (ipykernel)",
   "language": "python",
   "name": "python3"
  },
  "language_info": {
   "codemirror_mode": {
    "name": "ipython",
    "version": 3
   },
   "file_extension": ".py",
   "mimetype": "text/x-python",
   "name": "python",
   "nbconvert_exporter": "python",
   "pygments_lexer": "ipython3",
   "version": "3.9.12"
  }
 },
 "nbformat": 4,
 "nbformat_minor": 5
}
