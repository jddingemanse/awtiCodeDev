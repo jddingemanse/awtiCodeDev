{
 "cells": [
  {
   "cell_type": "markdown",
   "metadata": {},
   "source": [
    "# Conditions – if / else / elif\n",
    "- With ```if```, ```else``` and ```elif``` we can control the execution of certain parts of a program. \n",
    "- The ```if``` keyword tests a condition. If the condition is true, execute the code and if not, skip that part of the code.\n",
    "- Optionally you can use more conditions with ```elif```. If the if-condition is false, it will go to the next part of the code and check the second condition\n",
    "- The code after the ```else``` statement is run if all the conditions are false\n",
    "- if statements must always be **ended with a ```:```** and the code that should be executed has to be <b>indented by a tab</b>.\n",
    "- For example:\n",
    "```python\n",
    "    if (condition1):\n",
    "        do something when condition1 is true\n",
    "    elif (condition2):\n",
    "        do something else when condition2 is true\n",
    "    else:\n",
    "        when both conditions are false, do this\n",
    "```\n",
    "- For the next three cells, try to get all possible outputs by varying the value of x in the examples"
   ]
  },
  {
   "cell_type": "code",
   "execution_count": null,
   "metadata": {},
   "outputs": [],
   "source": [
    "x = 1                          # Try to change x to get all possible outputs\n",
    "if x < 0:                    # if x is smaller than 0 execute..\n",
    "    print (\"x is negative\")    # print \"x is negative\", watch the indentation! \n",
    "elif x > 0:                  # else, if x is greater than 0 execute..\n",
    "    print (\"x is positive\")    # print \"x is positive\", watch the indentation! \n",
    "else:                          # else, execute..\n",
    "    print (\"x is 0\")           # print \"x is 0\", watch the indentation! "
   ]
  },
  {
   "cell_type": "code",
   "execution_count": null,
   "metadata": {},
   "outputs": [],
   "source": [
    "x = 'Addis Abeba'              # Try to change the string to get an other output\n",
    "\n",
    "if x == 'Addis Abeba':                    # if the city is Addis Abeba, execute this code:\n",
    "    print ('The city is Addis Abeba.')\n",
    "else:                                     # else, execute this code:\n",
    "    print ('The city is not Addis Abeba.') "
   ]
  },
  {
   "cell_type": "code",
   "execution_count": null,
   "metadata": {},
   "outputs": [],
   "source": [
    "x = [1, 2, 3, 4, 5, 6, 7, 8]    # Try to change the length of the list to get the different outputs\n",
    "\n",
    "if len(x) > 6:                  # If the length of the list is larger than six, execute code:\n",
    "    print('There are more than six numbers in the list.')\n",
    "elif len(x) > 4:                # If the length of the list is larger than four, execute code:\n",
    "    print('There are more than four numbers in the list.')\n",
    "else:                           # If both statements above are not true, execute code:\n",
    "    print('There are less than five numbers in the list.')"
   ]
  },
  {
   "cell_type": "markdown",
   "metadata": {},
   "source": [
    "# Conditions – if – exercise \n",
    "1. Create a numeric variable\n",
    "2. If the number is zero, print 'The number is zero'\n",
    "3. Else, if the number is positive, print 'The number is positive'\n",
    "4. Else, if the number is negative, print 'The number is negative'\n",
    "5. Else, print 'This is not a number'"
   ]
  },
  {
   "cell_type": "code",
   "execution_count": null,
   "metadata": {},
   "outputs": [],
   "source": [
    "# 1. Create a numeric variable\n",
    "number = 34.5\n",
    "\n",
    "# 2. If the number is zero, print 'The number is zero'\n",
    "if number == 0:\n",
    "    print('The number is zero.')\n",
    "\n",
    "# 3. Else, if the number is positive, print 'The number is positive'\n",
    "elif number > 0:\n",
    "    print('The number is positive.')\n",
    "\n",
    "# 4. Else, if the number is negative, print 'The number is negative'\n",
    "elif number < 0:\n",
    "    print('The number is negative.')\n",
    "\n",
    "# 5. Else, print 'This is not a number'\n",
    "else:\n",
    "    print('This is not a number.') \n",
    "\n",
    "# However, this else will never be activated, because when the variable is not a number, the conditions will return an error\n"
   ]
  },
  {
   "cell_type": "markdown",
   "metadata": {},
   "source": [
    "# Conditions - if - exercise (Assignment type)\n",
    "\n",
    "1. Create a list of numbers\n",
    "2. If the length of the list is 10 or lower, print the last value of the list\n",
    "3. If the length of the list is higher than 20, print only the first 20 values\n",
    "4. If the length of the list is between 10 and 21 (else or elif), print the complete list\n",
    "5. Also print the length of the list when it is between 10 and 21 (hint: use the function `len(YOUR_LIST)`)"
   ]
  },
  {
   "cell_type": "code",
   "execution_count": null,
   "metadata": {},
   "outputs": [],
   "source": [
    "# Write your code here\n",
    "# 1.\n",
    "num_list = [4, 5, 6, 7] * 4 + [1, 2, 3]\n",
    "\n",
    "# 2.\n",
    "if len(num_list) <= 10:\n",
    "    print(num_list[-1])\n",
    "\n",
    "# 3.\n",
    "elif len(num_list) > 20:\n",
    "    print(num_list[0:20]) # or print(num_list[:20])\n",
    "\n",
    "# 4.\n",
    "elif 10 < len(num_list) < 21: # or just use else:\n",
    "    print(num_list)\n",
    "\n",
    "# 5.\n",
    "    print(len(num_list))"
   ]
  },
  {
   "cell_type": "markdown",
   "metadata": {},
   "source": [
    "# Loops – while \n",
    "- the while condition is similar to the if statement, but instead it keeps looping its part of code until the comparison is not true anymore. \n",
    "- if the condition is already false, the code will not execute\n",
    "- while the condition is true, execute the code.\n",
    "- syntax is similar to the if statement\n",
    "```python\n",
    "     while (condition): \n",
    "        do something\n",
    "```\n",
    "- The code that will be looped can be 1 or multiple lines of code"
   ]
  },
  {
   "cell_type": "code",
   "execution_count": null,
   "metadata": {},
   "outputs": [],
   "source": [
    "number = 1.0               # assign a variable with value 1\n",
    "while number <= 1024:      # as long as the variable \"number\" is below 1024, execute the code below\n",
    "    print(number)          # print the value of the variable \"number\"\n",
    "    number = number * 2    # double the value of the variable \"number\""
   ]
  },
  {
   "cell_type": "markdown",
   "metadata": {},
   "source": [
    "In the next cell, try different numbers.\n",
    "\n",
    "Also try a number higher than 20. What happens? Why is the code not running?"
   ]
  },
  {
   "cell_type": "code",
   "execution_count": null,
   "metadata": {
    "scrolled": true
   },
   "outputs": [],
   "source": [
    "number = 3              # change the number to try out the code\n",
    "while number < 20:      # while number is smaller than 20, execute..\n",
    "    print(number)       # print the float stored in number and ..\n",
    "    number += 1         # add 1 to number (use += to update number, this is the short version of number = number + 1)     "
   ]
  },
  {
   "cell_type": "markdown",
   "metadata": {},
   "source": [
    "We can put the print command at the end, without a tab. Note: now it prints the number only once."
   ]
  },
  {
   "cell_type": "code",
   "execution_count": null,
   "metadata": {
    "scrolled": true
   },
   "outputs": [],
   "source": [
    "number = 5\n",
    "while number < 20:    \n",
    "    number += 1       \n",
    "print(number)        # Why do you see only one number? --> Because the print statement is outside the while loop"
   ]
  },
  {
   "cell_type": "markdown",
   "metadata": {},
   "source": [
    "Now make the while loop count down instead of up, and stop at 0. \n",
    "\n",
    "- Hint: think about the condition\n",
    "- Hint: to decrease the variable, use `-=` instead of `+=`"
   ]
  },
  {
   "cell_type": "code",
   "execution_count": null,
   "metadata": {},
   "outputs": [],
   "source": [
    "# change the while loop to let it count down to 0. Hint: how should the conditional statement change?\n",
    "number = 13              \n",
    "while number > 0:      \n",
    "    print(number)       \n",
    "    number -= 1 "
   ]
  },
  {
   "cell_type": "code",
   "execution_count": null,
   "metadata": {},
   "outputs": [],
   "source": [
    "# copy your code from the previous cell\n",
    "# before the while loop, use an if statement to have your script print a message when the given number is smaller than 0\n",
    "number = -13\n",
    "\n",
    "if number < 0:\n",
    "    print('The given number is smaller than 0.')\n",
    "\n",
    "while number > 0:      \n",
    "    print(number)       \n",
    "    number -= 1 "
   ]
  },
  {
   "cell_type": "markdown",
   "metadata": {},
   "source": [
    "Here are some more examples of while loops. Try to understand what happens at each step (rubberducking)."
   ]
  },
  {
   "cell_type": "code",
   "execution_count": null,
   "metadata": {},
   "outputs": [],
   "source": [
    "my_list = ['Python', 'Python', 'Python']\n",
    "\n",
    "while len(my_list) < 10:\n",
    "    print(my_list)\n",
    "    my_list = my_list + ['Python']"
   ]
  },
  {
   "cell_type": "code",
   "execution_count": null,
   "metadata": {},
   "outputs": [],
   "source": [
    "my_list = []          # This creates an empty list\n",
    "i = 0                 # This is used to count the number of loops\n",
    "\n",
    "while i < 15:\n",
    "    my_list.append(i) # This is a function to add a value to a list, later we will learn more about this\n",
    "    print(my_list)\n",
    "    i += 1            # Every loop i increases by 1"
   ]
  },
  {
   "cell_type": "markdown",
   "metadata": {},
   "source": [
    "# While loop - calculating air pollution example\n",
    "\n"
   ]
  },
  {
   "cell_type": "code",
   "execution_count": null,
   "metadata": {},
   "outputs": [],
   "source": [
    "# Defining the pollution function (in module 3 we will learn about creating a function)\n",
    "def pollution(Cprev, Cin, Q, KD=0.001, V=800):\n",
    "    VdC = Q * (Cin - Cprev) - KD * V * Cprev\n",
    "    VCnew = V * Cprev + VdC\n",
    "    Cnew = VCnew / V\n",
    "    return Cnew"
   ]
  },
  {
   "cell_type": "code",
   "execution_count": null,
   "metadata": {},
   "outputs": [],
   "source": [
    "# Example: stop after 150 loops\n",
    "i = 0\n",
    "Clist = [0]\n",
    "while i < 150:\n",
    "    Cprev = Clist[i]\n",
    "    Cnew = pollution(Cprev, 20, 2)\n",
    "    i += 1\n",
    "    Clist.append(Cnew)\n",
    "    print(str(i) + ': new concentration is ' + str(round(Cnew, 5)))"
   ]
  },
  {
   "cell_type": "code",
   "execution_count": null,
   "metadata": {},
   "outputs": [],
   "source": [
    "# Example: stop when concentration is above Cmax\n",
    "Cmax = 10\n",
    "\n",
    "i = 0\n",
    "Clist2 = [0]\n",
    "while True:\n",
    "    Cprev = Clist2[i]\n",
    "    Cnew = pollution(Cprev, 20, 2)\n",
    "    i += 1\n",
    "    if Cnew > Cmax:\n",
    "        break\n",
    "    Clist2.append(Cnew)\n",
    "    print(str(i) + ': new concentration is ' + str(round(Cnew, 5)))"
   ]
  },
  {
   "cell_type": "markdown",
   "metadata": {},
   "source": [
    "# Loops – while – exercise (Assignment type)\n",
    "1. Create a list of numbers with a length between 5 and 10\n",
    "2. Create a while loop that runs while the length of this list is lower than 30\n",
    "3. In the while loop add a zero to the list and print the list\n",
    "    - To add a value to a list, use either `my_list = my_list + [0]` or (the nicer way) `my_list.append(0)`\n",
    "4. Add an if statement to the while loop that prints 'The list is 30 numbers long' if the length of the list is 30"
   ]
  },
  {
   "cell_type": "code",
   "execution_count": null,
   "metadata": {},
   "outputs": [],
   "source": [
    "# 1. Create a list with numbers with a length between 5 and 10\n",
    "my_list = [1234, 5678, 4321, 8765, 1122, 3344, 5566, 7788]\n",
    "\n",
    "# 2. Create a while loop that runs while the length of this list is lower than 30\n",
    "# 3. In the while loop add a zero to the list and print the list\n",
    "# 4. Add an if statement to the while loop that prints 'The list is 30 numbers long' if the length of the list is 30\n",
    "while len(my_list) < 30:\n",
    "    my_list.append(0)\n",
    "    print(my_list)\n",
    "    \n",
    "    if len(my_list) == 30:\n",
    "        print('The list is 30 numbers long.')\n"
   ]
  },
  {
   "cell_type": "markdown",
   "metadata": {},
   "source": [
    "# Loops – for \n",
    "- A string can be seen as a list of characters\n",
    "    - For example: ```\"hello\"``` is a list of the characters `'h'`, `'e'`, `'l'`, `'l'`, and `'o'`\n",
    "- There is a function to easily create a list of numbers: `range()`\n",
    "    - ```range(0, 5)``` creates a list starting at 0 until 5 (but not including 5): `[0, 1, 2, 3, 4]`\n",
    "\n",
    "Here are two examples:"
   ]
  },
  {
   "cell_type": "code",
   "execution_count": null,
   "metadata": {},
   "outputs": [],
   "source": [
    "number_list = [0, 1, 2, 3, 4]\n",
    "print(number_list)"
   ]
  },
  {
   "cell_type": "code",
   "execution_count": null,
   "metadata": {},
   "outputs": [],
   "source": [
    "number_list = range(0, 5)\n",
    "print(list(number_list))"
   ]
  },
  {
   "cell_type": "markdown",
   "metadata": {},
   "source": [
    "A for-loop loops over every variable in the list\n",
    "  - For example:\n",
    "```python\n",
    "    for (variable) in (list): \n",
    "        do something\n",
    "```\n",
    "\n",
    "One by one the for loops goes over the variables. Some examples:"
   ]
  },
  {
   "cell_type": "code",
   "execution_count": null,
   "metadata": {},
   "outputs": [],
   "source": [
    "my_list = ['Hello', 'how', 'are', 'you', '?']\n",
    "\n",
    "for word in my_list:\n",
    "    print(word)"
   ]
  },
  {
   "cell_type": "code",
   "execution_count": null,
   "metadata": {},
   "outputs": [],
   "source": [
    "number_array = range(0, 5)   #creates a list starting at 0 until 5 (but not including 5) values\n",
    "\n",
    "for number in number_array:  #iterates trough each number in the list\n",
    "    print(number)  "
   ]
  },
  {
   "cell_type": "code",
   "execution_count": null,
   "metadata": {
    "scrolled": true
   },
   "outputs": [],
   "source": [
    "for i in range(0, 8):    #you can also directly make the list in the for statement\n",
    "    print(i)"
   ]
  },
  {
   "cell_type": "markdown",
   "metadata": {},
   "source": [
    "The name of the variable can be anything you want, from apples to pears to your own name. \n",
    "\n",
    "- Try to change the variable name `i` to a random other name and see if the code still works."
   ]
  },
  {
   "cell_type": "code",
   "execution_count": null,
   "metadata": {
    "scrolled": false
   },
   "outputs": [],
   "source": [
    "for i in range(0, 8):\n",
    "    print(i)"
   ]
  },
  {
   "cell_type": "markdown",
   "metadata": {},
   "source": [
    "The function `range()` can take three arguments: `start`, `stop` and `step`, like this: `range(start, stop, step)`\n",
    "\n",
    "Above, we have used `range(0, 5)`, meaning that the list of numbers should start with 0 and end before 5, giving: `[0, 1, 2, 3, 4]`. (The step size is by default 1.)\n",
    "\n",
    "However, we can also add a third argument, which sets the step size, e.g.: `range(0, 10, 2)`. This gives: `[0, 2, 4, 6, 8]`. \n"
   ]
  },
  {
   "cell_type": "code",
   "execution_count": null,
   "metadata": {},
   "outputs": [],
   "source": [
    "x = range(0, 10, 2)\n",
    "print(list(x))"
   ]
  },
  {
   "cell_type": "code",
   "execution_count": null,
   "metadata": {
    "scrolled": true
   },
   "outputs": [],
   "source": [
    "# Assign different values to variable steps and see what happens and why?\n",
    "steps = 1\n",
    "\n",
    "for n in range(0, 10, steps):\n",
    "    print(n)"
   ]
  },
  {
   "cell_type": "markdown",
   "metadata": {},
   "source": [
    "You can also do a for loop over a string:"
   ]
  },
  {
   "cell_type": "code",
   "execution_count": null,
   "metadata": {},
   "outputs": [],
   "source": [
    "string = \"my string\"   # adds string \"my string\" to variable string\n",
    "\n",
    "for char in string:    # starts a loop in which for each character in variable string the following is executed\n",
    "    print(char)       # print what is in char "
   ]
  },
  {
   "cell_type": "code",
   "execution_count": null,
   "metadata": {},
   "outputs": [],
   "source": [
    "string = \"my string\" # adds string \"my string\" to variable string\n",
    "num = 0\n",
    "index = -1\n",
    "\n",
    "for char in string: # starts a loop in which for each character in variable string the following is executed..\n",
    "    num +=1\n",
    "    index += 1\n",
    "    print(index, num, char) # print the index, number and character \n",
    "    "
   ]
  },
  {
   "cell_type": "code",
   "execution_count": null,
   "metadata": {
    "scrolled": true
   },
   "outputs": [],
   "source": [
    "# you can also loop over a range() and use the values as the index\n",
    "string = \"my string\" # adds string \"my string\" to variable string\n",
    "\n",
    "for i in range(0, len(string)): \n",
    "    print(string[i]) \n"
   ]
  },
  {
   "cell_type": "markdown",
   "metadata": {},
   "source": [
    "# Loops - for - exercises\n",
    "\n",
    "Given the sentence `'Hello, how are you today? I am doing fine, thanks.'`, complete the following exercises:\n",
    "\n",
    "1. Print all characters of the sentence one by one using a for-loop\n",
    "2. Make a for loop printing the 1st, 3rd, 5th, 7th, ... etc ... letter of the sentence (hint: set the step size in range())\n",
    "3. Remember the indexes that Python uses (starting from 0: 0, 1, 2, 3, ...etc...). Print the indexes of the characters in the sentence using a for-loop."
   ]
  },
  {
   "cell_type": "code",
   "execution_count": null,
   "metadata": {},
   "outputs": [],
   "source": [
    "sentence = 'Hello, how are you today? I am doing fine, thanks.'"
   ]
  },
  {
   "cell_type": "code",
   "execution_count": null,
   "metadata": {},
   "outputs": [],
   "source": [
    "# 1. Print all characters of the sentence one by one using a for-loop\n",
    "for char in sentence:\n",
    "    print(char)"
   ]
  },
  {
   "cell_type": "code",
   "execution_count": null,
   "metadata": {},
   "outputs": [],
   "source": [
    "# 2. Make a for loop printing the 1st, 3rd, 5th, 7th, ... etc ... letter of the sentence (hint: set the step size in range())\n",
    "for i in range(0, len(sentence), 2):\n",
    "    print('Index:', i, '\\tCharacter:', sentence[i])"
   ]
  },
  {
   "cell_type": "code",
   "execution_count": null,
   "metadata": {},
   "outputs": [],
   "source": [
    "# 3. Remember the indexes that Python uses (starting from 0: 0, 1, 2, 3, ...etc...). \n",
    "#    Print the indexes of the characters in the sentence using a for-loop.\n",
    "for i in range(0, len(sentence)):\n",
    "    print('Index:', i, '\\tCharacter:', sentence[i])"
   ]
  }
 ],
 "metadata": {
  "kernelspec": {
   "display_name": "Python 3 (ipykernel)",
   "language": "python",
   "name": "python3"
  },
  "language_info": {
   "codemirror_mode": {
    "name": "ipython",
    "version": 3
   },
   "file_extension": ".py",
   "mimetype": "text/x-python",
   "name": "python",
   "nbconvert_exporter": "python",
   "pygments_lexer": "ipython3",
   "version": "3.9.12"
  }
 },
 "nbformat": 4,
 "nbformat_minor": 1
}
