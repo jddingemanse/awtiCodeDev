{
 "cells": [
  {
   "cell_type": "markdown",
   "metadata": {},
   "source": [
    "# Dictionary\n",
    "\n",
    "- A dictionary is a list, but with another value as index. This value is called the key. \n",
    "- A dictionary can be created by listing key-value pairs inside curly braces, the different dictionary items are separated by a ```,``` and the key - value pairs are connected by a ```:```. \n",
    "    - For example ``` city = { 'name' : 'Arba Minch', 'country' : 'Ethiopia', 'citizens' : 200000}```\n",
    "        - Here `city` is the name of the dictionary, and its three items can be accessed as following:\n",
    "        \n",
    "        ```\n",
    "        city['name']\n",
    "        city['country']\n",
    "        city['citizens']\n",
    "        ```\n",
    "- The values of the dictionary can be changed after creation!\n"
   ]
  },
  {
   "cell_type": "code",
   "execution_count": null,
   "metadata": {},
   "outputs": [],
   "source": [
    "# above example dictionary\n",
    "city = {'name':'Arba Minch', 'country':'Ethiopia', 'citizens':200000}\n",
    "print(city)"
   ]
  },
  {
   "cell_type": "code",
   "execution_count": null,
   "metadata": {},
   "outputs": [],
   "source": [
    "# print the dictionary value at key 'citizens'\n",
    "print(city['citizens'])"
   ]
  },
  {
   "cell_type": "code",
   "execution_count": null,
   "metadata": {},
   "outputs": [],
   "source": [
    "# the following code creates a dictionary where 'name', 'type' and 'cell' are the keys and 'HIV', 'RNA' and 'CD4' are the values\n",
    "# notice how the key and values are in pairs seperated by : ('name':'HIV' is the first pair)\n",
    "virus = {'name':'HIV', 'type':'RNA', 'cell':'CD4'} \n",
    "print(virus['name']) # calls the value for key 'name'"
   ]
  },
  {
   "cell_type": "code",
   "execution_count": null,
   "metadata": {},
   "outputs": [],
   "source": [
    "# print the dictionary value at key \"type\" \n",
    "print(virus['type'])"
   ]
  },
  {
   "cell_type": "code",
   "execution_count": null,
   "metadata": {},
   "outputs": [],
   "source": [
    "# Change values of a dictionary\n",
    "print(virus) # prints what is in the dictionary virus\n",
    "virus['name'] = 'HCV' # changes the value of key 'name' into value 'HCV'\n",
    "print(virus) # prints what is in the dictionary virus"
   ]
  },
  {
   "cell_type": "markdown",
   "metadata": {},
   "source": [
    "## Dictionary – Exercise\n",
    "\n",
    "1. Make a dictionary `cities` and assign `England`, `France`, `Netherlands`, and `Germany` as the keys and corresponding capital cities as values (the capital cities are `London`, `Paris`, `Amsterdam`, and `Berlin`)\n",
    "2. Print the value assigned to key `France` in the dictionary `cities`\n",
    "\n",
    "3. Print the first item stored in `cities`\n",
    "    - Hint:\n",
    "    ```python\n",
    "    gene = { 'name' : 'P53', 'function' : 'DNA-repair', 'length' : '20kb'}\n",
    "    list_values = list(gene.values())   \n",
    "    ```\n",
    "\n",
    "`gene.values()` returns a view of the values in `gene`, `list()` is used to put them in a list. \n",
    "\n",
    "- For example, `list(gene.values())` returns `['P53', 'DNA-repair', '20kb']`\n",
    "\n",
    "`gene.keys()` returns a view of the keys in `gene`, `list()` can be use to put them in a list.\n",
    "\n",
    "- For example, `list(gene.keys())` returns `['name', 'function', 'length']`\n",
    "\n",
    "4. Print all keys and values stored in cities"
   ]
  },
  {
   "cell_type": "code",
   "execution_count": null,
   "metadata": {},
   "outputs": [],
   "source": [
    "# 1. Make a dictionary, think what will be the keys and the values (key:value)\n",
    "cities = {'England':'London', 'France':'Paris', 'Netherlands':'Amsterdam', 'Germany':'Berlin'}\n",
    "print(cities)"
   ]
  },
  {
   "cell_type": "code",
   "execution_count": null,
   "metadata": {},
   "outputs": [],
   "source": [
    "# 2. Print the value assigned to key France in the dictionary cities\n",
    "print(cities['France'])"
   ]
  },
  {
   "cell_type": "code",
   "execution_count": null,
   "metadata": {
    "scrolled": true
   },
   "outputs": [],
   "source": [
    "# 3. Print the first item (either key or value) stored in cities\n",
    "print('First key:', list(cities.keys())[0])\n",
    "print('First value:', list(cities.values())[0])"
   ]
  },
  {
   "cell_type": "code",
   "execution_count": null,
   "metadata": {},
   "outputs": [],
   "source": [
    "# 4. Print all keys and values stored in cities\n",
    "print(list(cities.keys()))\n",
    "print(list(cities.values()))"
   ]
  },
  {
   "cell_type": "markdown",
   "metadata": {},
   "source": [
    "## Modifying a Dictionary\n",
    "\n",
    "- You can add entries to Python dictionaries. For example, the following code adds the keyvalue pair ```\"origin\":\"human\"``` to the dictionary\n",
    "```python\n",
    "gene = { 'name' : 'P53', 'function' : 'DNA-repair', 'length' : '20kb'}\n",
    "gene[\"origin\"] = \"human\"\n",
    "```\n",
    "- You can also change a value of the dictionary just like a normal list\n",
    "```python\n",
    "gene = { 'name' : 'P53', 'function' : 'DNA-repair', 'length' : '20kb'}\n",
    "gene[\"function\"] = \"tumor-supressor\"\n",
    "```\n",
    "- You can delete a value from a dictionary by using the del function\n",
    "```python\n",
    "gene = { 'name' : 'P53', 'function' : 'DNA-repair', 'length' : '20kb'}\n",
    "del gene[\"function\"] \n",
    "```"
   ]
  },
  {
   "cell_type": "code",
   "execution_count": null,
   "metadata": {},
   "outputs": [],
   "source": [
    "## add to dictionary \n",
    "gene = {'name':'P53', 'function':'DNA-repair', 'length':'20kb'}\n",
    "gene[\"origin\"] = \"human\"\n",
    "print(gene)"
   ]
  },
  {
   "cell_type": "code",
   "execution_count": null,
   "metadata": {},
   "outputs": [],
   "source": [
    "# add your name as value to key observer\n",
    "gene[\"observer\"] = 'Nimrod de Wit'\n",
    "print(gene)"
   ]
  },
  {
   "cell_type": "code",
   "execution_count": null,
   "metadata": {},
   "outputs": [],
   "source": [
    "## change value in dictionary\n",
    "gene[\"function\"] = \"tumor-supressor\"\n",
    "print(gene)"
   ]
  },
  {
   "cell_type": "code",
   "execution_count": null,
   "metadata": {},
   "outputs": [],
   "source": [
    "# change the value at key observer to someone else\n",
    "gene['observer'] = 'Jan Dirk Dingemanse'"
   ]
  },
  {
   "cell_type": "code",
   "execution_count": null,
   "metadata": {},
   "outputs": [],
   "source": [
    "## delete from a dictionary\n",
    "del gene[\"function\"]\n",
    "print(gene)"
   ]
  },
  {
   "cell_type": "code",
   "execution_count": null,
   "metadata": {},
   "outputs": [],
   "source": [
    "# delete observer both the value and key \n",
    "del gene['observer']\n",
    "print(gene)"
   ]
  },
  {
   "cell_type": "code",
   "execution_count": null,
   "metadata": {},
   "outputs": [],
   "source": [
    "virus = {'name':'HIV', 'type':'RNA', 'cell':'CD4'}\n",
    "print(virus)               #prints the entire dictionary\n",
    "\n",
    "virus['name'] = \"HCMV\"     #changes the value at key 'name' from hiv to hcmv\n",
    "print(virus)\n",
    "\n",
    "virus['target'] = \"Human\"  #adds a new key target with the value Human\n",
    "print(virus)\n",
    "\n",
    "del virus['cell']          #deletes the key and value at key cell\n",
    "print(virus)"
   ]
  },
  {
   "cell_type": "markdown",
   "metadata": {},
   "source": [
    "# Adding to dictionary - Exercise\n",
    "\n",
    "1. Create a new variable called `virus_load` containing an integer (e.g. 1000)\n",
    "2. Add this variable as new entry under the key: ```load```\n",
    "3. Change the value of this entry by adding 500 to it\n",
    "4. Print this value and check if the addition worked\n",
    "4. Delete the key ```cell``` \n",
    "5. Print the entire dictionary and check if the deletion worked"
   ]
  },
  {
   "cell_type": "code",
   "execution_count": null,
   "metadata": {},
   "outputs": [],
   "source": [
    "# start with dictionary\n",
    "virus = {'name':'HIV', 'type':'RNA', 'cell':'CD4'}\n",
    "print(virus)"
   ]
  },
  {
   "cell_type": "code",
   "execution_count": null,
   "metadata": {},
   "outputs": [],
   "source": [
    "# 1. Create a new variable called virus_load containing an integer (e.g. 1000)\n",
    "virus_load = 980"
   ]
  },
  {
   "cell_type": "code",
   "execution_count": null,
   "metadata": {},
   "outputs": [],
   "source": [
    "# 2. Add this variable as new entry under the key: load\n",
    "virus['load'] = virus_load\n",
    "print(virus)"
   ]
  },
  {
   "cell_type": "code",
   "execution_count": null,
   "metadata": {},
   "outputs": [],
   "source": [
    "# 3. Change the value of entry load by adding 500 to it\n",
    "# and 4.Print this value and check if the addition worked\n",
    "virus['load'] += 500\n",
    "print(virus['load'])"
   ]
  },
  {
   "cell_type": "code",
   "execution_count": null,
   "metadata": {},
   "outputs": [],
   "source": [
    "# 5. Delete the key cell \n",
    "# and 6. Print the entire dictionary and check if the deletion worked\n",
    "del virus['cell']\n",
    "print(virus)"
   ]
  },
  {
   "cell_type": "markdown",
   "metadata": {
    "collapsed": true
   },
   "source": [
    "## Looping a Dictionary\n",
    "\n",
    "- **You can loop through a dictionary using its keys.**\n",
    "- By using ```for var in dictionary``` we loop trough each key of the dictionary\n",
    "- Try to see if you can understand the example below\n"
   ]
  },
  {
   "cell_type": "code",
   "execution_count": null,
   "metadata": {},
   "outputs": [],
   "source": [
    "# Create dictionary that contains precipitations for three different locations\n",
    "precipitations = {'Loc1':35, 'Loc2':5, 'Loc3':88}\n",
    "\n",
    "# Assign a variable to store total precipitation\n",
    "total_precip = 0 \n",
    "\n",
    "# Loop through the dictionary to calculate sum of all precipitations\n",
    "for key in precipitations: # key loops over the keys in dict precipitations\n",
    "    total_precip += precipitations[key] # += adds the value at the key to the total_precip\n",
    "\n",
    "# Or use one-liners to calculate sum of all precipitations\n",
    "total_precip2 = sum(precipitations.values()) # use the sum and .values() function to get the total_precip\n",
    "\n",
    "print(total_precip)\n",
    "print(total_precip2)\n",
    "print(precipitations.values())"
   ]
  },
  {
   "cell_type": "markdown",
   "metadata": {},
   "source": [
    "# Looping dictionaries - Exercise (Assignment type)\n",
    "\n",
    "Given the dictionary `highest_mountains`: \n",
    "\n",
    "1. Loop over the dictionary and print the keys\n",
    "2. Loop over the dictionary and print the values\n",
    "3. Loop over the dictionary and change the heights in meters to heights in kilometers (dividing by 1000) and add these heights to a new list\n",
    "    - Hint: first you have create an empty list and in the for loop add the new values to the list by using `.append()`\n",
    "4. Calculate the mean height of the mountains using the newly made list\n",
    "    - Hint: think of a list method to calculate the mean"
   ]
  },
  {
   "cell_type": "code",
   "execution_count": null,
   "metadata": {},
   "outputs": [],
   "source": [
    "# Creating the highest_mountains dictionary\n",
    "highest_mountains = {'Mount_everest':8848, 'K2':8611, 'Kangchenjunga':8586, 'Lhotse':8516, 'Makalu':8485, 'Cho_oyu':8188, 'Dhaulagiri':8167}\n",
    "print(highest_mountains)"
   ]
  },
  {
   "cell_type": "code",
   "execution_count": null,
   "metadata": {},
   "outputs": [],
   "source": [
    "# 1. Loop over the dictionary and print the keys\n",
    "for key in highest_mountains:\n",
    "    print(key)"
   ]
  },
  {
   "cell_type": "code",
   "execution_count": null,
   "metadata": {},
   "outputs": [],
   "source": [
    "# 2. Loop over the dictionary and print the values\n",
    "print('############## Option 1 ##############')\n",
    "for key in highest_mountains:\n",
    "    print(highest_mountains[key])\n",
    "\n",
    "print('############## Option 2 ##############')\n",
    "for value in highest_mountains.values():\n",
    "    print(value)"
   ]
  },
  {
   "cell_type": "code",
   "execution_count": null,
   "metadata": {},
   "outputs": [],
   "source": [
    "# 3. Loop over the dictionary and change the heights and add to list\n",
    "new_heights = []\n",
    "\n",
    "for key in highest_mountains:\n",
    "    new_height = highest_mountains[key] / 1000\n",
    "    new_heights.append(new_height)\n",
    "    \n",
    "print(new_heights)"
   ]
  },
  {
   "cell_type": "code",
   "execution_count": null,
   "metadata": {},
   "outputs": [],
   "source": [
    "# 4. Calculate the mean height of the mountains using the newly made list\n",
    "mean_height = sum(new_heights) / len(new_heights)\n",
    "print('The mean height is', round(mean_height, 2), 'kilometers.')"
   ]
  }
 ],
 "metadata": {
  "kernelspec": {
   "display_name": "Python 3 (ipykernel)",
   "language": "python",
   "name": "python3"
  },
  "language_info": {
   "codemirror_mode": {
    "name": "ipython",
    "version": 3
   },
   "file_extension": ".py",
   "mimetype": "text/x-python",
   "name": "python",
   "nbconvert_exporter": "python",
   "pygments_lexer": "ipython3",
   "version": "3.9.12"
  }
 },
 "nbformat": 4,
 "nbformat_minor": 1
}
