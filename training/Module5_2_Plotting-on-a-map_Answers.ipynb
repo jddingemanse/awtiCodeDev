{
 "cells": [
  {
   "cell_type": "markdown",
   "id": "fee45966",
   "metadata": {},
   "source": [
    "# Module 5.2 - Plotting on a map\n",
    "\n",
    "Welcome to module 5.2! This module is a follow-up of module 5.1, where we were introduced to working with satellite data. In this module, we will learn:\n",
    "- Ways of plotting satellite data on a map \n",
    "- How to work with geopandas, a package created for working with geographical data"
   ]
  },
  {
   "cell_type": "markdown",
   "id": "10bb515c",
   "metadata": {},
   "source": [
    "## 1. Plotting data on a map\n",
    "\n",
    "There are many ways to plot you geographical data. Here, we will look at four options:\n",
    "1. Contour plot\n",
    "2. Filled contour plot\n",
    "3. Plotting an image of a map\n",
    "4. Plotting points on a map (e.g., cities)\n",
    "\n",
    "### 1.1. Contour plot\n",
    "First, let's look at how we can make a contour plot. This can be done by using the function `ax.contour()`.\n",
    "- The function `ax.contour()` takes at least three inputs: `longitudes`, `latitutes` and the actual data\n",
    "- One useful argument is the argument `cmap=`, which lets you choose the colors of the contours\n",
    "\n",
    "\n",
    "- We can also add labels to the contours, this can be done in two steps:\n",
    "    - Assign the `ax.contour()` function to a new variable\n",
    "    - Use this new variable as input to the function `ax.clabel()`. \n",
    "\n",
    "In the cell below we import the important packages and load temperature data for Ethiopia. "
   ]
  },
  {
   "cell_type": "code",
   "execution_count": null,
   "id": "b1ae7f49",
   "metadata": {},
   "outputs": [],
   "source": [
    "import matplotlib.pyplot as plt\n",
    "import pandas as pd\n",
    "import xarray as xr\n",
    "import numpy as np\n",
    "\n",
    "ds = xr.open_dataset('Module5_1_Temperatures.nc')\n",
    "\n",
    "latmin = 3\n",
    "latmax = 16\n",
    "lonmin = 32\n",
    "lonmax = 48\n",
    "\n",
    "temps_ethiopia = ds.air[:, (ds.lat > latmin) & (ds.lat < latmax), (ds.lon > lonmin) & (ds.lon < lonmax)]\n",
    "temps_eth_mean = np.mean(temps_ethiopia, axis=0)"
   ]
  },
  {
   "cell_type": "markdown",
   "id": "364213b2",
   "metadata": {},
   "source": [
    "Now we can use this data of Ethiopia to make a contour plot without labels:"
   ]
  },
  {
   "cell_type": "code",
   "execution_count": null,
   "id": "4cd7add1",
   "metadata": {},
   "outputs": [],
   "source": [
    "# Creating a fig and ax\n",
    "fig, ax = plt.subplots()\n",
    "\n",
    "# Creating the contour plot\n",
    "ax.contour(temps_eth_mean.lon, temps_eth_mean.lat, temps_eth_mean, cmap='coolwarm')"
   ]
  },
  {
   "cell_type": "markdown",
   "id": "0cf9ac79",
   "metadata": {},
   "source": [
    "And also a contour plot with labels:"
   ]
  },
  {
   "cell_type": "code",
   "execution_count": null,
   "id": "72317247",
   "metadata": {},
   "outputs": [],
   "source": [
    "fig, ax = plt.subplots()\n",
    "\n",
    "# Creating a contour plot\n",
    "contour = ax.contour(temps_eth_mean.lon, temps_eth_mean.lat, temps_eth_mean, cmap='coolwarm')\n",
    "\n",
    "# Adding the labels to the contours\n",
    "ax.clabel(contour)"
   ]
  },
  {
   "cell_type": "markdown",
   "id": "fe63a528",
   "metadata": {},
   "source": [
    "### 1.2. Filled contour plot\n",
    "\n",
    "We can also create a plot with filled contours. This is done in exactly the same way as above, only now using the function `ax.contourf()` instead of `ax.contour()`. \n",
    "\n",
    "Here we see the same plot, but now with a filled contour. (We also add a colorbar.)"
   ]
  },
  {
   "cell_type": "code",
   "execution_count": null,
   "id": "25676506",
   "metadata": {},
   "outputs": [],
   "source": [
    "# ax.contourf\n",
    "fig, ax = plt.subplots()\n",
    "\n",
    "contourf = ax.contourf(temps_eth_mean.lon, temps_eth_mean.lat, temps_eth_mean, cmap='coolwarm')\n",
    "fig.colorbar(contourf, label='Temperature (K)')"
   ]
  },
  {
   "cell_type": "markdown",
   "id": "c845b16f",
   "metadata": {},
   "source": [
    "**Exercise:** Creating a contour plot of the South-America temperatures\n",
    "- Select the temperatures of South-America (-60, 20, 260, 345) and calculate the mean over the time dimension\n",
    "- Create a filled contour plot of this region"
   ]
  },
  {
   "cell_type": "code",
   "execution_count": null,
   "id": "89c62cb1",
   "metadata": {},
   "outputs": [],
   "source": [
    "# Your code here\n",
    "latmin = -60\n",
    "latmax = 20\n",
    "lonmin = 260\n",
    "lonmax = 345\n",
    "\n",
    "temps_SA = ds.air[:, (ds.lat > latmin) & (ds.lat < latmax), (ds.lon > lonmin) & (ds.lon < lonmax)]\n",
    "temps_SA_mean = np.mean(temps_SA, axis=0)\n",
    "\n",
    "temps_SA_mean.plot()"
   ]
  },
  {
   "cell_type": "markdown",
   "id": "d34bd0c8",
   "metadata": {},
   "source": [
    "### 1.3. Plotting an image of a map\n",
    "\n",
    "When we hava an image of a map, we can plot it.\n",
    "\n",
    "We have an image of the map of Ethiopia, called `Module5_2_Ethiopia.png`. There are two steps in plotting an image:\n",
    "1. We need to read the image; loading the image file into a variable\n",
    "    - This is done using the function `plt.imread('your_image.png')`\n",
    "2. We need to show the image; plotting the image on an axes\n",
    "    - This is done using the function `ax.imshow(image_variable, extent=(lonmin, lonmax, latmin, latmax))`\n",
    "   \n",
    "The function `ax.imshow()` needs input for the argument `extent=`. Therefore, we create the variable `boundaries`, which contains the `lonmin`, `lonmax`, `latmin`, and `latmax` of the image that we are plotting. These values will be set as the x limits and y limits of the plot."
   ]
  },
  {
   "cell_type": "code",
   "execution_count": null,
   "id": "1e5647e8",
   "metadata": {},
   "outputs": [],
   "source": [
    "# Loading an image of a map to a variable\n",
    "map_eth = plt.imread('Module5_2_Ethiopia.png')\n",
    "\n",
    "fig, ax = plt.subplots()\n",
    "\n",
    "# Plotting the image\n",
    "boundaries = (32, 48, 3, 16)\n",
    "ax.imshow(map_eth, extent=boundaries)"
   ]
  },
  {
   "cell_type": "markdown",
   "id": "ea8828e1",
   "metadata": {},
   "source": [
    "Now that we have plotted a map. We can add our data to the map. For example, we can add a contourplot to the map, like this:"
   ]
  },
  {
   "cell_type": "code",
   "execution_count": null,
   "id": "dc82f773",
   "metadata": {},
   "outputs": [],
   "source": [
    "map_eth = plt.imread('Module5_2_Ethiopia.png')\n",
    "\n",
    "fig, ax = plt.subplots()\n",
    "\n",
    "boundaries = (32, 48, 3, 16)\n",
    "ax.imshow(map_eth, extent=boundaries)\n",
    "\n",
    "ax.contour(temps_eth_mean.lon, temps_eth_mean.lat, temps_eth_mean)"
   ]
  },
  {
   "cell_type": "markdown",
   "id": "8a95427f",
   "metadata": {},
   "source": [
    "### 1.4. Plotting points on a map (e.g., cities)\n",
    "\n",
    "Another thing we can plot on a map are points. This is useful for when we want to show some cities or measurement locations on a map. \n",
    "- We use the function `ax.scatter()` (which we saw in module 4.2)\n",
    "- We will need a file with some points (values and coordinates)\n",
    "    - In the example below we use a file containing cities, with for every city the name, population, longitude, and latitude\n",
    "\n",
    "Now we will load the file with locations and plot them on the map of Ethiopia."
   ]
  },
  {
   "cell_type": "code",
   "execution_count": null,
   "id": "522713d5",
   "metadata": {},
   "outputs": [],
   "source": [
    "cities = pd.read_csv('Module5_2_Census2007.csv')\n",
    "cities"
   ]
  },
  {
   "cell_type": "code",
   "execution_count": null,
   "id": "fa30927e",
   "metadata": {},
   "outputs": [],
   "source": [
    "# Cities on a map\n",
    "map_eth = plt.imread('Module5_2_Ethiopia.png')\n",
    "\n",
    "fig, ax = plt.subplots()\n",
    "\n",
    "boundaries = (32, 48, 3, 16)\n",
    "ax.imshow(map_eth, extent=boundaries)\n",
    "\n",
    "cities = pd.read_csv('Module5_2_Census2007.csv')\n",
    "\n",
    "ax.scatter(cities.lon, cities.lat, s=cities.Populationclass**1.25, fc='none', ec='k')"
   ]
  },
  {
   "cell_type": "code",
   "execution_count": null,
   "id": "09a0d7f1",
   "metadata": {},
   "outputs": [],
   "source": [
    "map_eth = plt.imread('Module5_2_Ethiopia.png')\n",
    "\n",
    "fig, ax = plt.subplots()\n",
    "\n",
    "boundaries = (32, 48, 3, 16)\n",
    "ax.imshow(map_eth, extent=boundaries)\n",
    "\n",
    "loc = cities.loc[[0, 1, 2, 3, 4, 6, 7, 8]]\n",
    "\n",
    "for i in loc.index:\n",
    "    ax.scatter(loc.lon[i], loc.lat[i], c='k')\n",
    "    ax.text(loc.lon[i]+0.3, loc.lat[i], cities.City[i])"
   ]
  },
  {
   "cell_type": "markdown",
   "id": "6a707007",
   "metadata": {},
   "source": [
    "## 2. Geopandas basics\n",
    "\n",
    "Geopandas is a Python package that makes working with geospatial data easier. In this second part of module 5.2 we will look at some of the things you can do with it:\n",
    "1. Loading shapefiles\n",
    "2. Plotting shapefiles\n",
    "3. Changing the coordinate reference systems (CRS)\n",
    "4. Creating geographical points\n",
    "5. Clip data based on shape\n",
    "\n",
    "At the end, we will apply some of these insights to NetCDF data. To create geographical points based on latitude and longitude values, and to clip a dataset based on shapefiles. \n",
    "\n",
    "But before we continue, let's import all necessary packages:"
   ]
  },
  {
   "cell_type": "code",
   "execution_count": null,
   "id": "2c0b6d66",
   "metadata": {},
   "outputs": [],
   "source": [
    "import numpy as np\n",
    "import xarray as xr\n",
    "import matplotlib.pyplot as plt\n",
    "import pandas as pd\n",
    "\n",
    "import geopandas as gpd"
   ]
  },
  {
   "cell_type": "markdown",
   "id": "d82dc5a2",
   "metadata": {},
   "source": [
    "### 2.1 Loading shapefiles\n",
    "\n",
    "As said above, geopandas is able to load and work with shapefiles. Loading geographical files, like shapefiles (`.shp`) can be done using the function `gpd.read_file()`. \n",
    "\n",
    "In the cell below we read a `.zip` file with the shape files of the Ethiopian regions."
   ]
  },
  {
   "cell_type": "code",
   "execution_count": null,
   "id": "2217a591",
   "metadata": {},
   "outputs": [],
   "source": [
    "regions = gpd.read_file('Module5_2_Regions.zip')"
   ]
  },
  {
   "cell_type": "markdown",
   "id": "ffbfd30a",
   "metadata": {},
   "source": [
    "By loading the file, we have created a GeoDataFrame. This is similar to a normal DataFrame (which we saw in Module 3). However, GeoDataFrames are designed to store geographical data (points, lines, polygons) effectively. This location data is automatically stored in the column `geometry`. Other columns are the metadata as available in the shape file.\n",
    "\n",
    "Run the cell below to see the content of the GeoDataFrame."
   ]
  },
  {
   "cell_type": "code",
   "execution_count": null,
   "id": "080f70df",
   "metadata": {},
   "outputs": [],
   "source": [
    "regions"
   ]
  },
  {
   "cell_type": "markdown",
   "id": "e9b9a669",
   "metadata": {},
   "source": [
    "### 2.2 Plotting shapefiles\n",
    "\n",
    "- Geopandas contains the built-in function `.plot()`, which automatically plots whatever is in the column `geometry`.\n",
    "- For convenience, we first create our own `fig` and `ax` and then use the argument `ax=` to plot on our own axes.\n",
    "- The arguments `facecolor=` and `edgecolor=` can be used to change the colors of the inside and contour of the shapes.\n",
    "\n",
    "Run the cell below and try out some different colors. "
   ]
  },
  {
   "cell_type": "code",
   "execution_count": null,
   "id": "2cfc54df",
   "metadata": {},
   "outputs": [],
   "source": [
    "fig, ax = plt.subplots()\n",
    "\n",
    "regions.plot(ax=ax, facecolor='white', edgecolor='k')"
   ]
  },
  {
   "cell_type": "markdown",
   "id": "c4e66f17",
   "metadata": {},
   "source": [
    "Because a GeoDataFrame is similar to a DataFrame, we can also use the same tools. For example, we can use boolean slicing to get only the region SNNPR.\n",
    "\n",
    "**Exercise:** Run the cell below and try to select different regions. "
   ]
  },
  {
   "cell_type": "code",
   "execution_count": null,
   "id": "7ae94b01",
   "metadata": {},
   "outputs": [],
   "source": [
    "fig, ax = plt.subplots()\n",
    "\n",
    "regions[regions.REGIONNAME == 'SNNPR'].plot(ax=ax)\n",
    "regions[regions.REGIONNAME == 'Gambela'].plot(ax=ax)\n",
    "regions[regions.REGIONNAME == 'Addis Ababa'].plot(ax=ax)\n",
    "regions[regions.REGIONNAME == 'Tigray'].plot(ax=ax)"
   ]
  },
  {
   "cell_type": "markdown",
   "id": "ffffb0cd",
   "metadata": {},
   "source": [
    "### 2.3 Changing the coordinate reference systems (CRS)\n"
   ]
  },
  {
   "cell_type": "markdown",
   "id": "4d88afe4",
   "metadata": {},
   "source": [
    "- Different geographical data can be in a different **Coordinate Reference System** (CRS). \n",
    "- Therefore, when we want to combine data from two different sources, they first need to be set in the same CRS.\n",
    "- We can **get** the CRS of a file by using the attribute `.crs` on the variable containing the GeoDataFrame. \n",
    "- We can **change** the CRS of a file by using the function `.to_crs()` and assigning the output to a new variable.\n",
    "\n",
    "Carefully read and run the code in the cells below. Try to understand what is happening."
   ]
  },
  {
   "cell_type": "code",
   "execution_count": null,
   "id": "7d8e9dee",
   "metadata": {},
   "outputs": [],
   "source": [
    "# Loading a shape file with all places of Ethiopia\n",
    "places = gpd.read_file('Module5_2_Places.zip')"
   ]
  },
  {
   "cell_type": "code",
   "execution_count": null,
   "id": "04d1bee6",
   "metadata": {},
   "outputs": [],
   "source": [
    "# Show the CRS of regions\n",
    "regions.crs"
   ]
  },
  {
   "cell_type": "code",
   "execution_count": null,
   "id": "8eb1dc62",
   "metadata": {},
   "outputs": [],
   "source": [
    "# Show the CRS of places\n",
    "places.crs"
   ]
  },
  {
   "cell_type": "code",
   "execution_count": null,
   "id": "e1730da4",
   "metadata": {},
   "outputs": [],
   "source": [
    "# Because the files have a different CRS, we change the CRS of the places file\n",
    "# As input to the function we can use the CRS of the regions file\n",
    "places = places.to_crs(regions.crs)"
   ]
  },
  {
   "cell_type": "markdown",
   "id": "3a0f3b56",
   "metadata": {},
   "source": [
    "Because the CRS of `regions` and `places` is now the same, we can plot them together in one figure."
   ]
  },
  {
   "cell_type": "code",
   "execution_count": null,
   "id": "4c8ae5c3",
   "metadata": {
    "scrolled": false
   },
   "outputs": [],
   "source": [
    "fig, ax = plt.subplots()\n",
    "\n",
    "# Plot the regions of Ethiopia\n",
    "regions.plot(ax=ax, edgecolor='k', facecolor='none')\n",
    "\n",
    "# Plot all places in Ethiopia\n",
    "places.plot(ax=ax, markersize=0.5, color='r')"
   ]
  },
  {
   "cell_type": "markdown",
   "id": "a16033af",
   "metadata": {},
   "source": [
    "We can also plot only a selection of the places. For example `places.iloc[0:100].plot(ax=ax)` will plot only the first 100 places. In the same way, you can also select a specific place to plot, like Addis Abbeba (wich has index 0). "
   ]
  },
  {
   "cell_type": "code",
   "execution_count": null,
   "id": "aba337ed",
   "metadata": {},
   "outputs": [],
   "source": [
    "fig, ax = plt.subplots()\n",
    "regions.plot(ax=ax, edgecolor='k', facecolor='none')\n",
    "\n",
    "# The first 100 places\n",
    "places.iloc[0:100].plot(ax=ax, markersize=20, color='b')\n",
    "\n",
    "# Addis Abbeba\n",
    "places.iloc[0:1].plot(ax=ax, markersize=100, color='y')"
   ]
  },
  {
   "cell_type": "markdown",
   "id": "6c394c03",
   "metadata": {},
   "source": [
    "**Exercise:** Now try to plot the following places and be creative with colors and sizes:\n",
    "- Addis Abeba (index: 0)\n",
    "- Gonder (index: 8)\n",
    "- Adama (index: 13)\n",
    "- Mek'elē (index: 42)\n",
    "- Dirē Dawa (index: 48)"
   ]
  },
  {
   "cell_type": "code",
   "execution_count": null,
   "id": "61adfcfa",
   "metadata": {},
   "outputs": [],
   "source": [
    "# Your code here\n",
    "fig, ax = plt.subplots()\n",
    "regions.plot(ax=ax, edgecolor='b', facecolor='none')\n",
    "\n",
    "places.iloc[0:1].plot(ax=ax, markersize=200, marker='*', color='r')\n",
    "places.iloc[8:9].plot(ax=ax, markersize=70, marker='D', color='g')\n",
    "places.iloc[13:14].plot(ax=ax, markersize=90, marker='H', color='m')\n",
    "places.iloc[42:43].plot(ax=ax, markersize=90, marker='X', color='indigo')\n",
    "places.iloc[48:49].plot(ax=ax, markersize=90, marker='P', color='lightsalmon')"
   ]
  },
  {
   "cell_type": "markdown",
   "id": "5cc02b65",
   "metadata": {},
   "source": [
    "### 2.4 Creating geographical points"
   ]
  },
  {
   "cell_type": "markdown",
   "id": "b22a35f4",
   "metadata": {},
   "source": [
    "- When you have a list of x- and y-coordinates (for example, longitudes and latitudes), you can turn these into GeoPandas geographical points with the function `.points_from_xy()`. \n",
    "- If the x- and y-coordinates are in lon and lat degrees, then the CRS is `EPSG:4326`. We can set this using the argument `crs=`. \n",
    "- These newly created geometry points can be combined with other information to create a GeoDataFrame.\n",
    "\n",
    "For example, let's say we have the latitudes and longitudes of the three highest mountain ranges from Ethiopia and we want to create a GeoDataFrame out of this. We can do this in three steps:\n",
    "1. Create geographical points using latitudes and longitudes\n",
    "2. Put all the other information inside a dictionary\n",
    "3. Create a GeoDataFrame using the function `gpd.GeoDataFrame(dictionary_with_information, geometry=your_geometry_points)`"
   ]
  },
  {
   "cell_type": "code",
   "execution_count": null,
   "id": "87926319",
   "metadata": {},
   "outputs": [],
   "source": [
    "# Creating the geographical points\n",
    "lats = [13.24, 6.83, 10.95]\n",
    "lons = [38.37, 39.82, 39.10]\n",
    "mountain_geometry = gpd.points_from_xy(lons, lats, crs='EPSG:4326')"
   ]
  },
  {
   "cell_type": "code",
   "execution_count": null,
   "id": "2d7bcc7b",
   "metadata": {},
   "outputs": [],
   "source": [
    "# Creating a dictionary with other information\n",
    "mountain_dict = {'mountain':['Ras Dashen', 'Tullu Demtu', 'Amba Frit'], \n",
    "                 'range':['Semien Mountains', 'Bale Mountains', 'Kollo Massif']}"
   ]
  },
  {
   "cell_type": "code",
   "execution_count": null,
   "id": "56ed05d3",
   "metadata": {},
   "outputs": [],
   "source": [
    "# Creating a GeoDataFrame\n",
    "mountain_gdf = gpd.GeoDataFrame(mountain_dict, geometry=mountain_geometry)\n",
    "mountain_gdf"
   ]
  },
  {
   "cell_type": "markdown",
   "id": "4fa519cf",
   "metadata": {},
   "source": [
    "We now have a GeoDataFrame with three geometry locations (which we created using longitude and latitude). \n",
    "\n",
    "These geometry locations we can plot together with the regions, if we align the crs first."
   ]
  },
  {
   "cell_type": "code",
   "execution_count": null,
   "id": "cc59fedd",
   "metadata": {},
   "outputs": [],
   "source": [
    "# Checking the CRS of regions and mountain_gdf\n",
    "print(regions.crs)\n",
    "print(mountain_gdf.crs)"
   ]
  },
  {
   "cell_type": "code",
   "execution_count": null,
   "id": "542f7bfe",
   "metadata": {},
   "outputs": [],
   "source": [
    "# Changing the CRS of mountain_gdf\n",
    "mountain_gdf = mountain_gdf.to_crs(regions.crs)\n",
    "\n",
    "# Plotting the regions and mountains\n",
    "fig, ax = plt.subplots()\n",
    "regions.plot(ax=ax, facecolor='none', edgecolor='k')\n",
    "mountain_gdf.plot(ax=ax, markersize=200, marker='^')"
   ]
  },
  {
   "cell_type": "markdown",
   "id": "e3a3fa67",
   "metadata": {},
   "source": [
    "### 2.5 Clip data based on shape\n",
    "\n",
    "- We can also use shapes as a mask. For example, if we want to select only the data for Ethiopia, we can use the shape of Ethiopia. \n",
    "- In module 5.1 we selected the data for Ethiopia by using `latmin`, `latmax`, `lonmin`, and `lonmax`. However, this is not accurate, because also data from neighboring countries will be selected. \n",
    "- Therefore, using a shape to select data is better. This can be done by using the function `.clip(data, mask)`. \n",
    "    - `data` is the dataset that you want to select from.\n",
    "    - `mask` is the shape that you want to use\n",
    "\n",
    "The following cell shows an example of selecting only the places within the region SNNPR. "
   ]
  },
  {
   "cell_type": "code",
   "execution_count": null,
   "id": "e0a4ff0a",
   "metadata": {},
   "outputs": [],
   "source": [
    "# Creating the mask using the regions geodataframe\n",
    "mask = regions[regions.REGIONNAME == 'SNNPR']\n",
    "\n",
    "# Selecting only the places within the shape of SNNPR\n",
    "placesSNNPR = gpd.clip(places, mask)\n",
    "\n",
    "print('Number of places before selection:', len(places))\n",
    "print('Number of places after selection:', len(placesSNNPR))"
   ]
  },
  {
   "cell_type": "code",
   "execution_count": null,
   "id": "421afada",
   "metadata": {},
   "outputs": [],
   "source": [
    "# Plotting all places with SNNPR places in a different color\n",
    "fig, ax = plt.subplots()\n",
    "\n",
    "places.plot(ax=ax, markersize=0.3, color='r')\n",
    "placesSNNPR.plot(ax=ax, markersize=0.3, color='k')"
   ]
  },
  {
   "cell_type": "markdown",
   "id": "a8d11536",
   "metadata": {},
   "source": [
    "**Exercises:** \n",
    "- Create a new variable with only the places of the region Addis Ababa.\n",
    "- Plot the shape of the region Addis Ababa (hint: the mask used for the previous exercise is the shape of the region Addis Ababa, so use `mask.plot()` and think about the argument `ax=`).\n",
    "- On the same axes plot the variable containing the selected places."
   ]
  },
  {
   "cell_type": "code",
   "execution_count": null,
   "id": "38f3245a",
   "metadata": {},
   "outputs": [],
   "source": [
    "# You code here\n",
    "# Select the places within the region Addis Ababa\n",
    "mask = regions[regions.REGIONNAME == 'Addis Ababa']\n",
    "places_AddisAbaba = gpd.clip(places, mask)\n",
    "\n",
    "# Plot the shape of Addis Ababa\n",
    "fig, ax = plt.subplots()\n",
    "\n",
    "mask.plot(ax=ax, facecolor='aquamarine', edgecolor='mediumaquamarine')\n",
    "places_AddisAbaba.plot(ax=ax, c='seagreen', marker='h')"
   ]
  },
  {
   "cell_type": "markdown",
   "id": "03e79a5d",
   "metadata": {},
   "source": [
    "## 3. Geopandas and NetCDF\n",
    "\n",
    "We are going to combine Geopandas and NetCDF to plot surface temperatures only for Ethiopia, based on the region shapes that we can load with GeoPandas. By applying the tools that we have seen above, we will do the following two things:\n",
    "1. Turn latitudes and longitudes of the NetCDF file into Geopandas geometry points\n",
    "2. Use polygons from regions to clip the data (to get only the points within the shape of Ethiopia)\n",
    "\n",
    "### Preparing the NetCDF data\n",
    "\n",
    "We will start with loading the surface temperature data, and cutting to a square around Ethiopia. Later on, we will clip to the shape of Ethiopia, but for now we can already throw away everything outside that square.\n",
    "\n",
    "The first dimensions of our dataset is `time`. However, because we now focus on geometry, we need to get rid of this dimension. Therefore, we also take the mean over the time dimension using `np.mean()`."
   ]
  },
  {
   "cell_type": "code",
   "execution_count": null,
   "id": "3821d03b",
   "metadata": {},
   "outputs": [],
   "source": [
    "ds = xr.open_dataset('Module5_1_Temperatures.nc')\n",
    "\n",
    "latmin = 3\n",
    "latmax = 16\n",
    "lonmin = 32\n",
    "lonmax = 48\n",
    "\n",
    "temps_eth = ds.air[:, (ds.lat > latmin) & (ds.lat < latmax), (ds.lon > lonmin) & (ds.lon < lonmax)]\n",
    "temps_eth_mean = np.mean(temps_eth, axis=0)\n",
    "\n",
    "print('Shape of original dataset:\\t', ds.air.shape)\n",
    "print('Shape of temps_eth:\\t\\t', temps_eth.shape)\n",
    "print('Shape of temps_eth_mean:\\t', temps_eth_mean.shape)"
   ]
  },
  {
   "cell_type": "markdown",
   "id": "965b1a58",
   "metadata": {},
   "source": [
    "In order to work with Geopandas tools, our data must be a GeoDataFrame. We can easily turn a NetCDF dataset into a dataframe with the function `.to_dataframe()`. This will create a dataframe indexed by it's dimensions (index will be some combination of latitude and longitude). In order to get a normal index, we can add `.reset_index()`."
   ]
  },
  {
   "cell_type": "code",
   "execution_count": null,
   "id": "c2fe944b",
   "metadata": {},
   "outputs": [],
   "source": [
    "temps_eth_df = temps_eth_mean.to_dataframe().reset_index()\n",
    "temps_eth_df"
   ]
  },
  {
   "cell_type": "markdown",
   "id": "e8c77464",
   "metadata": {},
   "source": [
    "### 3.1 Turn latitudes and longitudes into geometry points\n",
    "\n",
    "We now have our NetCDF data inside a dataframe with the columns lat, lon, and surface temperatures. We can turn these latitudes and longitudes into GeoPandas geometry points, using the function `gpd.points_from_xy()`. After creating the geometry points we can combine them with the temperatures to create a new GeoDataFrame. "
   ]
  },
  {
   "cell_type": "code",
   "execution_count": null,
   "id": "652130fe",
   "metadata": {
    "scrolled": false
   },
   "outputs": [],
   "source": [
    "# Creating the geometry points\n",
    "geometry_eth = gpd.points_from_xy(temps_eth_df.lon, temps_eth_df.lat, crs=\"EPSG:4326\")\n",
    "\n",
    "# Use the geometry points to create a GeoDataFrame\n",
    "temps_eth_gdf = gpd.GeoDataFrame({'temperature':temps_eth_df.air, 'geometry':geometry_eth})\n",
    "temps_eth_gdf"
   ]
  },
  {
   "cell_type": "markdown",
   "id": "81a0a382",
   "metadata": {},
   "source": [
    "### 3.2 Use polygons from regions to clip the data"
   ]
  },
  {
   "cell_type": "markdown",
   "id": "fb2b40a7",
   "metadata": {},
   "source": [
    "With the function `.clip(data, mask)` we can select only those datapoints that are within the polygons of regions (for our case: every point that is within Ethiopia). Of course, we first need to make sure the CRS for both files (`data` and `mask`) are the same. "
   ]
  },
  {
   "cell_type": "code",
   "execution_count": null,
   "id": "7f3aa078",
   "metadata": {},
   "outputs": [],
   "source": [
    "# Checking and changing the CRS of temps_eth_gdf and regions\n",
    "print('CRS of temps_eth_gdf:', temps_eth_gdf.crs)\n",
    "\n",
    "print('CRS of regions before changing:', regions.crs)\n",
    "regions = regions.to_crs(temps_eth_gdf.crs)\n",
    "print('CRS of regions after changing:', regions.crs)"
   ]
  },
  {
   "cell_type": "code",
   "execution_count": null,
   "id": "1181643a",
   "metadata": {
    "scrolled": false
   },
   "outputs": [],
   "source": [
    "mask = regions[regions.REGIONNAME == 'SNNPR']\n",
    "temps_eth_clipped = gpd.clip(temps_eth_gdf, mask).reset_index()\n",
    "temps_eth_clipped"
   ]
  },
  {
   "cell_type": "markdown",
   "id": "af0221b4",
   "metadata": {},
   "source": [
    "To check if the clipping was successful, we can plot the data. Don't worry about the specific settings for now."
   ]
  },
  {
   "cell_type": "code",
   "execution_count": null,
   "id": "657f3a25",
   "metadata": {
    "scrolled": false
   },
   "outputs": [],
   "source": [
    "fig, ax = plt.subplots()\n",
    "temps_eth_clipped.plot(ax=ax, column='temperature', cmap='coolwarm', vmin=282, vmax=320)"
   ]
  },
  {
   "cell_type": "markdown",
   "id": "5c1ca5c4",
   "metadata": {},
   "source": [
    "**Exercise:** Instead of clipping for the whole of Ethiopia, you should now select the data of only a few regions. \n",
    "- Make three new variables, containing the regions Gambela, SNNPR, and Oromia\n",
    "    - Hint: a region can be selected using, e.g., `mask_Gambela = regions[regions.REGIONNAME == 'Gambela']`\n",
    "- Get the temperatures for Ethiopia (either from somewhere above, or by selecting it from the NetCDF dataset)\n",
    "- Create three new variables by using the three region variables as a mask to select from the Ethiopian temperatures the datapoints from these regions.\n",
    "- Visualize the three selections using `.plot(ax=ax)`"
   ]
  },
  {
   "cell_type": "code",
   "execution_count": null,
   "id": "763404db",
   "metadata": {},
   "outputs": [],
   "source": [
    "# Your code here\n",
    "mask_Gambela = regions[regions.REGIONNAME == 'Gambela']\n",
    "mask_SNNPR = regions[regions.REGIONNAME == 'SNNPR']\n",
    "mask_Oromia = regions[regions.REGIONNAME == 'Oromia']\n",
    "\n",
    "temps_Gambela = gpd.clip(temps_eth_gdf, mask_Gambela)\n",
    "temps_SNNPR = gpd.clip(temps_eth_gdf, mask_SNNPR)\n",
    "temps_Oromia = gpd.clip(temps_eth_gdf, mask_Oromia)\n",
    "\n",
    "fig, ax = plt.subplots()\n",
    "\n",
    "temps_Gambela.plot(ax=ax, c='turquoise')\n",
    "temps_SNNPR.plot(ax=ax, c='olive')\n",
    "temps_Oromia.plot(ax=ax, c='mediumblue')"
   ]
  },
  {
   "cell_type": "markdown",
   "id": "93f201af",
   "metadata": {},
   "source": [
    "## Additional practice\n",
    "\n",
    "You have made it to the end of the exercises. Well done! For the remaining time, get some extra practice and fire up your creativitiy! With the tools we have learned up to this point there are endless possibilities. Together with the exercises and slides of this session, you also received the shape files of all the countries of the world (`Module5_2_World-administrative-boundaries.zip`). \n",
    "\n",
    "Now be creative and do some data selection and plotting!\n",
    "\n",
    "Here are some suggestions from my side:\n",
    "- Get the min, max, and mean temperature for Ethiopia, select the data for only one region using clipping and plot three lines (min, max, and mean) in a single axes. \n",
    "- Select the temperature data for one country, create four axes and plot the data on all four axes, each in a different manner (contour, filled contour, scatter, etc.).\n",
    "- In four axes plot four different country shapes. Try to use the same x and y limits for every axes, so that you can compare the country sizes. "
   ]
  },
  {
   "cell_type": "code",
   "execution_count": null,
   "id": "1d3b0f13",
   "metadata": {},
   "outputs": [],
   "source": [
    "# Be creative!"
   ]
  }
 ],
 "metadata": {
  "kernelspec": {
   "display_name": "Python 3 (ipykernel)",
   "language": "python",
   "name": "python3"
  },
  "language_info": {
   "codemirror_mode": {
    "name": "ipython",
    "version": 3
   },
   "file_extension": ".py",
   "mimetype": "text/x-python",
   "name": "python",
   "nbconvert_exporter": "python",
   "pygments_lexer": "ipython3",
   "version": "3.9.12"
  }
 },
 "nbformat": 4,
 "nbformat_minor": 5
}
