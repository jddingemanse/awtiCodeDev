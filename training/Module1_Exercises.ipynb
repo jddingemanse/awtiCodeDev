{
 "cells": [
  {
   "cell_type": "markdown",
   "metadata": {},
   "source": [
    "# Print\n",
    "\n",
    "- If you want to communicate with a program, the first step is to let the computer speak. This is accomplished trough the ```print()``` function. A function is a program activity, for example the ```print()``` function prints words on your screen, there are many more.\n",
    "- Computers cannot see the difference between code and plain text, that is why you should always put plain text between ```\"\"``` to let the computer understand that it is not part of the code.\n",
    "    - For example: \n",
    "    ``` print (\"satellite\") ```. ```print``` is the function and part of the code, and ```\"satellite\"``` is the word that should be printed. \n",
    "    - Click on the cell below and press control + enter to execute the code"
   ]
  },
  {
   "cell_type": "code",
   "execution_count": null,
   "metadata": {},
   "outputs": [],
   "source": [
    "print(\"satellite\")"
   ]
  },
  {
   "cell_type": "code",
   "execution_count": null,
   "metadata": {},
   "outputs": [],
   "source": [
    "print(\"Hello world!\")"
   ]
  },
  {
   "cell_type": "markdown",
   "metadata": {},
   "source": [
    "- Now try yourself to let the computer print the word rain"
   ]
  },
  {
   "cell_type": "code",
   "execution_count": null,
   "metadata": {},
   "outputs": [],
   "source": [
    "print('some word')"
   ]
  },
  {
   "cell_type": "markdown",
   "metadata": {},
   "source": [
    "# Variables\n",
    "- Lets make a variable:\n",
    "    - A variable is an object in which information can be stored.\n",
    "    - The variable has a name and a value. The name is used to refer to the variable in the code\n",
    "    - The name of the variable can not contain spaces\n",
    "- In the next example the variable named ```first_name``` is assigned the value ```\"John\"```\n",
    "    - ```first_name``` is the name of the variable. The name of a variable is part of code and that is why it is not between ```\"\"```.\n",
    "    - ```\"John\"``` is written between ```\"\"``` to tell the computer that this is plain text"
   ]
  },
  {
   "cell_type": "code",
   "execution_count": null,
   "metadata": {},
   "outputs": [],
   "source": [
    "type('word')"
   ]
  },
  {
   "cell_type": "code",
   "execution_count": null,
   "metadata": {},
   "outputs": [],
   "source": [
    "first_name = \"John\"      # Assigns string \"John\" to variable first_name \n",
    "print(first_name)       # Prints variable first_name"
   ]
  },
  {
   "cell_type": "code",
   "execution_count": null,
   "metadata": {},
   "outputs": [],
   "source": [
    "some_variable = \"John\"       # Assigns string \"John\" to variable some_variable \n",
    "print(some_variable)        # Prints variable some_variable"
   ]
  },
  {
   "cell_type": "code",
   "execution_count": null,
   "metadata": {},
   "outputs": [],
   "source": [
    "apple = \"John\" # Assigns string \"John\" to variable apple \n",
    "print(apple) # Prints variable apple"
   ]
  },
  {
   "cell_type": "code",
   "execution_count": null,
   "metadata": {},
   "outputs": [],
   "source": [
    "john = \"John\" # Assigns string \"John\" to variable john\n",
    "print(john) # Prints variable john"
   ]
  },
  {
   "cell_type": "code",
   "execution_count": null,
   "metadata": {},
   "outputs": [],
   "source": [
    "xyz = \"John\" # Assigns string \"John\" to variable xyz\n",
    "print(xyz) # Prints variable xyz"
   ]
  },
  {
   "cell_type": "markdown",
   "metadata": {},
   "source": [
    "# Exercise:\n",
    "- Print your first name using a new variable. \n",
    "- Print your surname using a new variable. \n",
    "- Can you print both your first and surname using two variables?\n",
    "    - Hint: you can print multiple things by putting a ```+``` between them. \n",
    "    - For example \n",
    "        - ```print (\"mito\" + \"chondria\")``` \n",
    "        - The output is: `mitochondria`\n",
    "    - Try to play around until you get a feeling for it"
   ]
  },
  {
   "cell_type": "code",
   "execution_count": null,
   "metadata": {},
   "outputs": [],
   "source": [
    "my_name =  # new variable for first name"
   ]
  },
  {
   "cell_type": "code",
   "execution_count": null,
   "metadata": {},
   "outputs": [],
   "source": [
    "my_father_name = # new variable for fathername"
   ]
  },
  {
   "cell_type": "code",
   "execution_count": null,
   "metadata": {},
   "outputs": [],
   "source": [
    " # print your fathername"
   ]
  },
  {
   "cell_type": "code",
   "execution_count": null,
   "metadata": {},
   "outputs": [],
   "source": [
    " # print your first and fathername on one line"
   ]
  },
  {
   "cell_type": "markdown",
   "metadata": {},
   "source": [
    "# Strings - methods \n",
    "- All variable types have build in methods to manipulate them. \n",
    "- A method is placed after the variable with a ```.``` between them and nearly always end with ```()```\n",
    "- For example: \n",
    "    ```python\n",
    "      name = \"john\" \n",
    "      print(name.upper())\n",
    "    ```\n",
    "- For some methods additional information has to be provided, this information is given between the ```()```.\n",
    "    - For example, ```name.startswith(\"j\")``` says if the name starts with a `j`, and ```name.replace(\"o\", \"a\")``` replaces all `o`'s with `a`'s."
   ]
  },
  {
   "cell_type": "code",
   "execution_count": null,
   "metadata": {},
   "outputs": [],
   "source": [
    "name = \"Johnathan\"        #assigns the string \"Johnathan\" to variable name"
   ]
  },
  {
   "cell_type": "code",
   "execution_count": null,
   "metadata": {},
   "outputs": [],
   "source": [
    "print(name.upper())            #prints the variable in uppercase"
   ]
  },
  {
   "cell_type": "code",
   "execution_count": null,
   "metadata": {},
   "outputs": [],
   "source": [
    "print(name.lower())            #prints the variable in lowercase"
   ]
  },
  {
   "cell_type": "code",
   "execution_count": null,
   "metadata": {},
   "outputs": [],
   "source": [
    "print(name.capitalize())         #prints the variable with a captial"
   ]
  },
  {
   "cell_type": "code",
   "execution_count": null,
   "metadata": {},
   "outputs": [],
   "source": [
    "print(name.islower())         #checks if the variable is lowercase"
   ]
  },
  {
   "cell_type": "code",
   "execution_count": null,
   "metadata": {},
   "outputs": [],
   "source": [
    "print(name.startswith('A'))         #checks if the variable starts with an A"
   ]
  },
  {
   "cell_type": "code",
   "execution_count": null,
   "metadata": {},
   "outputs": [],
   "source": [
    "print(name.startswith('J'))         #checks if the variable starts with a J"
   ]
  },
  {
   "cell_type": "code",
   "execution_count": null,
   "metadata": {},
   "outputs": [],
   "source": [
    "print(name.replace(\"n\", \"m\"))  #replaces the n's with m's"
   ]
  },
  {
   "cell_type": "code",
   "execution_count": null,
   "metadata": {},
   "outputs": [],
   "source": [
    "print(name.replace(\"h\", \"\"))    #replaces all the h's with nothing, removing the letter"
   ]
  },
  {
   "cell_type": "code",
   "execution_count": null,
   "metadata": {},
   "outputs": [],
   "source": [
    "superman = \"Johnathan\"           #assigns the string \"Johnathan\" to variable superman"
   ]
  },
  {
   "cell_type": "code",
   "execution_count": null,
   "metadata": {},
   "outputs": [],
   "source": [
    "print(superman.upper())            #prints the variable in uppercase"
   ]
  },
  {
   "cell_type": "code",
   "execution_count": null,
   "metadata": {},
   "outputs": [],
   "source": [
    "#you can also assign the result of these methods into a variable instead of printing.\n",
    "#for example\n",
    "name_uppercase = name.upper()\n",
    "name_lowercase = name.lower()"
   ]
  },
  {
   "cell_type": "code",
   "execution_count": null,
   "metadata": {
    "scrolled": true
   },
   "outputs": [],
   "source": [
    "print(name_uppercase)"
   ]
  },
  {
   "cell_type": "code",
   "execution_count": null,
   "metadata": {},
   "outputs": [],
   "source": [
    "print(name_lowercase.replace(\"t\", \"d\").replace(\"o\", \"a\"))"
   ]
  },
  {
   "cell_type": "markdown",
   "metadata": {},
   "source": [
    "## Python tricks\n",
    "1. A convenient tool to use in Python is the __tab__ to quickly scroll through options/saved variables etc. Try it out!\n",
    "2. Another useful option in Python, is the Kernel refresh option. Sometimes, on the left of the cell an asterix appears; if this happens, it means that Python is busy running your script. \n",
    "Sometimes however it gets stuck, then its best to refresh, either the output of the cell (**cell > current output > clear**) or the whole kernel (**kernel > restart & clear output**)"
   ]
  },
  {
   "cell_type": "markdown",
   "metadata": {},
   "source": [
    "# Comments\n",
    "- Comments start with # \n",
    "- Useful for: \n",
    "    - Explaining code or your program \n",
    "    - Disable parts of your program "
   ]
  },
  {
   "cell_type": "code",
   "execution_count": null,
   "metadata": {},
   "outputs": [],
   "source": [
    "# This is an example script using comments\n",
    "print (\"Comment example script\")\n",
    "# print \"This will not print\"\n",
    "print (\"This will print\")"
   ]
  },
  {
   "cell_type": "markdown",
   "metadata": {},
   "source": [
    "## Exercise:\n",
    "1. Assign a variable with a name of your favourite city\n",
    "2. Print this variable in uppercase.\n",
    "3. Check if the city starts with the letter 'A'\n",
    "4. Replace a letter in the name of the city with \"d\""
   ]
  },
  {
   "cell_type": "code",
   "execution_count": null,
   "metadata": {},
   "outputs": [],
   "source": [
    "# 1.Assign a variable with a name of your favourite city\n"
   ]
  },
  {
   "cell_type": "code",
   "execution_count": null,
   "metadata": {},
   "outputs": [],
   "source": [
    "# 2.Print this variable in uppercase.\n"
   ]
  },
  {
   "cell_type": "code",
   "execution_count": null,
   "metadata": {},
   "outputs": [],
   "source": [
    "# 3.Check if the city starts with the letter 'A'\n"
   ]
  },
  {
   "cell_type": "code",
   "execution_count": null,
   "metadata": {},
   "outputs": [],
   "source": [
    "# 4.Replace a letter in the name of the city with \"d\"\n"
   ]
  },
  {
   "cell_type": "markdown",
   "metadata": {},
   "source": [
    "## Exercise: Strings – Methods\n",
    "\n",
    "   1. Create a variable containing a random string of letters in lower-case, e.g., \"fjeioapeafjeioapfneklwfeafsajoi\".\n",
    "   2. Print the letters in uppercase \n",
    "   3. Replace all a's with b's and assign the result to a variable\n",
    "   4. Print this variable"
   ]
  },
  {
   "cell_type": "code",
   "execution_count": null,
   "metadata": {},
   "outputs": [],
   "source": [
    "# 1.Create a variable containing a random string of letters in lower-case\n"
   ]
  },
  {
   "cell_type": "code",
   "execution_count": null,
   "metadata": {},
   "outputs": [],
   "source": [
    "# 2.Print the letters in uppercase \n"
   ]
  },
  {
   "cell_type": "code",
   "execution_count": null,
   "metadata": {},
   "outputs": [],
   "source": [
    "# 3.Replace all a's with b's and assign the result to a variable\n"
   ]
  },
  {
   "cell_type": "code",
   "execution_count": null,
   "metadata": {},
   "outputs": [],
   "source": [
    "# 4.Print this variable\n"
   ]
  },
  {
   "cell_type": "markdown",
   "metadata": {},
   "source": [
    "# Strings – Operators\n",
    "- Operators can be used to perform \"mathematics\" with words\n",
    "- ```+``` Joins/Concatenates two strings together\n",
    "- ```*``` Repetition of a string \n",
    "- A string can be seen as a list of characters. Each item in a list has an index, which is the place in the list. Python starts counting indices at 0, so the first item in the list has index 0, the second item has index 1 etc etc\n",
    "    - ```\"cell\"[n]``` returns the <i>'n'</i>th character of the string. **Keep in mind python starts counting lists at index 0.**\n",
    "        - for example: ```\"Arba Minch\"[5]``` returns the 6th character (M)\n",
    "    - ```\"cell\"[x:y]``` returns all the items from index x to index y (so not including the item at index y).\n",
    "        - for example: ```\"Arba Minch\"[2:4]``` returns the third and fourth character (ba)\n",
    "    - ```len(\"ABCDEF\")``` returns the length of the list(number of characters in the string in this case)"
   ]
  },
  {
   "cell_type": "code",
   "execution_count": null,
   "metadata": {},
   "outputs": [],
   "source": [
    "print (\"ABC\" + \"DEF\") # concatenate, makes one string out of string \"ABC\" and string \"DEF\""
   ]
  },
  {
   "cell_type": "code",
   "execution_count": null,
   "metadata": {},
   "outputs": [],
   "source": [
    "print (\"ABC\" * 2) # makes one string out of 2 times string \"ABC\" "
   ]
  },
  {
   "cell_type": "code",
   "execution_count": null,
   "metadata": {},
   "outputs": [],
   "source": [
    "print (\"ABCDEF\"[3]) # returns the 4th letter (index 3 is value 4, as Python counts from 0)"
   ]
  },
  {
   "cell_type": "code",
   "execution_count": null,
   "metadata": {},
   "outputs": [],
   "source": [
    "# Selection of the last characters in a string. \n",
    "print(\"ABCDEF\"[5])\n",
    "# Counting backwards is possible as well; try to print the last character in a different way than selecting index 5\n",
    "print (\"ABCDEF\"[-1])\n",
    "print (\"ABCDEF\"[-2])"
   ]
  },
  {
   "cell_type": "code",
   "execution_count": null,
   "metadata": {},
   "outputs": [],
   "source": [
    "print (\"ABCDEF\"[2:4]) # returns the 3th and 4th letter (index 2 is value 3 and index 3 is value 4, as Python counts from 0)\n",
    "# index 2:4 means 2 to 4, so the 4th index is not given"
   ]
  },
  {
   "cell_type": "code",
   "execution_count": null,
   "metadata": {},
   "outputs": [],
   "source": [
    "print (\"ABCDEF\"[3:4]) # returns the 4th letter, same as \"ABCDEF\"[3]"
   ]
  },
  {
   "cell_type": "code",
   "execution_count": null,
   "metadata": {},
   "outputs": [],
   "source": [
    "print (len(\"ABCDEF\")) # returns the length / number of characters of the string"
   ]
  },
  {
   "cell_type": "code",
   "execution_count": null,
   "metadata": {},
   "outputs": [],
   "source": [
    "#these operators also work with variables!\n",
    "random_letters = \"jfoepfjieoaneopajfieownfldsvejisnjeks\"\n",
    "print (len(random_letters))          #prints the length of the string (number of characters)"
   ]
  },
  {
   "cell_type": "code",
   "execution_count": null,
   "metadata": {},
   "outputs": [],
   "source": [
    "print (random_letters[5])            #prints the character at index 5(6th character)\n",
    "print (random_letters[0])            #prints the character at index 0(1st character)\n",
    "print (random_letters[0:5])          #prints the characters at index 0,1,2,3,4"
   ]
  },
  {
   "cell_type": "code",
   "execution_count": null,
   "metadata": {},
   "outputs": [],
   "source": [
    "print (random_letters*2)             #prints the string twice\n",
    "print (random_letters + random_letters + random_letters)   #prints the string three times"
   ]
  },
  {
   "cell_type": "code",
   "execution_count": null,
   "metadata": {
    "scrolled": true
   },
   "outputs": [],
   "source": [
    "# you can also combine operators and methods\n",
    "    #prints the characters at index 0,1,2,3,4 in uppercase\n",
    "print (random_letters[0:5].upper())           "
   ]
  },
  {
   "cell_type": "code",
   "execution_count": null,
   "metadata": {},
   "outputs": [],
   "source": [
    "# makes a repetition of 5 times of the string and then counts the number of f's\n",
    "print ((random_letters*5).count(\"f\"))"
   ]
  },
  {
   "cell_type": "code",
   "execution_count": null,
   "metadata": {},
   "outputs": [],
   "source": [
    "# try to combine some operators\n"
   ]
  },
  {
   "cell_type": "markdown",
   "metadata": {},
   "source": [
    "# Exercise: Strings – Operators\n",
    "1. Create two variables and assign a random number of letters to both.\n",
    "2. Combine both variables and print \n",
    "3. Add 10 copies of the string to the first string and assign it to a new variable.\n",
    "4. Print the total length of the combined string \n",
    "5. Print the 5th letter \n",
    "6. Print the 7th to the 14th letter \n",
    "7. Bonus: print the last character of \"gaattc\" but not by using ```string[5]```"
   ]
  },
  {
   "cell_type": "code",
   "execution_count": 2,
   "metadata": {},
   "outputs": [],
   "source": [
    "# 1.Create two variables and assign a random number of letters to both.\n"
   ]
  },
  {
   "cell_type": "code",
   "execution_count": 1,
   "metadata": {},
   "outputs": [],
   "source": [
    "# 2.Combine both variables and print \n"
   ]
  },
  {
   "cell_type": "code",
   "execution_count": 3,
   "metadata": {},
   "outputs": [],
   "source": [
    "# 3. Add 10 copies of the second string to the first string and assign it to a new variable.\n",
    "\n",
    "# and 4.Print the total length of the combined string \n"
   ]
  },
  {
   "cell_type": "code",
   "execution_count": 4,
   "metadata": {},
   "outputs": [],
   "source": [
    "# 5. Print the 5th letter\n",
    "\n",
    "# and 6. Print the 7th to the 14th letter \n"
   ]
  },
  {
   "cell_type": "code",
   "execution_count": 5,
   "metadata": {},
   "outputs": [],
   "source": [
    "# 7.Bonus: print the last character of \"gaattc\" but not by using string[5]\n"
   ]
  },
  {
   "cell_type": "markdown",
   "metadata": {},
   "source": [
    "# Numbers\n",
    "- Integers: whole numbers such as 1, 5, etc. \n",
    "- Floats: numbers with numbers behind the point, such as 1.5, 5.2, etc. \n",
    "- An integer variable cannot turn into a float and a float variable cannot turn into an integer\n",
    "    - You can make a float if you define the variable with a number behind the point. (e.g. 5.0; 11.3; 5000.0)\n",
    "    - When in doubt if you should use floats or integers, always use floats.\n",
    "- Simple math using numbers (x = 5.0 and y = 2.0) : \n",
    "    - Addition: ```x + y``` = 7.0 \n",
    "    - Subtraction: ```x – y``` = 3.0 \n",
    "    - Division: ```x / y``` = 2.5 \n",
    "    - Floor division (returning integer): `x // y` = 2\n",
    "    - Multiplication: ```x * y``` = 10.0 \n",
    "    - Power: ```x ** y``` = 25.0\n",
    "    - Modulo (remainder): ```x % y ``` = 1.0 (2 + 2 = 4 and 5 - 4 = 1)\n",
    "- Python uses the standard order of operations \n",
    "    - ```5 * (2+1)``` = 15"
   ]
  },
  {
   "cell_type": "code",
   "execution_count": null,
   "metadata": {},
   "outputs": [],
   "source": [
    "x = 5.0 # adds float 5.0 to variable x\n",
    "y = 2.0 # adds float 2.0 to variable y"
   ]
  },
  {
   "cell_type": "code",
   "execution_count": null,
   "metadata": {},
   "outputs": [],
   "source": [
    "x + y # addition of x and y, in this case 5.0 + 2.0 = 7.0"
   ]
  },
  {
   "cell_type": "code",
   "execution_count": null,
   "metadata": {},
   "outputs": [],
   "source": [
    "x - y # subtraction of y from x, in this case 5.0 - 2.0 = 3.0"
   ]
  },
  {
   "cell_type": "code",
   "execution_count": null,
   "metadata": {},
   "outputs": [],
   "source": [
    "x / y # division of x by y, 5.0 / 2.0 = 2.5"
   ]
  },
  {
   "cell_type": "code",
   "execution_count": null,
   "metadata": {},
   "outputs": [],
   "source": [
    "x // y # floor division of x by y, 5.0 // 2.0 = 2"
   ]
  },
  {
   "cell_type": "code",
   "execution_count": null,
   "metadata": {},
   "outputs": [],
   "source": [
    "x * y # multiplication of x by y, 5.0 * 2.0 = 10.0"
   ]
  },
  {
   "cell_type": "code",
   "execution_count": null,
   "metadata": {},
   "outputs": [],
   "source": [
    "x ** y # x to the power y, 5.0 to the power 2.0 = 25.0"
   ]
  },
  {
   "cell_type": "code",
   "execution_count": null,
   "metadata": {},
   "outputs": [],
   "source": [
    "x % y # remainder, what is left after all full y are taken from x, \n",
    "      # 5.0 % 2.0 = 1.0 "
   ]
  },
  {
   "cell_type": "code",
   "execution_count": null,
   "metadata": {},
   "outputs": [],
   "source": [
    "5 * (2 + 1) # (2 + 1) = 3 and 5 * 3 = 15"
   ]
  },
  {
   "cell_type": "code",
   "execution_count": null,
   "metadata": {},
   "outputs": [],
   "source": [
    "5 * 2 + 1 # 5 * 2 = 10 and 10 + 1 = 11"
   ]
  },
  {
   "cell_type": "markdown",
   "metadata": {},
   "source": [
    "# Numbers - Integers and floats\n",
    "\n",
    "In the example below we want to do a simple division of 5/2. The result is supposed to be 2.5 of course, but for some reason the program outputs 2. Can you find out what is wrong in the example code and make the program output the right answer(2.5)?"
   ]
  },
  {
   "cell_type": "code",
   "execution_count": null,
   "metadata": {},
   "outputs": [],
   "source": [
    "number1 = 2\n",
    "number2 = 5\n",
    "print(int(number2 / number1))"
   ]
  },
  {
   "cell_type": "code",
   "execution_count": null,
   "metadata": {},
   "outputs": [],
   "source": [
    "True False # boolean\n",
    "'test' # string\n",
    "3 # integer\n",
    "3.0 # float\n",
    "[3, 1.2, 'dsae', True] # list"
   ]
  },
  {
   "cell_type": "markdown",
   "metadata": {},
   "source": [
    "# Numbers – Exercise \n",
    "1. Assign the 8 to the variable number1 \n",
    "2. Assign the 3 to the variable number2 \n",
    "3. Make a new variable called number3 equal to the division of number1 by number2 \n",
    "4. Print number3 \n",
    "5. Now print number3 without decimals (numbers behind the point) using `int()`"
   ]
  },
  {
   "cell_type": "code",
   "execution_count": null,
   "metadata": {},
   "outputs": [],
   "source": [
    "### Integers!\n",
    "### 1. 2. 3. and 4. \n"
   ]
  },
  {
   "cell_type": "code",
   "execution_count": null,
   "metadata": {},
   "outputs": [],
   "source": [
    "### Floats!\n",
    "### 5.\n"
   ]
  },
  {
   "cell_type": "markdown",
   "metadata": {},
   "source": [
    "# Types\n",
    "\n",
    "- Sometimes we need to convert types \n",
    "    - ```str(variable)``` converts variable to a string \n",
    "    - ```int(variable)``` converts variable to a integer \n",
    "    - ```float(variable)``` converts variable to a float"
   ]
  },
  {
   "cell_type": "code",
   "execution_count": null,
   "metadata": {},
   "outputs": [],
   "source": [
    "\"2\" + \"2\" # concatenates strings \"2\" and \"2\""
   ]
  },
  {
   "cell_type": "code",
   "execution_count": null,
   "metadata": {},
   "outputs": [],
   "source": [
    "int(\"2\") + int(\"2\") # int(\"2\") converts string \"2\" in to integer 2; now addition works 2 + 2 = 4"
   ]
  },
  {
   "cell_type": "code",
   "execution_count": null,
   "metadata": {},
   "outputs": [],
   "source": [
    "str(2) + str(2)  # srt(2) converts integer 2 to string \"2\"; now concatenate works "
   ]
  },
  {
   "cell_type": "code",
   "execution_count": null,
   "metadata": {},
   "outputs": [],
   "source": [
    "int(\"this does not work, why?\") # tries to convert this string in an integer"
   ]
  },
  {
   "cell_type": "code",
   "execution_count": null,
   "metadata": {},
   "outputs": [],
   "source": [
    "float(5) / float(2) # float(5) converts integer 5 in to float 5.0"
   ]
  },
  {
   "cell_type": "code",
   "execution_count": null,
   "metadata": {},
   "outputs": [],
   "source": [
    "int(5.0 / 2.0) # int(5.0/2.0) converts float 2.5 in to integer 2"
   ]
  },
  {
   "cell_type": "code",
   "execution_count": null,
   "metadata": {},
   "outputs": [],
   "source": [
    "print(int(0.9))\n",
    "print(int(1.0))\n",
    "print(int(1.1))"
   ]
  },
  {
   "cell_type": "markdown",
   "metadata": {},
   "source": [
    "# Last exercise on numbers (Assignment type)\n",
    "\n",
    "- Define three variables: \n",
    "    - name\n",
    "    - length \n",
    "    - weight \n",
    "- Calculate the bmi (a measure of health) of the user \n",
    "    - ```user_bmi = weight / length ** 2``` \n",
    "- Print out with one print command: \n",
    "    - The name and calculated bmi"
   ]
  },
  {
   "cell_type": "code",
   "execution_count": 9,
   "metadata": {},
   "outputs": [],
   "source": [
    "# Define three variables\n"
   ]
  },
  {
   "cell_type": "code",
   "execution_count": 10,
   "metadata": {},
   "outputs": [],
   "source": [
    "# Calculate bmi\n"
   ]
  },
  {
   "cell_type": "code",
   "execution_count": 6,
   "metadata": {},
   "outputs": [],
   "source": [
    "# Print the name and calculated bmi\n"
   ]
  },
  {
   "cell_type": "markdown",
   "metadata": {},
   "source": [
    "# Boolean: True or False \n",
    "- Booleans are the outcome when you compare or test variables \n",
    "- Examples:"
   ]
  },
  {
   "cell_type": "code",
   "execution_count": null,
   "metadata": {},
   "outputs": [],
   "source": [
    "x = 2     # add integer 2 to variable x\n",
    "x < 3     # test if x is smaller than 3, in this case it is True"
   ]
  },
  {
   "cell_type": "code",
   "execution_count": null,
   "metadata": {},
   "outputs": [],
   "source": [
    "x = \"yes\"      # add string \"yes\" to variable x\n",
    "x == \"no\"      # by using == test if x is equal to string \"no\""
   ]
  },
  {
   "cell_type": "markdown",
   "metadata": {},
   "source": [
    "## Operators for comparison \n",
    "- ```<``` less than \n",
    "- ```<=``` less than or equal to \n",
    "- ```>``` greater than \n",
    "- ```>=``` greater than or equal to \n",
    "- ```==``` equal\n",
    "- ```!=``` not equal\n",
    "\n",
    "## Boolean – exercise\n",
    "- Below are a couple comparisons. Try to guess the result before executing the comparisons in python."
   ]
  },
  {
   "cell_type": "code",
   "execution_count": null,
   "metadata": {},
   "outputs": [],
   "source": [
    "5 > 4 # test if 5 is greater than 4"
   ]
  },
  {
   "cell_type": "code",
   "execution_count": null,
   "metadata": {},
   "outputs": [],
   "source": [
    "# test if 3 is smaller than 5"
   ]
  },
  {
   "cell_type": "code",
   "execution_count": null,
   "metadata": {},
   "outputs": [],
   "source": [
    "# test if 4 is equal to 4"
   ]
  },
  {
   "cell_type": "code",
   "execution_count": null,
   "metadata": {},
   "outputs": [],
   "source": [
    "# test if 4 is smaller than OR equal to 4"
   ]
  },
  {
   "cell_type": "code",
   "execution_count": null,
   "metadata": {},
   "outputs": [],
   "source": [
    "# test if 4 is greater than OR equal to 3"
   ]
  },
  {
   "cell_type": "code",
   "execution_count": null,
   "metadata": {},
   "outputs": [],
   "source": [
    "# test if 3 is NOT equal to 3"
   ]
  },
  {
   "cell_type": "code",
   "execution_count": null,
   "metadata": {},
   "outputs": [],
   "source": [
    "# test if \"yes\" is NOT equal to \"no\" "
   ]
  },
  {
   "cell_type": "code",
   "execution_count": null,
   "metadata": {},
   "outputs": [],
   "source": [
    "# test if \"yes\" is equal to \"yes\""
   ]
  },
  {
   "cell_type": "markdown",
   "metadata": {},
   "source": [
    "# Boolean – exercise \n",
    "- Just like before, try to guess the result before executing the comparisons\n",
    "- ```and``` means that both comparisons need to be true\n",
    "- ```or``` means that only one of the two comparisons need to be true\n",
    "- ```not``` outputs true if the comparison is false\n",
    "- Boolean logic follows mathematical sequence, thus comparisons between brackets are evaluated first."
   ]
  },
  {
   "cell_type": "code",
   "execution_count": 7,
   "metadata": {},
   "outputs": [],
   "source": [
    "# test if 5 is greater than 3 AND if 5 is greater than 1"
   ]
  },
  {
   "cell_type": "code",
   "execution_count": null,
   "metadata": {},
   "outputs": [],
   "source": [
    "# test if 5 is smaller than 3 OR 5 is greater than 1"
   ]
  },
  {
   "cell_type": "code",
   "execution_count": null,
   "metadata": {},
   "outputs": [],
   "source": [
    "# test if 5 is NOT greater than 3 "
   ]
  },
  {
   "cell_type": "code",
   "execution_count": null,
   "metadata": {},
   "outputs": [],
   "source": [
    "# test if is smaller than or equal to 3"
   ]
  },
  {
   "cell_type": "code",
   "execution_count": null,
   "metadata": {},
   "outputs": [],
   "source": [
    "# test if 5 is NOT greater than 3 OR 5 is greater than 1"
   ]
  },
  {
   "cell_type": "code",
   "execution_count": null,
   "metadata": {},
   "outputs": [],
   "source": [
    "# test if both are NOT true"
   ]
  },
  {
   "cell_type": "markdown",
   "metadata": {},
   "source": [
    "# Lists\n",
    "-  A list can contain all types and a combination of different types (characters, strings, integers, floats, booleans, other lists)\n",
    "    - We already discussed that a string is a list of characters\n",
    "- Each item on the list has an index. The index is based on the place on the list, and python starts counting the indices at 0. Thus, the first item on the list has index 0, the second item has index 1 etc. etc. etc.\n",
    "- A list is created between square brackets, with the items seperated by a comma."
   ]
  },
  {
   "cell_type": "code",
   "execution_count": null,
   "metadata": {},
   "outputs": [],
   "source": [
    "list_of_numbers = [0, 8, 5, 3, 6.5, 9.9, 102]  #creates a list of grades, each item seperated by a comma \n",
    "                                               #and the list is flanked by square brackets\n",
    "print(list_of_numbers) # prints the list"
   ]
  },
  {
   "cell_type": "code",
   "execution_count": null,
   "metadata": {},
   "outputs": [],
   "source": [
    "print(list_of_numbers[2])                 #prints the number at index 2(third item)\n",
    "print(len(list_of_numbers))               #prints the length of the list"
   ]
  },
  {
   "cell_type": "code",
   "execution_count": null,
   "metadata": {},
   "outputs": [],
   "source": [
    "#you can also make lists of other types\n",
    "booleans = [True, False, True, True, False]  \n",
    "characters = ['a', 'b', 'c']\n",
    "strings = [\"hello\", \"this\", \"is\", \"a\", \"list\"]\n",
    "lists = [booleans, characters, strings]\n",
    "\n",
    "#print the lists you've just made:"
   ]
  },
  {
   "cell_type": "code",
   "execution_count": null,
   "metadata": {},
   "outputs": [],
   "source": [
    "print(booleans)"
   ]
  },
  {
   "cell_type": "code",
   "execution_count": null,
   "metadata": {},
   "outputs": [],
   "source": [
    "print(characters)"
   ]
  },
  {
   "cell_type": "code",
   "execution_count": null,
   "metadata": {},
   "outputs": [],
   "source": [
    "print(strings)"
   ]
  },
  {
   "cell_type": "code",
   "execution_count": null,
   "metadata": {},
   "outputs": [],
   "source": [
    "print(lists)"
   ]
  },
  {
   "cell_type": "markdown",
   "metadata": {},
   "source": [
    "# Lists - Exercise\n",
    "\n",
    "1. Create a variable with a list of at least 7 numbers\n",
    "2. Print the result of the second number times the fourth number\n",
    "3. Print the first five numbers\n",
    "4. Print the length of the list\n",
    "5. Print the length of the list plus the seventh number"
   ]
  },
  {
   "cell_type": "code",
   "execution_count": null,
   "metadata": {},
   "outputs": [],
   "source": [
    "# 1.Create a variable with a list of at least 7 numbers"
   ]
  },
  {
   "cell_type": "code",
   "execution_count": null,
   "metadata": {},
   "outputs": [],
   "source": [
    "# 2.Print the result of the second number times the fourth number"
   ]
  },
  {
   "cell_type": "code",
   "execution_count": null,
   "metadata": {},
   "outputs": [],
   "source": [
    "# 3.Print the first five numbers"
   ]
  },
  {
   "cell_type": "code",
   "execution_count": null,
   "metadata": {},
   "outputs": [],
   "source": [
    "# 4.Print the length of the list"
   ]
  },
  {
   "cell_type": "code",
   "execution_count": null,
   "metadata": {},
   "outputs": [],
   "source": [
    "# 5.Print the length of the list plus the seventh number"
   ]
  },
  {
   "cell_type": "markdown",
   "metadata": {},
   "source": [
    "###################################################  END OF MODULE 1  #########################################################"
   ]
  }
 ],
 "metadata": {
  "kernelspec": {
   "display_name": "Python 3 (ipykernel)",
   "language": "python",
   "name": "python3"
  },
  "language_info": {
   "codemirror_mode": {
    "name": "ipython",
    "version": 3
   },
   "file_extension": ".py",
   "mimetype": "text/x-python",
   "name": "python",
   "nbconvert_exporter": "python",
   "pygments_lexer": "ipython3",
   "version": "3.11.3"
  }
 },
 "nbformat": 4,
 "nbformat_minor": 1
}
