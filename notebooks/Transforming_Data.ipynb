{
 "cells": [
  {
   "cell_type": "markdown",
   "id": "496d5fb8",
   "metadata": {},
   "source": [
    "# Data Transformations with Pandas in Python - Transforming Data\n",
    "\n",
    "Welcome to the notebook about transforming data. In this notebook we will look at two ways of tranforming your data: \n",
    "1. **Melting** - transforming your _wide_ table to a _long_ table\n",
    "2. **Pivoting** - transforming your _long_ table to a _wide_ table\n",
    "\n",
    "Good luck!"
   ]
  },
  {
   "cell_type": "markdown",
   "id": "0341fc5d",
   "metadata": {},
   "source": [
    "## 1. Melting: from wide to long table"
   ]
  },
  {
   "cell_type": "markdown",
   "id": "f2157d52",
   "metadata": {},
   "source": [
    "We will work with the CSV file `meltData.csv`, which has similarities with EMI station data files, but is much smaller (and with random data), so that it is easier to see what happens. Run the cell below to load and check the data."
   ]
  },
  {
   "cell_type": "code",
   "execution_count": null,
   "id": "9c2b0585",
   "metadata": {
    "scrolled": true
   },
   "outputs": [],
   "source": [
    "import pandas as pd\n",
    "meltData = pd.read_csv('meltData.csv')\n",
    "meltData"
   ]
  },
  {
   "cell_type": "markdown",
   "id": "593482d1",
   "metadata": {},
   "source": [
    "You can use `.melt()` if you want to bring certain _values_ from different columns into one column, without losing track of the _identity_ of those values (e.g., the _value_ `rainfall`, with _identities_ like `station`, `year`, `month`, etc.). \n",
    "\n",
    "For using the function `.melt()`, it is important to know what columns in your dataframe contain _values_ and which columns contain information about the _identity_ of those values. \n",
    "\n",
    "In our case, the columns with _values_ are `['10', '20', '30']`, and the _identifier_ columns are `['Year', 'Month']`."
   ]
  },
  {
   "cell_type": "code",
   "execution_count": null,
   "id": "f2aca918",
   "metadata": {},
   "outputs": [],
   "source": [
    "id_columns = ['Year', 'Month']\n",
    "value_columns = ['10', '20', '30']"
   ]
  },
  {
   "cell_type": "markdown",
   "id": "d6d56659",
   "metadata": {},
   "source": [
    "Once we know the `id_columns` and `value_columns`, using the function `.melt()` is very easy. Use it on the dataframe you want to _melt_, and inside the function `.melt()` supply the `id_columns` to the argument `id_vars=`, and the `value_columns` to the argument `value_vars=`."
   ]
  },
  {
   "cell_type": "code",
   "execution_count": null,
   "id": "bb4cfb03",
   "metadata": {},
   "outputs": [],
   "source": [
    "melted = meltData.melt(id_vars=id_columns, value_vars = value_columns)\n",
    "melted"
   ]
  },
  {
   "cell_type": "markdown",
   "id": "a496ace8",
   "metadata": {},
   "source": [
    "If all columns are either id-columns or value-columns, you can also only specify `id_vars` (it will assume `value_vars` are all other columns)."
   ]
  },
  {
   "cell_type": "code",
   "execution_count": null,
   "id": "4d990fef",
   "metadata": {},
   "outputs": [],
   "source": [
    "melted = meltData.melt(id_vars=id_columns)\n",
    "melted"
   ]
  },
  {
   "cell_type": "markdown",
   "id": "ccfe17af",
   "metadata": {},
   "source": [
    "You can also specify the variable name and the value name. Those will become the column names, instead of `variable` and `value`."
   ]
  },
  {
   "cell_type": "code",
   "execution_count": null,
   "id": "420ce483",
   "metadata": {},
   "outputs": [],
   "source": [
    "melted = meltData.melt(id_vars=id_columns, var_name = 'Day', value_name = 'Rainfall')\n",
    "melted"
   ]
  },
  {
   "cell_type": "markdown",
   "id": "7b7c1df9",
   "metadata": {},
   "source": [
    "**Exercise**: Use the function `.melt()` on the dataframe `emiMelt`.\n",
    "\n",
    "Steps:\n",
    "- Run below cell to load the data of `emiMelt.xlsx` as dataframe `emiMelt`.\n",
    "- Check carefully which columns have the actual values (so, which are the `value_vars`), and which columns contain information about the _identity_ of those values (the `id_vars`).\n",
    "- Use `emiMelt.melt()`, and inside the `.melt()` function supply the column names to the arguments `id_vars=` and `value_vars=`.\n",
    "- Think about a possible use of `var_name=` and `value_name=`."
   ]
  },
  {
   "cell_type": "code",
   "execution_count": null,
   "id": "bc188423",
   "metadata": {
    "scrolled": true
   },
   "outputs": [],
   "source": [
    "# Loading the data needed for the exercise\n",
    "emiMelt = pd.read_excel('emiMelt.xlsx')\n",
    "emiMelt"
   ]
  },
  {
   "cell_type": "code",
   "execution_count": null,
   "id": "422030b4",
   "metadata": {},
   "outputs": [],
   "source": [
    "# Write your code for melting emiMelt here."
   ]
  },
  {
   "cell_type": "markdown",
   "id": "c164b244",
   "metadata": {},
   "source": [
    "## 2. Pivoting: from long to wide table"
   ]
  },
  {
   "cell_type": "markdown",
   "id": "329c71a6",
   "metadata": {},
   "source": [
    "We will work with the CSV file `pivotData.csv`, which looks very much like _melted_ stationdata (in other words: it is a _long_ table, instead of a _wide_ table). It is much smaller than regular EMI stationdata (and with random data), so that it is easier to see what happens. Run below cell to load and check the data."
   ]
  },
  {
   "cell_type": "code",
   "execution_count": null,
   "id": "fccfb005",
   "metadata": {},
   "outputs": [],
   "source": [
    "pivotData = pd.read_csv('pivotData.csv')\n",
    "pivotData"
   ]
  },
  {
   "cell_type": "markdown",
   "id": "945ac4f2",
   "metadata": {},
   "source": [
    "You can use the method `.pivot()` for creating different columns based on one column. For example, if you have a very _long_ table with data for different stations below each other, but you instead want to get a separate column per station, `.pivot()` is a perfect method.\n",
    "\n",
    "For using the function `.pivot()`, it is important to know what you eventually want as **index**, as **columns** and as **values**. In the case of `pivotData`, it would be nice to have the individual stations as separate **columns**, with rainfall **values**, and the `Year` and `Month` data as **index**."
   ]
  },
  {
   "cell_type": "code",
   "execution_count": null,
   "id": "065b7be7",
   "metadata": {},
   "outputs": [],
   "source": [
    "pivoted = pivotData.pivot(index=['Year', 'Month'], columns='station', values='rainfall')\n",
    "pivoted"
   ]
  },
  {
   "cell_type": "markdown",
   "id": "3c32b25b",
   "metadata": {},
   "source": [
    "**Exercise**: Use the function `.pivot()` on the dataframe `emiPivot`, to get per station a column, indexed with year, month and day.\n",
    "\n",
    "Steps:\n",
    "- Load the CSV file `emiPivot.csv` by running below code\n",
    "- Carefully think about the following three things:\n",
    "    - What to set as `index= `?\n",
    "    - What to set as `columns= `?\n",
    "    - What to set as `values= `?\n",
    "- Use `emiPivot.pivot()` and supply the right information to the arguments `index= `, `columns= ` and `values= `."
   ]
  },
  {
   "cell_type": "code",
   "execution_count": null,
   "id": "dff6c623",
   "metadata": {
    "scrolled": true
   },
   "outputs": [],
   "source": [
    "emiPivot = pd.read_csv('emiPivot.csv')\n",
    "emiPivot"
   ]
  },
  {
   "cell_type": "code",
   "execution_count": null,
   "id": "7f406cb3",
   "metadata": {},
   "outputs": [],
   "source": [
    "# Write your code for pivoting emiPivot here."
   ]
  },
  {
   "cell_type": "markdown",
   "id": "b4587b94",
   "metadata": {},
   "source": [
    "**Exercise**: Use the function `.pivot()` on the dataframe `emiPivot` to get for only the station `Gondar A.P.`, a column per year.\n",
    "\n",
    "Steps:\n",
    "- Make a new dataframe that only has data for `emiPivot.NAME == 'Gondar A.P.'`\n",
    "- Pivot that new dataframe, with as index `Month` and `day`, as columns `Year`, and as values `rainfall`"
   ]
  },
  {
   "cell_type": "code",
   "execution_count": null,
   "id": "b9035e4a",
   "metadata": {},
   "outputs": [],
   "source": [
    "# Write your code for pivoting emiPivot to columns per year for only Gondar A.P."
   ]
  }
 ],
 "metadata": {
  "kernelspec": {
   "display_name": "Python 3",
   "language": "python",
   "name": "python3"
  },
  "language_info": {
   "codemirror_mode": {
    "name": "ipython",
    "version": 3
   },
   "file_extension": ".py",
   "mimetype": "text/x-python",
   "name": "python",
   "nbconvert_exporter": "python",
   "pygments_lexer": "ipython3",
   "version": "3.7.11"
  }
 },
 "nbformat": 4,
 "nbformat_minor": 5
}
