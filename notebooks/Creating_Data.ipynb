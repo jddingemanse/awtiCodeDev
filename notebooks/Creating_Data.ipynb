{
 "cells": [
  {
   "cell_type": "markdown",
   "id": "b4bc44ce",
   "metadata": {},
   "source": [
    "# Data Transformations with Pandas in Python - Creating Data\n",
    "\n",
    "In this notebook we will create some new data. We will look at three ways to create and use new data:\n",
    "1. **Replacing data** - using the function `.replace()` we will change multiple values inside a column\n",
    "2. **Categorizing data** - using the function `pd.cut()` we will put numerical data in different categories (bins)\n",
    "3. **Getting more data our of timestamp data** - using the attributes in `.dt` we will access all kinds of time-related data\n",
    "\n",
    "We will do these operations based on the simple CSV file `createData.csv`. Run the below cell to load and check this data."
   ]
  },
  {
   "cell_type": "code",
   "execution_count": null,
   "id": "c71fe894",
   "metadata": {},
   "outputs": [],
   "source": [
    "import pandas as pd\n",
    "createData = pd.read_csv('createData.csv')\n",
    "createData.timestamp = pd.to_datetime(createData.timestamp)\n",
    "createData"
   ]
  },
  {
   "cell_type": "markdown",
   "id": "c320c63a",
   "metadata": {},
   "source": [
    "## 1. Replacing data\n",
    "You can create a new column based on an existing column and replaced values, with the method `.replace()`. You need to supply _what_ you want to replace, _with what_. This can both be one value or multiple values.\n",
    "\n",
    "For example, creating a column in which the station name `'arbaminch'` is being replaced with `'AM'`:"
   ]
  },
  {
   "cell_type": "code",
   "execution_count": null,
   "id": "de52d708",
   "metadata": {},
   "outputs": [],
   "source": [
    "other_name = createData.station.replace('arbaminch', 'AM')\n",
    "other_name"
   ]
  },
  {
   "cell_type": "markdown",
   "id": "2d88355d",
   "metadata": {},
   "source": [
    "Or replacing all month _numbers_ with month _names_:"
   ]
  },
  {
   "cell_type": "code",
   "execution_count": null,
   "id": "079abdbd",
   "metadata": {},
   "outputs": [],
   "source": [
    "# Creating numbers 1 to 12\n",
    "numbers = range(1,13)\n",
    "\n",
    "# Creating list with month names\n",
    "names = ['January', 'February', 'March', 'April', 'May', 'June', 'July', 'August', 'September', 'October', 'November', 'December']\n",
    "\n",
    "# Replacing numbers with names\n",
    "month_names = createData.Month.replace(numbers, names)\n",
    "month_names"
   ]
  },
  {
   "cell_type": "markdown",
   "id": "0edd40d1",
   "metadata": {},
   "source": [
    "**Exercise**: Create a column in which the names `arbaminch`, `hawassa` and `sodo` (of the column `createData.station`) are replaced by the abbreviations `am`, `ha` and `so`."
   ]
  },
  {
   "cell_type": "code",
   "execution_count": null,
   "id": "caef35cf",
   "metadata": {},
   "outputs": [],
   "source": [
    "# Write your code for making a column with new station names here."
   ]
  },
  {
   "cell_type": "markdown",
   "id": "47b081b0",
   "metadata": {},
   "source": [
    "## 2. Categorizing data"
   ]
  },
  {
   "cell_type": "markdown",
   "id": "9ce7bb28",
   "metadata": {},
   "source": [
    "We can put numerical data in different categories (_bins_) with the function `pd.cut()`. For `pd.cut()`, we need to know three things:\n",
    "- What to categorize\n",
    "- The edges of the bins\n",
    "- The labels of the bins\n",
    "\n",
    "For example, creating a column in which the months are divided into two _bins_: `first_half` and `second_half`:\n",
    "- What to categorize: the column `data.Month`\n",
    "- The edges of the bins: `[0, 6, 12]`\n",
    "- The labels of the bins: `first_half` and `second_half`\n",
    "\n",
    "Additionally, if the order of the different categories is not very important, it is best to include `ordered=False`."
   ]
  },
  {
   "cell_type": "code",
   "execution_count": null,
   "id": "9318f191",
   "metadata": {},
   "outputs": [],
   "source": [
    "half_years = pd.cut(createData.Month, bins=[0, 6, 12], labels=['first_half', 'second_half'], ordered=False)\n",
    "half_years"
   ]
  },
  {
   "cell_type": "markdown",
   "id": "c59af51b",
   "metadata": {},
   "source": [
    "You can add this data directly to the original DataFrame (`createData['half_years'] = half_years)`), and use it for example in methods like `.groupby()`.\n",
    "To get the average per `first_half` and `second_half`:"
   ]
  },
  {
   "cell_type": "code",
   "execution_count": null,
   "id": "fe399371",
   "metadata": {},
   "outputs": [],
   "source": [
    "createData['rainfall'].groupby(by=half_years).mean()"
   ]
  },
  {
   "cell_type": "markdown",
   "id": "10c43fa2",
   "metadata": {},
   "source": [
    "**Exercise**: Create a column with the seasons (Kiremt, Bega, Belg), based on the column `createData.Month`.\n",
    "- What to categorize: the column `createData.Month`\n",
    "- The edges of the bins: `[0, 1, 5, 9, 12]`\n",
    "- The labels of the bins: `['Bega', 'Belg', 'Kiremnt', 'Bega']` (or choose other edges and corresponding seasons if you think it is different)"
   ]
  },
  {
   "cell_type": "code",
   "execution_count": null,
   "id": "54316e27",
   "metadata": {},
   "outputs": [],
   "source": [
    "# Write your code for creating the variable seasons, based on categorized month data, here."
   ]
  },
  {
   "cell_type": "markdown",
   "id": "8972d6ff",
   "metadata": {},
   "source": [
    "## 3. Getting more data out of timestamp data\n",
    "- If you have a column consisting out of timestamps, you can get all kinds of time-related data. \n",
    "    - N.B.: timestamps are not strings, but actual datetime objects!\n",
    "    - Remember: if you have strings, you can turn those into timestamps with the function `pd.to_datetime()` \n",
    "- For example, you can get a column with only the hours, or only the days, or only the years. This is useful input for functions like `.groupby()` or `pd.cut()`. \n",
    "- You access that timedata through `.dt.methodname` on your column with timestamp data. For example:\n",
    "    - `.dt.year` for the years\n",
    "    - `.dt.month` for the months\n",
    "    - `.dt.hour` for the hours\n",
    "    - `.dt.weekofyear` for the week number\n",
    "    - Etc...\n",
    "\n",
    "Let's say we have PM2.5 air quality data (run below cell to load it)."
   ]
  },
  {
   "cell_type": "code",
   "execution_count": null,
   "id": "4b7b894c",
   "metadata": {
    "scrolled": true
   },
   "outputs": [],
   "source": [
    "# Loading the data\n",
    "pm25Data = pd.read_csv('pm25Data.csv')\n",
    "\n",
    "# Creating timestamps out of the datetime strings\n",
    "pm25Data.Datetime = pd.to_datetime(pm25Data.Datetime, dayfirst=True)\n",
    "pm25Data"
   ]
  },
  {
   "cell_type": "markdown",
   "id": "a4d9b9c6",
   "metadata": {},
   "source": [
    "We would like to see the daily trend: one value per hour of the day (in total 24 values, being the average of all hours 0, 1, 2, ...). We do have timestamp data (column `Datetime`), but to group for hour per day we need a column that simply mentions only the hour of the day. This column we can create by using `dt.hour` on our column with timestamps."
   ]
  },
  {
   "cell_type": "code",
   "execution_count": null,
   "id": "adabec0e",
   "metadata": {},
   "outputs": [],
   "source": [
    "hours = pm25Data.Datetime.dt.hour\n",
    "print(hours)"
   ]
  },
  {
   "cell_type": "markdown",
   "id": "9415e200",
   "metadata": {},
   "source": [
    "This column hours is perfect input for the function `.groupby()`."
   ]
  },
  {
   "cell_type": "code",
   "execution_count": null,
   "id": "615c2d76",
   "metadata": {},
   "outputs": [],
   "source": [
    "hour_average = pm25Data.PM25.groupby(by=hours).mean()\n",
    "hour_average"
   ]
  },
  {
   "cell_type": "markdown",
   "id": "cac931c1",
   "metadata": {},
   "source": [
    "**Exercise**: Show the yearly trend, by calculating the average per month. \n",
    "\n",
    "Steps:\n",
    "- Create a column of month numbers with `pm25Data.Datetime.dt.month`\n",
    "- Use this column in the function `.groupby()`"
   ]
  },
  {
   "cell_type": "code",
   "execution_count": null,
   "id": "685007a0",
   "metadata": {},
   "outputs": [],
   "source": [
    "# Write your code for calculating the average per month here"
   ]
  },
  {
   "cell_type": "markdown",
   "id": "b21a7aa2",
   "metadata": {},
   "source": [
    "**Exercise**: Calculate the seasonal average.\n",
    "\n",
    "Steps:\n",
    "- Create a column of month numbers with `pm25Data.Datetime.dt.month` (or use the one from the previous exercise)\n",
    "- Use this column as input for the function `pd.cut()`, to get as output the seasons (in other words: _categorize_ the month numbers)\n",
    "- Use the created seasons in the function `.groupby()`"
   ]
  },
  {
   "cell_type": "code",
   "execution_count": null,
   "id": "173d9127",
   "metadata": {},
   "outputs": [],
   "source": [
    "# Write your code for calculating the average per season here."
   ]
  }
 ],
 "metadata": {
  "kernelspec": {
   "display_name": "Python 3",
   "language": "python",
   "name": "python3"
  },
  "language_info": {
   "codemirror_mode": {
    "name": "ipython",
    "version": 3
   },
   "file_extension": ".py",
   "mimetype": "text/x-python",
   "name": "python",
   "nbconvert_exporter": "python",
   "pygments_lexer": "ipython3",
   "version": "3.7.11"
  }
 },
 "nbformat": 4,
 "nbformat_minor": 5
}
