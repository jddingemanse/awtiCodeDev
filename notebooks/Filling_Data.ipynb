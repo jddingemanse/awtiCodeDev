{
 "cells": [
  {
   "cell_type": "markdown",
   "id": "a48db667",
   "metadata": {},
   "source": [
    "# Data Transformations with Pandas in Python - Creating Data\n",
    "\n",
    "Welcome to the notebook on filling missing data. In this notebook we will learn different techniques for filling missing data using Python. In general there are two approaches:\n",
    "1. Filling by providing a value (or multiple values)\n",
    "2. Filling by using a method: forward fill & backward fill\n",
    "\n",
    "But first one remark. **The biggest challenge in filling missing data is to properly prepare your data**. For this data preparation you will need (depending on your data) tools like `.melt()` or `.pivot()` (see notebook `Transforming_Data.ipynb`), indexing and joining (see notebook `Combining_Data.ipynb`), aggregating with functions like `.groupby()` and `.resample()`, etcetera. In other words: Python can fill missing data, but only with well organized data. So you need to know how to (re)organize your data and how you want to fill your missing data.\n",
    "\n",
    "This notebook does not pay attention to all those preparatory steps, and only focuses on the actual filling of missing data. You will see that this is actually quite easy.\n",
    "\n",
    "Let us start with a simple dataframe, with some columns and some missing data. Run below code cell."
   ]
  },
  {
   "cell_type": "code",
   "execution_count": null,
   "id": "fe4f3dc2",
   "metadata": {},
   "outputs": [],
   "source": [
    "import numpy as np\n",
    "import pandas as pd\n",
    "np.random.seed(301083)\n",
    "df1 = pd.DataFrame({'Date':pd.date_range(pd.to_datetime('2017'), pd.to_datetime('2017-01-10'), freq='D'),\n",
    "                    'RF':[1, 2, np.nan, np.nan, 5] * 2,\n",
    "                    'RH':np.random.randint(40, 80, 10),\n",
    "                    'Temp1':[np.nan] * 3 + list(np.random.randint(15, 30, 7)),\n",
    "                    'Temp2':[np.nan, 18, 13, 15, np.nan, 20, 22, 28, np.nan, 25],\n",
    "                    'Temp3':np.random.randint(20, 30, 10)})\n",
    "df1"
   ]
  },
  {
   "cell_type": "markdown",
   "id": "e2b313ed",
   "metadata": {},
   "source": [
    "## 1. Filling by providing a value (or multiple values)\n",
    "Filling missing data in a Pandas DataFrame can be done with the method `.fillna()`. Like all Pandas functions, this method has several options and is very flexible. \n",
    "\n",
    "For example, we can fill all missing values with **one specific value**."
   ]
  },
  {
   "cell_type": "code",
   "execution_count": null,
   "id": "4d7e71c5",
   "metadata": {},
   "outputs": [],
   "source": [
    "# Filling all missing values with the number 5\n",
    "df1.fillna(5) "
   ]
  },
  {
   "cell_type": "markdown",
   "id": "57f5e62a",
   "metadata": {},
   "source": [
    "If, instead, we want to provide **a specific value per column**, we can specify the value per column through a dictionary. And why not directly do it a bit smarter: filling each column with the average of that column."
   ]
  },
  {
   "cell_type": "code",
   "execution_count": null,
   "id": "b2032a09",
   "metadata": {},
   "outputs": [],
   "source": [
    "# Calculating the average per column, for which there are missing values\n",
    "RF_avg = df1.RF.mean()\n",
    "Temp1_avg = df1.Temp1.mean()\n",
    "Temp2_avg = df1.Temp2.mean()\n",
    "\n",
    "# Use a dictionary to specify which column needs to be filled with which value\n",
    "df1.fillna({'RF':RF_avg, 'Temp1':Temp1_avg, 'Temp2':Temp2_avg})"
   ]
  },
  {
   "cell_type": "markdown",
   "id": "83ff59b1",
   "metadata": {},
   "source": [
    "We can also **use a whole column** to fill another column. For example, filling the column `Temp1` with values from `Temp2`, and vice-versa."
   ]
  },
  {
   "cell_type": "code",
   "execution_count": null,
   "id": "a1e7b320",
   "metadata": {},
   "outputs": [],
   "source": [
    "df1.fillna({'Temp1':df1.Temp2, 'Temp2':df1.Temp1})"
   ]
  },
  {
   "cell_type": "markdown",
   "id": "9c176c31",
   "metadata": {},
   "source": [
    "**Exercise**: Write code for the following filling missing data options:\n",
    "1. Fill missing data of column `Temp1` with the value 20\n",
    "2. Fill missing data of columns `Temp1` and `Temp2` with the average of column `Temp3`"
   ]
  },
  {
   "cell_type": "code",
   "execution_count": null,
   "id": "78cbea86",
   "metadata": {},
   "outputs": [],
   "source": [
    "# Write your code for filling missing data here"
   ]
  },
  {
   "cell_type": "markdown",
   "id": "59f89495",
   "metadata": {},
   "source": [
    "Likewise, we can fill column `Temp1` based on **the average of columns** `Temp2` and `Temp3` - we simply first need to calculate the average over those columns. We can take the average with the function `.mean()`, however, that gives us the average _per column_. Instead, we want the average _per row_. That is possible by using the `axis` argument: by default the `axis` is 0 (meaning average over the row dimension - getting one value per column), but you can set it to 1 (meaning average over the column dimension - getting one value per row). If we do that for columns `Temp2` and `Temp3`, we can use the resulting averages per row to fill column `Temp1`. See below example."
   ]
  },
  {
   "cell_type": "code",
   "execution_count": null,
   "id": "3072b7dc",
   "metadata": {},
   "outputs": [],
   "source": [
    "# Calculate average per row, for only columns Temp2 and Temp3\n",
    "row_avg = df1.get(['Temp2', 'Temp3']).mean(axis=1)\n",
    "row_avg"
   ]
  },
  {
   "cell_type": "code",
   "execution_count": null,
   "id": "6e075509",
   "metadata": {},
   "outputs": [],
   "source": [
    "# Using the average per row to fill missing data in column Temp1\n",
    "df1.fillna({'Temp1':row_avg})"
   ]
  },
  {
   "cell_type": "markdown",
   "id": "5c8d7fe6",
   "metadata": {},
   "source": [
    "**Exercise**: Fill the column `Temp2` with the average of columns `Temp1` and `Temp3`."
   ]
  },
  {
   "cell_type": "code",
   "execution_count": null,
   "id": "bf427614",
   "metadata": {},
   "outputs": [],
   "source": [
    "# Write your code for filling the missing data of column Temp2"
   ]
  },
  {
   "cell_type": "markdown",
   "id": "da001fc8",
   "metadata": {},
   "source": [
    "## 2. Filling by using a method: forward fill & backward fill\n",
    "Instead of supplying values, we can also select a method with the argument `method`. For example, the method 'forward filling', which means: fill missing values based on their previous values &rarr; use available data forward towards missing data. You can use this method by writing `method='ffill'` inside the function.\n",
    "\n",
    "There is also a method for filling missing values in the other direction, 'backward filling'. To use this method you have to set `method='bfill'`. \n",
    "\n",
    "See below examples, and carefully compare the result with the original `df1` to see what happened."
   ]
  },
  {
   "cell_type": "code",
   "execution_count": null,
   "id": "a3468b9f",
   "metadata": {},
   "outputs": [],
   "source": [
    "# The original df1, for comparison\n",
    "df1"
   ]
  },
  {
   "cell_type": "code",
   "execution_count": null,
   "id": "cc4df66c",
   "metadata": {},
   "outputs": [],
   "source": [
    "# Forward filling of missing data\n",
    "# Missing data at the start is not filled, because there is nothing before them that can be moved forward\n",
    "df1.fillna(method='ffill')"
   ]
  },
  {
   "cell_type": "code",
   "execution_count": null,
   "id": "2eda5a9b",
   "metadata": {},
   "outputs": [],
   "source": [
    "# Backward filling of missing data\n",
    "# Missing data at the end will not be filled, because there is nothing after them that can be moved backward\n",
    "df1.fillna(method='bfill')"
   ]
  },
  {
   "cell_type": "markdown",
   "id": "59902ddd",
   "metadata": {},
   "source": [
    "You can combine a filling method with the argument `limit`, to specify how much cells may be filled. For example, `method='bfill'` with `limit=1` will fill maximum one value backward. This is relevant if you want to combine different filling missing data techniques. For example, first fill a few values with forward or backward fill. Then, fill the rest of the missing data based on neighboring stations, satellite data, or something else."
   ]
  },
  {
   "cell_type": "code",
   "execution_count": null,
   "id": "6e91605b",
   "metadata": {},
   "outputs": [],
   "source": [
    "# An example of forward filling with limit\n",
    "df1.fillna(method='bfill', limit=1)"
   ]
  },
  {
   "cell_type": "markdown",
   "id": "5245b97a",
   "metadata": {},
   "source": [
    "Smartly filling missing data is a matter of knowing what you want, and logically combining the different tools for that. If you know your data well, you might realize that you do not want only one technique, but different techniques for different situations and different parameters. In that case, you simply have to systematically combine different techniques, step by step.\n",
    "\n",
    "For example, we cannot fill one column with a method, and another with a fixed value, all at once. But step by step it is possible. See below code for a mixture of techniques. In that code, also the argument `inplace=True` is used, to really let the change (in this case, the filling) happen in the dataframe or column itself.\n",
    "\n",
    "Go over the code line by line and try to understand what is happening."
   ]
  },
  {
   "cell_type": "code",
   "execution_count": null,
   "id": "b9b15fbe",
   "metadata": {},
   "outputs": [],
   "source": [
    "# Let us create a copy of df1; df1 remains unchanged, but to_fill will become the dataframe with missing data filled\n",
    "to_fill = df1.copy() \n",
    "\n",
    "# Fill column RF with ffill, with a limit of 1.\n",
    "# To specifically do a method on one column, we should select that one column\n",
    "to_fill.RF.fillna(method='ffill', limit=1, inplace=True)\n",
    "print('Filled column RF with forward fill (limit=1): \\n\\n', to_fill, '\\n\\n')\n",
    "\n",
    "# Fill remaining missing values in column RF with average of column RF\n",
    "to_fill.fillna({'RF':to_fill.RF.mean()}, inplace=True)\n",
    "print('Filled remaining missing values of column RF with mean value: \\n\\n', to_fill, '\\n\\n')\n",
    "\n",
    "# Fill column Temp1 with values of column Temp3 * 0.8 (e.g., biascorrection)\n",
    "to_fill.fillna({'Temp1':to_fill.Temp3 * 0.8}, inplace=True)\n",
    "print('Filled column Temp1 with values of column Temp3 * 0.8: \\n\\n', to_fill, '\\n\\n')\n",
    "\n",
    "# Fill column Temp2 with the average of columns Temp1 and Temp3\n",
    "to_fill.fillna({'Temp2':to_fill.get(['Temp1', 'Temp3']).mean(axis=1)}, inplace=True)\n",
    "print('Filled column Temp2 with the average of columns Temp1 and Temp3: \\n\\n', to_fill)"
   ]
  },
  {
   "cell_type": "markdown",
   "id": "e7adc2e7",
   "metadata": {},
   "source": [
    "## Practicing with filling missing data - Exercise\n",
    "Let's practice some filling missing data skills using the rainfall data of six EMI stations. \n",
    "\n",
    "First, load the data and check it by running below cell."
   ]
  },
  {
   "cell_type": "code",
   "execution_count": null,
   "id": "9a47559c",
   "metadata": {},
   "outputs": [],
   "source": [
    "dailyRFdata = pd.read_csv('dailyRFdata.csv')\n",
    "dailyRFdata"
   ]
  },
  {
   "cell_type": "markdown",
   "id": "d27b9355",
   "metadata": {},
   "source": [
    "**Exercises**: For you to practice, several ways in which you can fill missing data\n",
    "1. Fill missing data of the column `Maksegnit` based on the overall average of `Maksegnit`\n",
    "2. Fill missing data of the column `Chewahit` with data from the column `Gondar A.P.`\n",
    "3. Fill missing data of the column `Ambagiorgis Sch` with the method forward fill\n",
    "4. Fill missing data of the column `Aymba` with the average of all the other stations\n",
    "5. Calculate the average of `Gondar A.P.` (`avg_GondarAP`) and the average of `Aymba` (`avg_Aymba`), and fill missing data of `Aymba` based on `Gondar A.P. * avg_Aymba / avg_GondarAP`"
   ]
  },
  {
   "cell_type": "code",
   "execution_count": null,
   "id": "109506d6",
   "metadata": {},
   "outputs": [],
   "source": [
    "# Write your code for different ways of filling missing data here\n",
    "# You can always add more code cells by clicking on the + sign at the top of the Jupyter Notebook"
   ]
  }
 ],
 "metadata": {
  "kernelspec": {
   "display_name": "Python 3",
   "language": "python",
   "name": "python3"
  },
  "language_info": {
   "codemirror_mode": {
    "name": "ipython",
    "version": 3
   },
   "file_extension": ".py",
   "mimetype": "text/x-python",
   "name": "python",
   "nbconvert_exporter": "python",
   "pygments_lexer": "ipython3",
   "version": "3.7.11"
  }
 },
 "nbformat": 4,
 "nbformat_minor": 5
}
