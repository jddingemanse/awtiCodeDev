{
 "cells": [
  {
   "cell_type": "markdown",
   "id": "3eccadd1",
   "metadata": {},
   "source": [
    "# Data Transformations with Pandas in Python - Describing Data\n",
    "\n",
    "Welcome to the notebook about describing data. In this notebook we will look to types of description: \n",
    "1. **Unique values** - showing the unique values, and counting the occurance of unique values\n",
    "2. **Missing values** - calculating the number and percentage of missing values\n",
    "\n",
    "Good luck!"
   ]
  },
  {
   "cell_type": "markdown",
   "id": "bb700fbe",
   "metadata": {},
   "source": [
    "We will us a file with (fake / randomly generated) data from the file `infoData.csv`, to see some methods for quickly obtaining information. Run below cell to load and check the data."
   ]
  },
  {
   "cell_type": "code",
   "execution_count": null,
   "id": "2a41f619",
   "metadata": {},
   "outputs": [],
   "source": [
    "import pandas as pd\n",
    "infoData = pd.read_csv('infoData.csv')\n",
    "infoData"
   ]
  },
  {
   "cell_type": "markdown",
   "id": "63e49a02",
   "metadata": {},
   "source": [
    "## 1. Showing and counting unique values\n",
    "\n",
    "We can get an overview of the unique values in a _column_, by adding the method `.unique()` to a column. For example, to check which station names are available:"
   ]
  },
  {
   "cell_type": "code",
   "execution_count": null,
   "id": "d4797888",
   "metadata": {},
   "outputs": [],
   "source": [
    "infoData.station.unique()"
   ]
  },
  {
   "cell_type": "markdown",
   "id": "bc0bc0eb",
   "metadata": {},
   "source": [
    "**Exercise**: Show an overview of the unique values in the column `infoData.Month`"
   ]
  },
  {
   "cell_type": "code",
   "execution_count": null,
   "id": "f31d6ef3",
   "metadata": {},
   "outputs": [],
   "source": [
    "# Write your code for getting the unique values of the column infoData.Month here"
   ]
  },
  {
   "cell_type": "markdown",
   "id": "cc33e4c2",
   "metadata": {},
   "source": [
    "We can also get an overview of the number of values for each unique value. This is possible with the method `.value_counts()`. For example, to check the number of times each of the unique station names occurs in the column `infoData.station`:"
   ]
  },
  {
   "cell_type": "code",
   "execution_count": null,
   "id": "02a22e29",
   "metadata": {},
   "outputs": [],
   "source": [
    "infoData.station.value_counts()"
   ]
  },
  {
   "cell_type": "markdown",
   "id": "8d0cdad3",
   "metadata": {},
   "source": [
    "**Exercise**: Show an overview of the number of values per unique value in the column `infoData.Month`"
   ]
  },
  {
   "cell_type": "code",
   "execution_count": null,
   "id": "d0650d09",
   "metadata": {},
   "outputs": [],
   "source": [
    "# Write your code for getting the number of values per unique month number here."
   ]
  },
  {
   "cell_type": "markdown",
   "id": "247f00fe",
   "metadata": {},
   "source": [
    "The method `.value_counts()` can also be used to get an overview of number of values for unique combinations of _multiple columns_; for example, an overview of the number of occurances for all unique station/year combinations. For this, you have to use the method on the full dataframe, and specify the columns that you want to use as `subset`. See below example."
   ]
  },
  {
   "cell_type": "code",
   "execution_count": null,
   "id": "3565f774",
   "metadata": {},
   "outputs": [],
   "source": [
    "# Creating a variable containing the column names for the columns of which you want to get number of unique combinations\n",
    "columns_to_use = ['station', 'Year'] \n",
    "\n",
    "# Using the method .value_counts() on the dataframe, and specify the columns through the argument subset\n",
    "infoData.value_counts(subset=columns_to_use) "
   ]
  },
  {
   "cell_type": "markdown",
   "id": "0d3b1235",
   "metadata": {},
   "source": [
    "**Exercise**: Show some information on unique values and their counts in the dataframe emiData.\n",
    "\n",
    "Steps:\n",
    "- Load the data by running below code\n",
    "- Write code for the following information requests:\n",
    "    1. An overview of the unique values in the column `emiData.NAME`\n",
    "    2. An overview of the unique values in the column `emiData.Element`\n",
    "    3. The number of occurances of each unique value in the column `emiData.Element`\n",
    "    4. The number of occurances of each unique value in the column `emiData.YEAR`\n",
    "    5. The number of occurances of the _combinations_ of unique values in columns `'Name'` and `'Element'`\n",
    "    6. The number of occurances of the _combinations_ of unique values in columns `'Element'` and `'YEAR'`"
   ]
  },
  {
   "cell_type": "code",
   "execution_count": null,
   "id": "71e89abe",
   "metadata": {},
   "outputs": [],
   "source": [
    "emiData = pd.read_excel('emiData.xlsx')\n",
    "emiData"
   ]
  },
  {
   "cell_type": "code",
   "execution_count": null,
   "id": "fb5290bf",
   "metadata": {},
   "outputs": [],
   "source": [
    "# Write your code here for the different information requests."
   ]
  },
  {
   "cell_type": "markdown",
   "id": "9c86bffa",
   "metadata": {},
   "source": [
    "## 2. Getting insight in the number of missing values\n",
    "\n",
    "In our dataframe infoData, some values are missing. This is shown as `NaN`. See for example the first two rows of the dataframe, in which we have a missing value in the column `infoData.rainfall`."
   ]
  },
  {
   "cell_type": "code",
   "execution_count": null,
   "id": "056e7cfc",
   "metadata": {},
   "outputs": [],
   "source": [
    "# .iloc[row_slice, column_slice] can be used to select parts of a DataFrame based on the relative position. \n",
    "# In this case: the first two rows (:2), and all columns (:)\n",
    "infoData.iloc[:2, :] "
   ]
  },
  {
   "cell_type": "markdown",
   "id": "99ffae93",
   "metadata": {},
   "source": [
    "To count the number of missing values in a dataframe, you need to know two things:\n",
    "- You can get **booleans** based on missing or not with the methods `.isna()` or `notna()`. The method `.isna()` gives `True` if a value is missing, and `False` if not.\n",
    "- Booleans can be used mathematically: `True` counts as 1, `False` counts as 0.\n",
    "\n",
    "The above two things combined gives us the option to count the number of missing values: first request booleans, and then sum them. With `.isna()`, all missing values will give `True`, and the rest `False`. So, summing that will result in the number of missing values (because only the `True`'s will be counted). And summing is easy: with the built-in method `.sum()`. See below example."
   ]
  },
  {
   "cell_type": "code",
   "execution_count": null,
   "id": "e405f106",
   "metadata": {},
   "outputs": [],
   "source": [
    "# Getting Booleans for missing (True) or not (False):\n",
    "bool_missing = infoData.isna()\n",
    "bool_missing"
   ]
  },
  {
   "cell_type": "code",
   "execution_count": null,
   "id": "8bf373ce",
   "metadata": {},
   "outputs": [],
   "source": [
    "# Summing the booleans with the built-in Pandas method .sum()\n",
    "bool_missing.sum()"
   ]
  },
  {
   "cell_type": "code",
   "execution_count": null,
   "id": "4b057ccf",
   "metadata": {},
   "outputs": [],
   "source": [
    "# Or, all steps combined, and specifically for the columns of our interest (rainfall and temperature)\n",
    "infoData.get(['rainfall', 'temperature']).isna().sum()"
   ]
  },
  {
   "cell_type": "markdown",
   "id": "7fa1380f",
   "metadata": {},
   "source": [
    "In the same way we can get the percentage of missing data. We saw that in the column `rainfall`, 15 values are missing. The total length of the dataframe is 72. So, the percentage of missing rainfall data is `15/72 * 100`, or, the sum divided by the length - or, the **average**. \n",
    "\n",
    "In other words, we can get the percentage of missing values by using the built-in method `.mean()` on the booleans created by `.isna()`."
   ]
  },
  {
   "cell_type": "code",
   "execution_count": null,
   "id": "a94f91de",
   "metadata": {},
   "outputs": [],
   "source": [
    "# All steps combined, to get the percentage of missing data for both columns:\n",
    "infoData.get(['rainfall', 'temperature']).isna().mean() * 100"
   ]
  },
  {
   "cell_type": "markdown",
   "id": "affd491f",
   "metadata": {},
   "source": [
    "**Exercise**: Display the precentage of **not missing data** (in other words: how much data is available). Hint: use `.notna()` instead of `.isna()`."
   ]
  },
  {
   "cell_type": "code",
   "execution_count": null,
   "id": "c04ec290",
   "metadata": {},
   "outputs": [],
   "source": [
    "# Write your code for displaying the percentage of available data here."
   ]
  },
  {
   "cell_type": "markdown",
   "id": "01724889",
   "metadata": {},
   "source": [
    "More advanced overviews of missing data can be obtained by smartly using it with functions like `.groupby()`. \n",
    "\n",
    "For example, if you want the number of missing values _per year_, you want the _sum per year_ of the booleans. This can be done by grouping them per year (with `.groupby()`), before taking the sum. See below example."
   ]
  },
  {
   "cell_type": "code",
   "execution_count": null,
   "id": "500769f8",
   "metadata": {},
   "outputs": [],
   "source": [
    "infoData.get(['rainfall', 'temperature']).isna().groupby(by=infoData.Year).sum()"
   ]
  },
  {
   "cell_type": "markdown",
   "id": "e7844667",
   "metadata": {},
   "source": [
    "The above code includes 4 steps in one line:\n",
    "- We select only columns `rainfall` and `temperature` with `.get()`\n",
    "- We turn those into booleans for missing or not with `.isna()`\n",
    "- We group those booleans for the values in the column `infoData.Year` with the method `.groupby()` (one group for each unique value in the column `infoData.Year`)\n",
    "- We take the sum for each of those groups"
   ]
  },
  {
   "cell_type": "markdown",
   "id": "e591c59f",
   "metadata": {},
   "source": [
    "**Exercise**: Show some information on missing data in the dataframe `makTemp`.\n",
    "\n",
    "Steps:\n",
    "- Load the data by running below code\n",
    "- Write code for the following information requests:\n",
    "    1. The number of missing values in the column `makTemp.temperature`\n",
    "    2. The percentage of missing values in the column `makTemp.temperature`\n",
    "    3. The percentage of msising values **per YEAR** in the column `makTemp.temperature`\n",
    "    4. The percentage of msising values **per Month** in the column `makTemp.temperature`    "
   ]
  },
  {
   "cell_type": "code",
   "execution_count": null,
   "id": "4f31a835",
   "metadata": {},
   "outputs": [],
   "source": [
    "makTemp = pd.read_csv('makTemp.csv')\n",
    "makTemp"
   ]
  },
  {
   "cell_type": "code",
   "execution_count": null,
   "id": "e1183307",
   "metadata": {},
   "outputs": [],
   "source": [
    "# Write your code here for the different missing data information requests."
   ]
  }
 ],
 "metadata": {
  "kernelspec": {
   "display_name": "Python 3 (ipykernel)",
   "language": "python",
   "name": "python3"
  },
  "language_info": {
   "codemirror_mode": {
    "name": "ipython",
    "version": 3
   },
   "file_extension": ".py",
   "mimetype": "text/x-python",
   "name": "python",
   "nbconvert_exporter": "python",
   "pygments_lexer": "ipython3",
   "version": "3.9.12"
  }
 },
 "nbformat": 4,
 "nbformat_minor": 5
}
