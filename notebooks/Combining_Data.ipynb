{
 "cells": [
  {
   "cell_type": "markdown",
   "id": "f5b420a9",
   "metadata": {},
   "source": [
    "# Data Transformations with Pandas in Python - Combining Data\n",
    "\n",
    "Welcome to the notebook about combining data! In this notebook we will learn how to combine two or more datasets. For this we will look at two parts:\n",
    "1. Flexibility with indexes - How can we make sure our datasets have the same index (which is needed for joining)?\n",
    "2. Joining two different dataframes - How can we combine two datasets?\n",
    "\n",
    "Good luck!"
   ]
  },
  {
   "cell_type": "markdown",
   "id": "787db248",
   "metadata": {},
   "source": [
    "## 1. Flexibility with indexes\n",
    "\n",
    "By default, indexes are numbers ranging from 0 to length-1. However, for some operations it is useful to have other indexes. For example, for combining two different dataframes, for plotting, for resampling, etc. Or sometimes your index changes due to some Pandas operation and you want to turn back to 'regular' indexes. \n",
    "\n",
    "In this part about indexes, we will cover three situations: \n",
    "1. Using a single column as index\n",
    "2. Using multiple columns as index\n",
    "3. Going back to a normal index\n",
    "\n",
    "Let's see some applications with the data from `tempData.csv` and some additional date-columns we create ourselves. Run cell below to check the data."
   ]
  },
  {
   "cell_type": "code",
   "execution_count": null,
   "id": "e85966fd",
   "metadata": {
    "scrolled": true
   },
   "outputs": [],
   "source": [
    "import pandas as pd\n",
    "\n",
    "tempData = pd.read_csv('tempData.csv')\n",
    "tempData.Datetime = pd.to_datetime(tempData.Datetime,dayfirst=True)\n",
    "\n",
    "tempData['year'] = tempData.Datetime.dt.year\n",
    "tempData['month'] = tempData.Datetime.dt.month\n",
    "tempData['day'] = tempData.Datetime.dt.day\n",
    "\n",
    "tempData"
   ]
  },
  {
   "cell_type": "markdown",
   "id": "8df3a4a0",
   "metadata": {},
   "source": [
    "### 1.1 Using a single column as index\n",
    "We can set any of the columns of a dataframe as index with the method `.set_index()`.\n",
    "\n",
    "Let's set the values in the column `Datetime` as index."
   ]
  },
  {
   "cell_type": "code",
   "execution_count": null,
   "id": "1248982b",
   "metadata": {},
   "outputs": [],
   "source": [
    "# Setting the column Datetime as index\n",
    "tempData_time_indexed = tempData.set_index('Datetime')\n",
    "tempData_time_indexed"
   ]
  },
  {
   "cell_type": "markdown",
   "id": "2ff6eaa6",
   "metadata": {},
   "source": [
    "The above case is relevant for making the use of the function `.resample()` easier. Normally, you have to supply both a `rule` and the column `on` which you want to resample. However, if your index is actualy time data, only supplying the `rule` is enough. See below example."
   ]
  },
  {
   "cell_type": "code",
   "execution_count": null,
   "id": "c5e4e97a",
   "metadata": {},
   "outputs": [],
   "source": [
    "# Resampling the original data to monthly averages: argument 'on' is needed\n",
    "tempData.resample(rule='M', on='Datetime').mean()"
   ]
  },
  {
   "cell_type": "code",
   "execution_count": null,
   "id": "667a35f5",
   "metadata": {},
   "outputs": [],
   "source": [
    "# Resampling the data with Datetime as index: no need for the argument 'on'\n",
    "tempData_time_indexed.resample(rule='M').mean()"
   ]
  },
  {
   "cell_type": "markdown",
   "id": "799786ea",
   "metadata": {},
   "source": [
    "### 1.2 Using multiple columns as index\n",
    "You can even use multiple columns as index. This will create an index with multiple levels. See below example."
   ]
  },
  {
   "cell_type": "code",
   "execution_count": null,
   "id": "caae2a83",
   "metadata": {},
   "outputs": [],
   "source": [
    "# Setting the columns year, month, and day as index\n",
    "tempData_date_indexed = tempData.set_index(['year', 'month', 'day'])\n",
    "tempData_date_indexed"
   ]
  },
  {
   "cell_type": "markdown",
   "id": "67ecd51d",
   "metadata": {},
   "source": [
    "### 1.3 Going back to a normal index\n",
    "Methods like `.resample()` or `.groupby()` create themselves a special index. See for example the above resampled examples: the time frequency became the index. There can also be other cases in which you get a special index, like when you turn a NetCDF dataset into a pandas dataframe. \n",
    "\n",
    "If for some reason you want to obtain a 'normal' index, you can always use `.reset_index()`."
   ]
  },
  {
   "cell_type": "code",
   "execution_count": null,
   "id": "175626b7",
   "metadata": {},
   "outputs": [],
   "source": [
    "# Going back to a normal index using .reset_index()\n",
    "back_to_normal = tempData_time_indexed.reset_index()\n",
    "back_to_normal"
   ]
  },
  {
   "cell_type": "markdown",
   "id": "fc4ff408",
   "metadata": {},
   "source": [
    "## 2. Joining two different dataframes\n",
    "\n",
    "The above described tools for indexing are especially relevant when you want to combine multiple dataframes.\n",
    "\n",
    "You can join two dataframes together. It will create columns for every dataframe and it will put values with the _same index_ on the _same row_. In other words, for joining it is very important to prepare the indexes correctly.\n",
    "\n",
    "We have two datasets (`pm25Data.csv` and `tempData.csv`), that we would like to combine into one. They might have different time steps and different indexes. So, our task will be to give the two datasets a similar index so that we can combine them.\n",
    "\n",
    "Let's first load the data. Run below code."
   ]
  },
  {
   "cell_type": "code",
   "execution_count": null,
   "id": "770a7ca3",
   "metadata": {},
   "outputs": [],
   "source": [
    "# Loading pm25Data\n",
    "pm25Data = pd.read_csv('pm25Data.csv')\n",
    "pm25Data.Datetime = pd.to_datetime(pm25Data.Datetime, dayfirst=True)\n",
    "pm25Data"
   ]
  },
  {
   "cell_type": "code",
   "execution_count": null,
   "id": "d154588c",
   "metadata": {},
   "outputs": [],
   "source": [
    "# Loading tempData\n",
    "tempData = pd.read_csv('tempData.csv')\n",
    "tempData.Datetime = pd.to_datetime(tempData.Datetime, dayfirst=True)\n",
    "tempData"
   ]
  },
  {
   "cell_type": "markdown",
   "id": "655b76d6",
   "metadata": {},
   "source": [
    "### Combining `pm25Data` with `tempData`\n",
    "First, make sure both datasets have a similar index. One smart way to do that is by resampling them both to the same time frequency. Then the index of both will be time and combining them will bring the same times on the same row."
   ]
  },
  {
   "cell_type": "code",
   "execution_count": null,
   "id": "3fc9851a",
   "metadata": {},
   "outputs": [],
   "source": [
    "# Resample the PM2.5 data to hourly frequency\n",
    "pm25_hour = pm25Data.resample(rule='H', on='Datetime').mean()\n",
    "pm25_hour"
   ]
  },
  {
   "cell_type": "code",
   "execution_count": null,
   "id": "c76b394c",
   "metadata": {},
   "outputs": [],
   "source": [
    "# Resample the temperature data to hourly frequency\n",
    "temp_hour = tempData.resample(rule='H', on='Datetime').mean()\n",
    "temp_hour"
   ]
  },
  {
   "cell_type": "markdown",
   "id": "95a61e36",
   "metadata": {},
   "source": [
    "We can combine two dataframes with the method `.join()`. For example, joining `temp_hour` to `pm25_hour`:"
   ]
  },
  {
   "cell_type": "code",
   "execution_count": null,
   "id": "0434c6ee",
   "metadata": {
    "scrolled": true
   },
   "outputs": [],
   "source": [
    "pm25_temp_joined = pm25_hour.join(temp_hour)\n",
    "pm25_temp_joined"
   ]
  },
  {
   "cell_type": "markdown",
   "id": "b332f121",
   "metadata": {},
   "source": [
    "**Exercise**: what happens if you use `temp_hour.join(pm25_hour)` instead of the above `pm25_hour.join(temp_hour)`? Try in the below cell and explain the difference."
   ]
  },
  {
   "cell_type": "code",
   "execution_count": null,
   "id": "cf9a1196",
   "metadata": {},
   "outputs": [],
   "source": [
    "# Write code that joins pm25_hour to temp_hour, instead of temp_hour to pm25_hour"
   ]
  },
  {
   "cell_type": "markdown",
   "id": "a9e90f8b",
   "metadata": {},
   "source": [
    "There are also several options to the method `.join()`. For example, to decide what data you want to keep and whether you want to give the columns from one of the dataframes a suffix. You can check these options out for yourself by looking on the internet (search for 'Pandas dataframe join'), or by checking the built-in help text (`pm25_hour.join?`)."
   ]
  },
  {
   "cell_type": "markdown",
   "id": "b0d957b5",
   "metadata": {},
   "source": [
    "**Exercise**: From the help text, learn how you can give the column of `pm25_hour` the suffix `DF1` and the column of `temp_hour` the suffix `DF2` when you use `pm25_hour.join(temp_hour)`.\n",
    "\n",
    "Steps:\n",
    "- Read the help text by writing `pm25_hour.join?`\n",
    "- Find the arguments that you need for the above mentioned tasks and write code that uses those arguments."
   ]
  },
  {
   "cell_type": "code",
   "execution_count": null,
   "id": "5b8c5028",
   "metadata": {},
   "outputs": [],
   "source": [
    "# Write your code for joining with suffixes here."
   ]
  },
  {
   "cell_type": "markdown",
   "id": "0c15a38e",
   "metadata": {},
   "source": [
    "## Extensive joining example - Satellite and station data\n",
    "\n",
    "You can use the above techniques to combine for example satellite and station data. Of course, you will need to take the necessary preparations: the two datasets must have a similar index, on which you can join.\n",
    "\n",
    "**You can only work with this part if you have installed the packages xarray and netcdf4. If that is not the case, please install those packages or contact one of the instructors/assistants for help.**\n",
    "\n",
    "### Step 1: Loading the data\n",
    "We have a timeseries of temperature data for the EMI station Maksegnit (lon=37.56, lat=12.39) inside `makTemp.csv`. Also, we have a file with surface temperatures of the whole world, for multiple years (`temperatures.nc`). Let's start by loading the data. "
   ]
  },
  {
   "cell_type": "code",
   "execution_count": null,
   "id": "8133386c",
   "metadata": {},
   "outputs": [],
   "source": [
    "# Load maksegnit station temperature data\n",
    "emiTemp = pd.read_csv('makTemp.csv')"
   ]
  },
  {
   "cell_type": "code",
   "execution_count": null,
   "id": "bd66e23f",
   "metadata": {},
   "outputs": [],
   "source": [
    "# Load satellite data\n",
    "import xarray as xr\n",
    "satTempWorld = xr.open_dataset('temperatures.nc')"
   ]
  },
  {
   "cell_type": "markdown",
   "id": "5187d37a",
   "metadata": {},
   "source": [
    "### Step 2: Making decisions\n",
    "\n",
    "We must first make two decisions on how to join the final data:\n",
    "1. From the satellite data we need to select the lat/lon area closest to Maksegnit. Let us decide to use data between longitudes 37-38 and latitudes 12-13.\n",
    "2. The surface temperature data is monthly, so let us decide to also turn the EMI station data into monthly data.\n",
    "\n",
    "For the first decision, we need to _slice_ the data variable `air` (`satTempWorld.air`) for latitudes and longitudes. It has dimensions `(time, lat, lon)`, so we need to slice on the second and third position."
   ]
  },
  {
   "cell_type": "code",
   "execution_count": null,
   "id": "d983fb59",
   "metadata": {},
   "outputs": [],
   "source": [
    "# From the full dataset, only select the surface temperatures for latitudes and longitudes around Maksegnit station\n",
    "satTempMak = satTempWorld.air[:, (satTempWorld.lat > 12) & (satTempWorld.lat < 13), \n",
    "                                 (satTempWorld.lon > 37) & (satTempWorld.lon < 38)]"
   ]
  },
  {
   "cell_type": "markdown",
   "id": "3fdbf440",
   "metadata": {},
   "source": [
    "For the second decision, we need to create monthly averages. The dataframe `makTemp` has columns `['YEAR', 'Month', 'day', 'temperature']`. We can use the method `.groupby()` to create groups for unique YEAR/Month combinations and take the average per group."
   ]
  },
  {
   "cell_type": "code",
   "execution_count": null,
   "id": "a58cfdee",
   "metadata": {},
   "outputs": [],
   "source": [
    "# Select only the columns we need (['YEAR', 'Month', 'temperature']), group the data, and take the average\n",
    "emiMonth = emiTemp.get(['YEAR', 'Month', 'temperature']).groupby(by=['YEAR', 'Month']).mean()\n",
    "emiMonth"
   ]
  },
  {
   "cell_type": "markdown",
   "id": "6936a9bc",
   "metadata": {},
   "source": [
    "### Step 3: Preparing the satellite data to the same format as `emiMonth`\n",
    "\n",
    "- We now have temperature averages per month for the station data (inside the variable `emiMonth`), with as index `'YEAR' 'Month'`, thanks to `.groupby()`. \n",
    "- We also have temperatures per month for the satelite data, for all latitudes and longitudes between 12-13 and 37-38 (`satTempMak`). We need to take a few steps to end up with a file that contains the satellite data in the same format (indexed by `'YEAR' 'Month'`).\n",
    "    1. We will need to 'average away' the remaining latitudes and longitudes (we only want to keep one value per timestep).\n",
    "    2. We will need to turn the satellite _xarray dataset_ into a _pandas dataframe_.\n",
    "    3. In our satellite data, time is tiven as a timestamp (e.g., `1948-01-01`). We need to get a column with only years and a column with only month numbers from that.\n",
    "    4. Lastly, we need to set those year- and month-columns as index.\n",
    "\n",
    "For step 1, we can use the numpy function `np.mean()` in combination with the `axis=` argument: take the mean over the second and third axis (`axis=(1, 2)`), to get the average per time over the selected latitudes and longitudes. See the cell below."
   ]
  },
  {
   "cell_type": "code",
   "execution_count": null,
   "id": "75b1ce34",
   "metadata": {},
   "outputs": [],
   "source": [
    "import numpy as np\n",
    "satTempTime = np.mean(satTempMak, axis=(1, 2))"
   ]
  },
  {
   "cell_type": "markdown",
   "id": "cf400026",
   "metadata": {},
   "source": [
    "For step 2, we can use `.to_dataframe()`. We include `.reset_index()` to get normal indices (without that, we would get the timestamp as index)."
   ]
  },
  {
   "cell_type": "code",
   "execution_count": null,
   "id": "31038a0a",
   "metadata": {},
   "outputs": [],
   "source": [
    "satTempTimedf = satTempTime.to_dataframe().reset_index()\n",
    "satTempTimedf"
   ]
  },
  {
   "cell_type": "markdown",
   "id": "be7f191f",
   "metadata": {},
   "source": [
    "For step 3, we can obtain years or months only through the attribute `.dt`, which is available to any column with timestamp data (see the notebook `Creating_Data.ipynb` for more explanation on `.dt`). In other words, we can create a column with years through `satTempTimedf.time.dt.year`, and a column with month numbers through `satTempTimedf.time.dt.month`. While adding this as columns to the dataframe, we can already give them **exactly the same name** as the name in our station data dataframe (`YEAR` and `Month`)."
   ]
  },
  {
   "cell_type": "code",
   "execution_count": null,
   "id": "45e874a1",
   "metadata": {},
   "outputs": [],
   "source": [
    "# Add columns YEAR and Month\n",
    "satTempTimedf['YEAR'] = satTempTimedf.time.dt.year\n",
    "satTempTimedf['Month'] = satTempTimedf.time.dt.month\n",
    "satTempTimedf"
   ]
  },
  {
   "cell_type": "markdown",
   "id": "e5b3f4f2",
   "metadata": {},
   "source": [
    "Finally, for step 4, we can turn the columns `YEAR` and `Month` into the index with the method `.set_index()`, as we saw earlier in this notebook. And we can get rid of the column `time`, because we do not need it anymore."
   ]
  },
  {
   "cell_type": "code",
   "execution_count": null,
   "id": "908ba953",
   "metadata": {},
   "outputs": [],
   "source": [
    "satMonth = satTempTimedf.set_index(['YEAR', 'Month']).drop(columns='time')\n",
    "satMonth"
   ]
  },
  {
   "cell_type": "markdown",
   "id": "077e64c1",
   "metadata": {},
   "source": [
    "### Step 4: Joining EMI maksegnit data and satellite data together\n",
    "We now have EMI station data, which is indexed with `'YEAR' 'Month'` (`emiMonth`), and satellite data, indexed in the same way (`satMonth`). We can now join them, making values with similar index end up in the same row."
   ]
  },
  {
   "cell_type": "code",
   "execution_count": null,
   "id": "32365baa",
   "metadata": {},
   "outputs": [],
   "source": [
    "emi_sat_joined = emiMonth.join(satMonth)\n",
    "emi_sat_joined"
   ]
  },
  {
   "cell_type": "markdown",
   "id": "dc1c12db",
   "metadata": {},
   "source": [
    "This looked like a lot of steps. However, you must realize:\n",
    "- Once you have coded those steps, you can use similar code for other data files, and you only need to make small changes to the code.\n",
    "- All individual steps used are not difficult. The challenge is in systematically combining the steps needed to reach your goal.\n",
    "- If we put all code together in one cell and combine some steps, it already looks smaller (see below)."
   ]
  },
  {
   "cell_type": "code",
   "execution_count": null,
   "id": "c5af243e",
   "metadata": {},
   "outputs": [],
   "source": [
    "### All steps for combining Maksegnit station and satellite data combined\n",
    "\n",
    "# Import necessary packages\n",
    "import pandas as pd\n",
    "import numpy as np\n",
    "import xarray as xr\n",
    "\n",
    "# Load data, select latitudes and longitudes for the satellite data\n",
    "emiTemp = pd.read_csv('makTemp.csv')\n",
    "satTempWorld = xr.open_dataset('temperatures.nc')\n",
    "satTempMak = satTempWorld.air[:, (satTempWorld.lat > 12) & (satTempWorld.lat < 13), \n",
    "                                 (satTempWorld.lon > 37) & (satTempWorld.lon < 38)]\n",
    "\n",
    "# Turn emi station data into monthly averages\n",
    "emiMonth = emiTemp.get(['YEAR', 'Month', 'temperature']).groupby(by=['YEAR', 'Month']).mean()\n",
    "\n",
    "# Take the average over latitudes and longitudes, turn the result into a dataframe, and set 'YEAR' and 'Month' as its index\n",
    "satTempTimedf = np.mean(satTempMak, axis=(1, 2)).to_dataframe().reset_index()\n",
    "satTempTimedf['YEAR'] = satTempTimedf.time.dt.year\n",
    "satTempTimedf['Month'] = satTempTimedf.time.dt.month\n",
    "satMonth = satTempTimedf.set_index(['YEAR', 'Month']).drop(columns='time')\n",
    "\n",
    "# Join the two dataframes\n",
    "emi_sat_joined = emiMonth.join(satMonth)\n",
    "emi_sat_joined"
   ]
  },
  {
   "cell_type": "markdown",
   "id": "ea102004",
   "metadata": {},
   "source": [
    "Most importantly, whether you think it is a lot of work or not, it is worth it: we now have a dataframe with station and satellite data next to each other. It is now very easy to perform operations like **filling missing data** (filling station data based on the satellite data) or **bias correction** (check for a systematic difference between satellite and station, and for example multiply one column with a value calculated from the other column), to name a few."
   ]
  }
 ],
 "metadata": {
  "kernelspec": {
   "display_name": "Python 3",
   "language": "python",
   "name": "python3"
  },
  "language_info": {
   "codemirror_mode": {
    "name": "ipython",
    "version": 3
   },
   "file_extension": ".py",
   "mimetype": "text/x-python",
   "name": "python",
   "nbconvert_exporter": "python",
   "pygments_lexer": "ipython3",
   "version": "3.7.11"
  }
 },
 "nbformat": 4,
 "nbformat_minor": 5
}
